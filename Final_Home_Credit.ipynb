{
 "cells": [
  {
   "cell_type": "code",
   "execution_count": null,
   "metadata": {
    "id": "6ExAIpBXh_Qf"
   },
   "outputs": [],
   "source": [
    "# from google.colab import drive\n",
    "# drive.mount(\"/content/gdrive\")"
   ]
  },
  {
   "cell_type": "code",
   "execution_count": null,
   "metadata": {
    "id": "orWnc0OriMWE"
   },
   "outputs": [],
   "source": [
    "# path_googledrive = \"gdrive/MyDrive/Colab Notebooks/homeloan/\""
   ]
  },
  {
   "cell_type": "code",
   "execution_count": null,
   "metadata": {
    "id": "mK09QnwZgryd"
   },
   "outputs": [],
   "source": [
    "path = r\"E:\\Users\\LENOVO\\Desktop\\newwork\\homeproject\\home-credit-default-risk\""
   ]
  },
  {
   "cell_type": "code",
   "execution_count": null,
   "metadata": {
    "_cell_guid": "b1076dfc-b9ad-4769-8c92-a6c4dae69d19",
    "_uuid": "8f2839f25d086af736a60e9eeb907d3b93b6e0e5",
    "execution": {
     "iopub.execute_input": "2021-02-08T17:31:38.623358Z",
     "iopub.status.busy": "2021-02-08T17:31:38.622578Z",
     "iopub.status.idle": "2021-02-08T17:31:39.543102Z",
     "shell.execute_reply": "2021-02-08T17:31:39.543761Z"
    },
    "id": "sLAFo_Hwh7_b",
    "papermill": {
     "duration": 0.987594,
     "end_time": "2021-02-08T17:31:39.544190",
     "exception": false,
     "start_time": "2021-02-08T17:31:38.556596",
     "status": "completed"
    },
    "tags": []
   },
   "outputs": [],
   "source": [
    "# This Python 3 environment comes with many helpful analytics libraries installed\n",
    "# It is defined by the kaggle/python Docker image: https://github.com/kaggle/docker-python\n",
    "# For example, here's several helpful packages to load\n",
    "\n",
    "import numpy as np # linear algebra\n",
    "import pandas as pd # data processing, CSV file I/O (e.g. pd.read_csv)\n",
    "import seaborn as sns\n",
    "import matplotlib.pyplot as plt\n",
    "%matplotlib inline\n",
    "import warnings\n",
    "warnings.filterwarnings(\"ignore\")\n",
    "\n",
    "\n",
    "# Input data files are available in the read-only \"../input/\" directory\n",
    "# For example, running this (by clicking run or pressing Shift+Enter) will list all files under the input directory\n",
    "\n",
    "\n",
    "# You can write up to 20GB to the current directory (/kaggle/working/) that gets preserved as output when you create a version using \"Save & Run All\" \n",
    "# You can also write temporary files to /kaggle/temp/, but they won't be saved outside of the current session"
   ]
  },
  {
   "cell_type": "code",
   "execution_count": null,
   "metadata": {
    "execution": {
     "iopub.execute_input": "2021-02-08T17:31:39.658577Z",
     "iopub.status.busy": "2021-02-08T17:31:39.657751Z",
     "iopub.status.idle": "2021-02-08T17:33:05.400007Z",
     "shell.execute_reply": "2021-02-08T17:33:05.400569Z"
    },
    "id": "_PIB4Cg9h7_d",
    "papermill": {
     "duration": 85.802789,
     "end_time": "2021-02-08T17:33:05.400815",
     "exception": false,
     "start_time": "2021-02-08T17:31:39.598026",
     "status": "completed"
    },
    "tags": []
   },
   "outputs": [],
   "source": [
    "application_train = pd.read_csv(path + \"/application_train.csv\")\n",
    "application_test = pd.read_csv(path + \"/application_test.csv\")\n",
    "\n",
    "bureau = pd.read_csv(path + \"/bureau.csv\")\n",
    "bureau_balance = pd.read_csv(path + \"/bureau_balance.csv\")\n",
    "\n",
    "credit_card_balance = pd.read_csv(path + \"/credit_card_balance.csv\")\n",
    "installments_payments = pd.read_csv(path + \"/installments_payments.csv\")\n",
    "\n",
    "POS_CASH_balance = pd.read_csv(path + \"/POS_CASH_balance.csv\")\n",
    "previous_application = pd.read_csv(path + \"/previous_application.csv\")"
   ]
  },
  {
   "cell_type": "code",
   "execution_count": null,
   "metadata": {
    "id": "TiXPvbmQgrye"
   },
   "outputs": [],
   "source": [
    "train = pd.read_csv(path + \"/application_train.csv\")"
   ]
  },
  {
   "cell_type": "code",
   "execution_count": null,
   "metadata": {
    "execution": {
     "iopub.execute_input": "2021-02-08T17:33:05.510197Z",
     "iopub.status.busy": "2021-02-08T17:33:05.509508Z",
     "iopub.status.idle": "2021-02-08T17:33:05.513647Z",
     "shell.execute_reply": "2021-02-08T17:33:05.514274Z"
    },
    "id": "uAtzXpVfh7_e",
    "papermill": {
     "duration": 0.061033,
     "end_time": "2021-02-08T17:33:05.514493",
     "exception": false,
     "start_time": "2021-02-08T17:33:05.453460",
     "status": "completed"
    },
    "tags": []
   },
   "outputs": [],
   "source": [
    "dataframe_dict = {\"application_train\": application_train,\n",
    "                  \"application_test\": application_test,\n",
    "                  \"bureau\": bureau,\n",
    "                  \"bureau_balance\" : bureau_balance,\n",
    "                  \"credit_card_balance\": credit_card_balance,\n",
    "                  \"installments_payments\": installments_payments,\n",
    "                  \"POS_CASH_balance\": POS_CASH_balance,\n",
    "                  \"previous_application\": previous_application               \n",
    "    \n",
    "}\n"
   ]
  },
  {
   "cell_type": "markdown",
   "metadata": {
    "id": "duirXsoYh7_f",
    "papermill": {
     "duration": 0.053313,
     "end_time": "2021-02-08T17:33:05.620171",
     "exception": false,
     "start_time": "2021-02-08T17:33:05.566858",
     "status": "completed"
    },
    "tags": []
   },
   "source": [
    "Basic data checks\n"
   ]
  },
  {
   "cell_type": "markdown",
   "metadata": {
    "id": "97mf3x_jh7_f",
    "papermill": {
     "duration": 0.051867,
     "end_time": "2021-02-08T17:33:05.723995",
     "exception": false,
     "start_time": "2021-02-08T17:33:05.672128",
     "status": "completed"
    },
    "tags": []
   },
   "source": [
    "shape"
   ]
  },
  {
   "cell_type": "code",
   "execution_count": null,
   "metadata": {
    "colab": {
     "base_uri": "https://localhost:8080/"
    },
    "execution": {
     "iopub.execute_input": "2021-02-08T17:33:05.835024Z",
     "iopub.status.busy": "2021-02-08T17:33:05.834330Z",
     "iopub.status.idle": "2021-02-08T17:33:05.842254Z",
     "shell.execute_reply": "2021-02-08T17:33:05.841499Z"
    },
    "id": "dxeZ8v4Sh7_f",
    "outputId": "7570c0be-4de1-4796-9134-9e2c4e7e661d",
    "papermill": {
     "duration": 0.064789,
     "end_time": "2021-02-08T17:33:05.842422",
     "exception": false,
     "start_time": "2021-02-08T17:33:05.777633",
     "status": "completed"
    },
    "tags": []
   },
   "outputs": [
    {
     "name": "stdout",
     "output_type": "stream",
     "text": [
      "Shape of application_train is (307511, 122)\n",
      "Shape of application_test is (48744, 121)\n",
      "Shape of bureau is (1716428, 17)\n",
      "Shape of bureau_balance is (27299925, 3)\n",
      "Shape of credit_card_balance is (3840312, 23)\n",
      "Shape of installments_payments is (13605401, 8)\n",
      "Shape of POS_CASH_balance is (10001358, 8)\n",
      "Shape of previous_application is (1670214, 37)\n"
     ]
    }
   ],
   "source": [
    "for key in dataframe_dict:\n",
    "    print(\"Shape of {0} is {1}\".format(key, dataframe_dict[key].shape))"
   ]
  },
  {
   "cell_type": "code",
   "execution_count": null,
   "metadata": {
    "colab": {
     "base_uri": "https://localhost:8080/"
    },
    "execution": {
     "iopub.execute_input": "2021-02-08T17:33:05.960149Z",
     "iopub.status.busy": "2021-02-08T17:33:05.959302Z",
     "iopub.status.idle": "2021-02-08T17:33:05.963206Z",
     "shell.execute_reply": "2021-02-08T17:33:05.962646Z"
    },
    "id": "ClcLvHPxh7_g",
    "outputId": "c82de3a3-ea7d-4db9-8317-b1157e093d78",
    "papermill": {
     "duration": 0.066173,
     "end_time": "2021-02-08T17:33:05.963366",
     "exception": false,
     "start_time": "2021-02-08T17:33:05.897193",
     "status": "completed"
    },
    "tags": []
   },
   "outputs": [
    {
     "data": {
      "text/html": [
       "<div>\n",
       "<style scoped>\n",
       "    .dataframe tbody tr th:only-of-type {\n",
       "        vertical-align: middle;\n",
       "    }\n",
       "\n",
       "    .dataframe tbody tr th {\n",
       "        vertical-align: top;\n",
       "    }\n",
       "\n",
       "    .dataframe thead th {\n",
       "        text-align: right;\n",
       "    }\n",
       "</style>\n",
       "<table border=\"1\" class=\"dataframe\">\n",
       "  <thead>\n",
       "    <tr style=\"text-align: right;\">\n",
       "      <th></th>\n",
       "      <th>SK_ID_CURR</th>\n",
       "      <th>TARGET</th>\n",
       "      <th>NAME_CONTRACT_TYPE</th>\n",
       "      <th>CODE_GENDER</th>\n",
       "      <th>FLAG_OWN_CAR</th>\n",
       "      <th>FLAG_OWN_REALTY</th>\n",
       "      <th>CNT_CHILDREN</th>\n",
       "      <th>AMT_INCOME_TOTAL</th>\n",
       "      <th>AMT_CREDIT</th>\n",
       "      <th>AMT_ANNUITY</th>\n",
       "      <th>...</th>\n",
       "      <th>FLAG_DOCUMENT_18</th>\n",
       "      <th>FLAG_DOCUMENT_19</th>\n",
       "      <th>FLAG_DOCUMENT_20</th>\n",
       "      <th>FLAG_DOCUMENT_21</th>\n",
       "      <th>AMT_REQ_CREDIT_BUREAU_HOUR</th>\n",
       "      <th>AMT_REQ_CREDIT_BUREAU_DAY</th>\n",
       "      <th>AMT_REQ_CREDIT_BUREAU_WEEK</th>\n",
       "      <th>AMT_REQ_CREDIT_BUREAU_MON</th>\n",
       "      <th>AMT_REQ_CREDIT_BUREAU_QRT</th>\n",
       "      <th>AMT_REQ_CREDIT_BUREAU_YEAR</th>\n",
       "    </tr>\n",
       "  </thead>\n",
       "  <tbody>\n",
       "    <tr>\n",
       "      <th>0</th>\n",
       "      <td>100002</td>\n",
       "      <td>1</td>\n",
       "      <td>Cash loans</td>\n",
       "      <td>M</td>\n",
       "      <td>N</td>\n",
       "      <td>Y</td>\n",
       "      <td>0</td>\n",
       "      <td>202500.0</td>\n",
       "      <td>406597.5</td>\n",
       "      <td>24700.5</td>\n",
       "      <td>...</td>\n",
       "      <td>0</td>\n",
       "      <td>0</td>\n",
       "      <td>0</td>\n",
       "      <td>0</td>\n",
       "      <td>0.0</td>\n",
       "      <td>0.0</td>\n",
       "      <td>0.0</td>\n",
       "      <td>0.0</td>\n",
       "      <td>0.0</td>\n",
       "      <td>1.0</td>\n",
       "    </tr>\n",
       "    <tr>\n",
       "      <th>1</th>\n",
       "      <td>100003</td>\n",
       "      <td>0</td>\n",
       "      <td>Cash loans</td>\n",
       "      <td>F</td>\n",
       "      <td>N</td>\n",
       "      <td>N</td>\n",
       "      <td>0</td>\n",
       "      <td>270000.0</td>\n",
       "      <td>1293502.5</td>\n",
       "      <td>35698.5</td>\n",
       "      <td>...</td>\n",
       "      <td>0</td>\n",
       "      <td>0</td>\n",
       "      <td>0</td>\n",
       "      <td>0</td>\n",
       "      <td>0.0</td>\n",
       "      <td>0.0</td>\n",
       "      <td>0.0</td>\n",
       "      <td>0.0</td>\n",
       "      <td>0.0</td>\n",
       "      <td>0.0</td>\n",
       "    </tr>\n",
       "    <tr>\n",
       "      <th>2</th>\n",
       "      <td>100004</td>\n",
       "      <td>0</td>\n",
       "      <td>Revolving loans</td>\n",
       "      <td>M</td>\n",
       "      <td>Y</td>\n",
       "      <td>Y</td>\n",
       "      <td>0</td>\n",
       "      <td>67500.0</td>\n",
       "      <td>135000.0</td>\n",
       "      <td>6750.0</td>\n",
       "      <td>...</td>\n",
       "      <td>0</td>\n",
       "      <td>0</td>\n",
       "      <td>0</td>\n",
       "      <td>0</td>\n",
       "      <td>0.0</td>\n",
       "      <td>0.0</td>\n",
       "      <td>0.0</td>\n",
       "      <td>0.0</td>\n",
       "      <td>0.0</td>\n",
       "      <td>0.0</td>\n",
       "    </tr>\n",
       "    <tr>\n",
       "      <th>3</th>\n",
       "      <td>100006</td>\n",
       "      <td>0</td>\n",
       "      <td>Cash loans</td>\n",
       "      <td>F</td>\n",
       "      <td>N</td>\n",
       "      <td>Y</td>\n",
       "      <td>0</td>\n",
       "      <td>135000.0</td>\n",
       "      <td>312682.5</td>\n",
       "      <td>29686.5</td>\n",
       "      <td>...</td>\n",
       "      <td>0</td>\n",
       "      <td>0</td>\n",
       "      <td>0</td>\n",
       "      <td>0</td>\n",
       "      <td>NaN</td>\n",
       "      <td>NaN</td>\n",
       "      <td>NaN</td>\n",
       "      <td>NaN</td>\n",
       "      <td>NaN</td>\n",
       "      <td>NaN</td>\n",
       "    </tr>\n",
       "    <tr>\n",
       "      <th>4</th>\n",
       "      <td>100007</td>\n",
       "      <td>0</td>\n",
       "      <td>Cash loans</td>\n",
       "      <td>M</td>\n",
       "      <td>N</td>\n",
       "      <td>Y</td>\n",
       "      <td>0</td>\n",
       "      <td>121500.0</td>\n",
       "      <td>513000.0</td>\n",
       "      <td>21865.5</td>\n",
       "      <td>...</td>\n",
       "      <td>0</td>\n",
       "      <td>0</td>\n",
       "      <td>0</td>\n",
       "      <td>0</td>\n",
       "      <td>0.0</td>\n",
       "      <td>0.0</td>\n",
       "      <td>0.0</td>\n",
       "      <td>0.0</td>\n",
       "      <td>0.0</td>\n",
       "      <td>0.0</td>\n",
       "    </tr>\n",
       "  </tbody>\n",
       "</table>\n",
       "<p>5 rows × 122 columns</p>\n",
       "</div>"
      ],
      "text/plain": [
       "   SK_ID_CURR  TARGET NAME_CONTRACT_TYPE CODE_GENDER FLAG_OWN_CAR  \\\n",
       "0      100002       1         Cash loans           M            N   \n",
       "1      100003       0         Cash loans           F            N   \n",
       "2      100004       0    Revolving loans           M            Y   \n",
       "3      100006       0         Cash loans           F            N   \n",
       "4      100007       0         Cash loans           M            N   \n",
       "\n",
       "  FLAG_OWN_REALTY  CNT_CHILDREN  AMT_INCOME_TOTAL  AMT_CREDIT  AMT_ANNUITY  \\\n",
       "0               Y             0          202500.0    406597.5      24700.5   \n",
       "1               N             0          270000.0   1293502.5      35698.5   \n",
       "2               Y             0           67500.0    135000.0       6750.0   \n",
       "3               Y             0          135000.0    312682.5      29686.5   \n",
       "4               Y             0          121500.0    513000.0      21865.5   \n",
       "\n",
       "   ...  FLAG_DOCUMENT_18 FLAG_DOCUMENT_19 FLAG_DOCUMENT_20 FLAG_DOCUMENT_21  \\\n",
       "0  ...                 0                0                0                0   \n",
       "1  ...                 0                0                0                0   \n",
       "2  ...                 0                0                0                0   \n",
       "3  ...                 0                0                0                0   \n",
       "4  ...                 0                0                0                0   \n",
       "\n",
       "  AMT_REQ_CREDIT_BUREAU_HOUR AMT_REQ_CREDIT_BUREAU_DAY  \\\n",
       "0                        0.0                       0.0   \n",
       "1                        0.0                       0.0   \n",
       "2                        0.0                       0.0   \n",
       "3                        NaN                       NaN   \n",
       "4                        0.0                       0.0   \n",
       "\n",
       "   AMT_REQ_CREDIT_BUREAU_WEEK  AMT_REQ_CREDIT_BUREAU_MON  \\\n",
       "0                         0.0                        0.0   \n",
       "1                         0.0                        0.0   \n",
       "2                         0.0                        0.0   \n",
       "3                         NaN                        NaN   \n",
       "4                         0.0                        0.0   \n",
       "\n",
       "   AMT_REQ_CREDIT_BUREAU_QRT  AMT_REQ_CREDIT_BUREAU_YEAR  \n",
       "0                        0.0                         1.0  \n",
       "1                        0.0                         0.0  \n",
       "2                        0.0                         0.0  \n",
       "3                        NaN                         NaN  \n",
       "4                        0.0                         0.0  \n",
       "\n",
       "[5 rows x 122 columns]"
      ]
     },
     "execution_count": 10,
     "metadata": {
      "tags": []
     },
     "output_type": "execute_result"
    }
   ],
   "source": [
    "application_train.head()"
   ]
  },
  {
   "cell_type": "markdown",
   "metadata": {
    "id": "7jW3j_deh7_g",
    "papermill": {
     "duration": 0.053374,
     "end_time": "2021-02-08T17:33:06.071020",
     "exception": false,
     "start_time": "2021-02-08T17:33:06.017646",
     "status": "completed"
    },
    "tags": []
   },
   "source": [
    "Removing duplicates"
   ]
  },
  {
   "cell_type": "code",
   "execution_count": null,
   "metadata": {
    "execution": {
     "iopub.execute_input": "2021-02-08T17:33:06.189639Z",
     "iopub.status.busy": "2021-02-08T17:33:06.188967Z",
     "iopub.status.idle": "2021-02-08T17:33:16.795387Z",
     "shell.execute_reply": "2021-02-08T17:33:16.795983Z"
    },
    "id": "ydsFjBCPh7_g",
    "outputId": "660e3e5f-1453-4a4a-d401-e413a61b3195",
    "papermill": {
     "duration": 10.670804,
     "end_time": "2021-02-08T17:33:16.796224",
     "exception": false,
     "start_time": "2021-02-08T17:33:06.125420",
     "status": "completed"
    },
    "tags": []
   },
   "outputs": [
    {
     "ename": "NameError",
     "evalue": "name 'application_train' is not defined",
     "output_type": "error",
     "traceback": [
      "\u001b[1;31m---------------------------------------------------------------------------\u001b[0m",
      "\u001b[1;31mNameError\u001b[0m                                 Traceback (most recent call last)",
      "\u001b[1;32m<ipython-input-4-386f1460d0bb>\u001b[0m in \u001b[0;36m<module>\u001b[1;34m\u001b[0m\n\u001b[1;32m----> 1\u001b[1;33m \u001b[0mapplication_train\u001b[0m\u001b[1;33m.\u001b[0m\u001b[0mdrop_duplicates\u001b[0m\u001b[1;33m(\u001b[0m\u001b[0minplace\u001b[0m\u001b[1;33m=\u001b[0m \u001b[1;32mTrue\u001b[0m\u001b[1;33m)\u001b[0m\u001b[1;33m\u001b[0m\u001b[1;33m\u001b[0m\u001b[0m\n\u001b[0m\u001b[0;32m      2\u001b[0m \u001b[0mbureau\u001b[0m\u001b[1;33m.\u001b[0m\u001b[0mdrop_duplicates\u001b[0m\u001b[1;33m(\u001b[0m\u001b[0minplace\u001b[0m\u001b[1;33m=\u001b[0m \u001b[1;32mTrue\u001b[0m\u001b[1;33m)\u001b[0m\u001b[1;33m\u001b[0m\u001b[1;33m\u001b[0m\u001b[0m\n\u001b[0;32m      3\u001b[0m \u001b[1;31m# bureau_balance.drop_duplicates(inplace= True)\u001b[0m\u001b[1;33m\u001b[0m\u001b[1;33m\u001b[0m\u001b[1;33m\u001b[0m\u001b[0m\n\u001b[0;32m      4\u001b[0m \u001b[1;31m# credit_card_balance.drop_duplicates(inplace= True)\u001b[0m\u001b[1;33m\u001b[0m\u001b[1;33m\u001b[0m\u001b[1;33m\u001b[0m\u001b[0m\n\u001b[0;32m      5\u001b[0m \u001b[1;31m# installments_payments.drop_duplicates(inplace= True)\u001b[0m\u001b[1;33m\u001b[0m\u001b[1;33m\u001b[0m\u001b[1;33m\u001b[0m\u001b[0m\n",
      "\u001b[1;31mNameError\u001b[0m: name 'application_train' is not defined"
     ]
    }
   ],
   "source": [
    "application_train.drop_duplicates(inplace= True)\n",
    "bureau.drop_duplicates(inplace= True)\n",
    "# bureau_balance.drop_duplicates(inplace= True)\n",
    "# credit_card_balance.drop_duplicates(inplace= True)\n",
    "# installments_payments.drop_duplicates(inplace= True)\n",
    "# POS_CASH_balance.drop_duplicates(inplace= True)\n",
    "previous_application.drop_duplicates(inplace= True)"
   ]
  },
  {
   "cell_type": "code",
   "execution_count": null,
   "metadata": {
    "id": "_ds1jZU1gryi",
    "outputId": "ef38e032-9c90-47b1-d2a2-af16cfa25028"
   },
   "outputs": [
    {
     "data": {
      "text/plain": [
       "<AxesSubplot:xlabel='CODE_GENDER', ylabel='count'>"
      ]
     },
     "execution_count": 13,
     "metadata": {
      "tags": []
     },
     "output_type": "execute_result"
    },
    {
     "data": {
      "image/png": "[encoded data removed]",
      "text/plain": [
       "<Figure size 720x504 with 1 Axes>"
      ]
     },
     "metadata": {
      "needs_background": "light",
      "tags": []
     },
     "output_type": "display_data"
    }
   ],
   "source": [
    "fig, ax = plt.subplots(figsize=(10,7))\n",
    "sns.countplot(x='CODE_GENDER',data=train)"
   ]
  },
  {
   "cell_type": "code",
   "execution_count": null,
   "metadata": {
    "id": "Bq50eRKOgryj",
    "outputId": "64188902-4d69-44b5-fc7c-e5706730316b",
    "scrolled": true
   },
   "outputs": [
    {
     "name": "stdout",
     "output_type": "stream",
     "text": [
      "Surprisingly, females are the highest borrowers with counts:\n",
      "F      202448\n",
      "M      105059\n",
      "XNA         4\n",
      "Name: CODE_GENDER, dtype: int64\n"
     ]
    }
   ],
   "source": [
    "print(\"Surprisingly, females are the highest borrowers with counts:\\n{}\".format(train.CODE_GENDER.value_counts()))"
   ]
  },
  {
   "cell_type": "code",
   "execution_count": null,
   "metadata": {
    "id": "H3TSDnfugryj",
    "outputId": "55ea1a7f-fd45-4468-b9cd-df8fda234e10"
   },
   "outputs": [
    {
     "data": {
      "text/plain": [
       "<AxesSubplot:xlabel='TARGET', ylabel='count'>"
      ]
     },
     "execution_count": 15,
     "metadata": {
      "tags": []
     },
     "output_type": "execute_result"
    },
    {
     "data": {
      "image/png": "[encoded data removed]",
      "text/plain": [
       "<Figure size 720x504 with 1 Axes>"
      ]
     },
     "metadata": {
      "needs_background": "light",
      "tags": []
     },
     "output_type": "display_data"
    }
   ],
   "source": [
    "fig, ax = plt.subplots(figsize=(10,7))\n",
    "sns.countplot(x ='TARGET',data=train, hue='TARGET',palette=\"Set1\")"
   ]
  },
  {
   "cell_type": "code",
   "execution_count": null,
   "metadata": {
    "id": "EE_if5uYgryj",
    "outputId": "d1892103-87a6-4d12-c502-e305aefd18ed"
   },
   "outputs": [
    {
     "data": {
      "text/plain": [
       "<AxesSubplot:xlabel='TARGET', ylabel='count'>"
      ]
     },
     "execution_count": 16,
     "metadata": {
      "tags": []
     },
     "output_type": "execute_result"
    },
    {
     "data": {
      "image/png": "[encoded data removed]",
      "text/plain": [
       "<Figure size 720x504 with 1 Axes>"
      ]
     },
     "metadata": {
      "needs_background": "light",
      "tags": []
     },
     "output_type": "display_data"
    }
   ],
   "source": [
    "fig, ax = plt.subplots(figsize=(10,7))\n",
    "sns.countplot(x='TARGET',hue='CODE_GENDER',data=train)"
   ]
  },
  {
   "cell_type": "code",
   "execution_count": null,
   "metadata": {
    "id": "kMLqQ93Ogryk",
    "outputId": "3bb35bc2-f7fa-42db-c52a-627e606fd918"
   },
   "outputs": [
    {
     "data": {
      "text/plain": [
       "<AxesSubplot:xlabel='CODE_GENDER', ylabel='count'>"
      ]
     },
     "execution_count": 17,
     "metadata": {
      "tags": []
     },
     "output_type": "execute_result"
    },
    {
     "data": {
      "image/png": "[encoded data removed]",
      "text/plain": [
       "<Figure size 720x504 with 1 Axes>"
      ]
     },
     "metadata": {
      "needs_background": "light",
      "tags": []
     },
     "output_type": "display_data"
    }
   ],
   "source": [
    "fig, ax = plt.subplots(figsize=(10,7))\n",
    "sns.countplot(x='CODE_GENDER', hue='FLAG_OWN_CAR', data=train,palette=\"Set1\")"
   ]
  },
  {
   "cell_type": "code",
   "execution_count": null,
   "metadata": {
    "id": "WxkgaimZgryk",
    "outputId": "d84dda31-93d3-4243-f7b9-6c32d9767347"
   },
   "outputs": [
    {
     "data": {
      "text/plain": [
       "<AxesSubplot:xlabel='CODE_GENDER', ylabel='OWN_CAR_AGE'>"
      ]
     },
     "execution_count": 18,
     "metadata": {
      "tags": []
     },
     "output_type": "execute_result"
    },
    {
     "data": {
      "image/png": "[encoded data removed]",
      "text/plain": [
       "<Figure size 720x504 with 1 Axes>"
      ]
     },
     "metadata": {
      "needs_background": "light",
      "tags": []
     },
     "output_type": "display_data"
    }
   ],
   "source": [
    "fig, ax = plt.subplots(figsize=(10,7))\n",
    "sns.boxplot(x='CODE_GENDER',y='OWN_CAR_AGE',hue='TARGET',data=train,palette=\"Set1\")"
   ]
  },
  {
   "cell_type": "code",
   "execution_count": null,
   "metadata": {
    "id": "QwEvxUS-gryk",
    "outputId": "36d34a0c-9f88-4b75-ce2a-ee1c621c97df"
   },
   "outputs": [
    {
     "data": {
      "text/plain": [
       "<AxesSubplot:xlabel='CODE_GENDER', ylabel='OWN_CAR_AGE'>"
      ]
     },
     "execution_count": 19,
     "metadata": {
      "tags": []
     },
     "output_type": "execute_result"
    },
    {
     "data": {
      "image/png": "[encoded data removed]",
      "text/plain": [
       "<Figure size 720x504 with 1 Axes>"
      ]
     },
     "metadata": {
      "needs_background": "light",
      "tags": []
     },
     "output_type": "display_data"
    }
   ],
   "source": [
    "fig, ax = plt.subplots(figsize=(10,7))\n",
    "sns.violinplot(x='CODE_GENDER',y='OWN_CAR_AGE',hue='TARGET',data=train,palette=\"Set2\")"
   ]
  },
  {
   "cell_type": "markdown",
   "metadata": {
    "id": "rcHz5D9Uh7_h",
    "papermill": {
     "duration": 0.053635,
     "end_time": "2021-02-08T17:33:16.902466",
     "exception": false,
     "start_time": "2021-02-08T17:33:16.848831",
     "status": "completed"
    },
    "tags": []
   },
   "source": [
    "Primary key check"
   ]
  },
  {
   "cell_type": "code",
   "execution_count": null,
   "metadata": {
    "id": "rP8yYYLagryl",
    "outputId": "3f3a313a-4665-482d-a46c-e971937684d9"
   },
   "outputs": [
    {
     "data": {
      "text/plain": [
       "<AxesSubplot:xlabel='OWN_CAR_AGE', ylabel='Density'>"
      ]
     },
     "execution_count": 20,
     "metadata": {
      "tags": []
     },
     "output_type": "execute_result"
    },
    {
     "data": {
      "image/png": "[encoded data removed]",
      "text/plain": [
       "<Figure size 1080x504 with 2 Axes>"
      ]
     },
     "metadata": {
      "needs_background": "light",
      "tags": []
     },
     "output_type": "display_data"
    }
   ],
   "source": [
    "fig, ax = plt.subplots(ncols=2,nrows=1,figsize=(15,7))\n",
    "plt.subplot(1,2,1)\n",
    "sns.distplot(train['OWN_CAR_AGE'].dropna(),norm_hist=False,kde=False)\n",
    "plt.subplot(1,2,2)\n",
    "sns.distplot(train['OWN_CAR_AGE'].dropna(),norm_hist=False,kde=True)"
   ]
  },
  {
   "cell_type": "code",
   "execution_count": null,
   "metadata": {
    "id": "vILBoRuEgryl",
    "outputId": "bc415b00-0b6c-489a-f1b8-5f6c4da228a1"
   },
   "outputs": [
    {
     "data": {
      "text/plain": [
       "<AxesSubplot:xlabel='CODE_GENDER', ylabel='CNT_CHILDREN'>"
      ]
     },
     "execution_count": 21,
     "metadata": {
      "tags": []
     },
     "output_type": "execute_result"
    },
    {
     "data": {
      "image/png": "[encoded data removed]",
      "text/plain": [
       "<Figure size 720x504 with 1 Axes>"
      ]
     },
     "metadata": {
      "needs_background": "light",
      "tags": []
     },
     "output_type": "display_data"
    }
   ],
   "source": [
    "fig, ax = plt.subplots(figsize=(10,7))\n",
    "sns.boxplot(x='CODE_GENDER',y='CNT_CHILDREN',hue='TARGET',data=train)"
   ]
  },
  {
   "cell_type": "code",
   "execution_count": null,
   "metadata": {
    "id": "tqt7M61Rgrym",
    "outputId": "c8dbc967-4e0d-4f56-ae01-183f042a87ea"
   },
   "outputs": [
    {
     "data": {
      "text/plain": [
       "<matplotlib.legend.Legend at 0x16a0fa67790>"
      ]
     },
     "execution_count": 22,
     "metadata": {
      "tags": []
     },
     "output_type": "execute_result"
    },
    {
     "data": {
      "image/png": "[encoded data removed]",
      "text/plain": [
       "<Figure size 1080x504 with 1 Axes>"
      ]
     },
     "metadata": {
      "needs_background": "light",
      "tags": []
     },
     "output_type": "display_data"
    }
   ],
   "source": [
    "fig, ax = plt.subplots(figsize=(15,7))\n",
    "sns.countplot(x='TARGET',hue='CNT_CHILDREN',data=train,palette=\"hls\")\n",
    "plt.legend(loc=1)"
   ]
  },
  {
   "cell_type": "code",
   "execution_count": null,
   "metadata": {
    "id": "fV6klxFEgrym",
    "outputId": "2b10f5a3-5f52-41d9-ee76-fd49d2d6f986"
   },
   "outputs": [
    {
     "data": {
      "text/plain": [
       "(array([ 0,  1,  2,  3,  4,  5,  6,  7,  8,  9, 10, 11, 12, 13, 14, 15, 16,\n",
       "        17]),\n",
       " [Text(0, 0, 'Laborers'),\n",
       "  Text(1, 0, 'Core staff'),\n",
       "  Text(2, 0, 'Accountants'),\n",
       "  Text(3, 0, 'Managers'),\n",
       "  Text(4, 0, 'Drivers'),\n",
       "  Text(5, 0, 'Sales staff'),\n",
       "  Text(6, 0, 'Cleaning staff'),\n",
       "  Text(7, 0, 'Cooking staff'),\n",
       "  Text(8, 0, 'Private service staff'),\n",
       "  Text(9, 0, 'Medicine staff'),\n",
       "  Text(10, 0, 'Security staff'),\n",
       "  Text(11, 0, 'High skill tech staff'),\n",
       "  Text(12, 0, 'Waiters/barmen staff'),\n",
       "  Text(13, 0, 'Low-skill Laborers'),\n",
       "  Text(14, 0, 'Realty agents'),\n",
       "  Text(15, 0, 'Secretaries'),\n",
       "  Text(16, 0, 'IT staff'),\n",
       "  Text(17, 0, 'HR staff')])"
      ]
     },
     "execution_count": 23,
     "metadata": {
      "tags": []
     },
     "output_type": "execute_result"
    },
    {
     "data": {
      "image/png": "[encoded data removed]",
      "text/plain": [
       "<Figure size 1080x504 with 1 Axes>"
      ]
     },
     "metadata": {
      "needs_background": "light",
      "tags": []
     },
     "output_type": "display_data"
    }
   ],
   "source": [
    "fig, ax = plt.subplots(figsize=(15,7))\n",
    "sns.countplot(x='OCCUPATION_TYPE',data=train)\n",
    "plt.xlabel(\"Occupation Type\")\n",
    "plt.xticks(rotation=70)"
   ]
  },
  {
   "cell_type": "code",
   "execution_count": null,
   "metadata": {
    "id": "KYKWp7Aqgrym",
    "outputId": "87a9df4b-fa3b-4c36-b269-929954ad036b"
   },
   "outputs": [
    {
     "data": {
      "text/plain": [
       "Text(0, 0.5, 'Average Annual family income')"
      ]
     },
     "execution_count": 24,
     "metadata": {
      "tags": []
     },
     "output_type": "execute_result"
    },
    {
     "data": {
      "image/png": "[encoded data removed]",
      "text/plain": [
       "<Figure size 1080x504 with 1 Axes>"
      ]
     },
     "metadata": {
      "needs_background": "light",
      "tags": []
     },
     "output_type": "display_data"
    }
   ],
   "source": [
    "fig, ax = plt.subplots(figsize=(15,7))\n",
    "sns.barplot(x='OCCUPATION_TYPE',y='AMT_INCOME_TOTAL',data=train)\n",
    "plt.xticks(rotation=70)\n",
    "plt.xlabel(\"Occupation Type\")\n",
    "plt.ylabel(\"Average Annual family income\")"
   ]
  },
  {
   "cell_type": "code",
   "execution_count": null,
   "metadata": {
    "id": "aI4BaKHsgryn",
    "outputId": "2acaea15-fa96-4832-942b-69b3da28d876"
   },
   "outputs": [
    {
     "data": {
      "text/plain": [
       "Text(0.5, 0, 'Occupation Type')"
      ]
     },
     "execution_count": 25,
     "metadata": {
      "tags": []
     },
     "output_type": "execute_result"
    },
    {
     "data": {
      "image/png": "[encoded data removed]",
      "text/plain": [
       "<Figure size 1080x504 with 1 Axes>"
      ]
     },
     "metadata": {
      "needs_background": "light",
      "tags": []
     },
     "output_type": "display_data"
    }
   ],
   "source": [
    "fig, ax = plt.subplots(figsize=(15,7))\n",
    "sns.countplot(x='OCCUPATION_TYPE',hue='TARGET',data=train,palette=\"Set2\")\n",
    "plt.xticks(rotation=70)\n",
    "plt.xlabel(\"Occupation Type\")"
   ]
  },
  {
   "cell_type": "code",
   "execution_count": null,
   "metadata": {
    "id": "Stxg3zOzgryn"
   },
   "outputs": [],
   "source": [
    "# get the number of people having occupation type and target grouped.\n",
    "Occupation_df = pd.DataFrame(data=train.groupby(['OCCUPATION_TYPE','TARGET']).count()['SK_ID_CURR'])\n",
    "Occupation_df = Occupation_df.reset_index() \n",
    "value_counts = Occupation_df['SK_ID_CURR'].values\n",
    "def repayers_to_applicants_ratio(values):\n",
    "    \"\"\"\n",
    "    Finds the ratio of Repayers to Applicants. This kind of is a \n",
    "    measure for safety. Larger the value better the applicant - More \n",
    "    safe for the company to lend loan to this category of workers.\n",
    "    \n",
    "    values: array of entires whose counts are given\n",
    "    returns the repayers to applicants ratio. \n",
    "    \n",
    "    precondition: The counts are such that the targets alligned are\n",
    "    in order 0 and 1\n",
    "    \"\"\"\n",
    "    flag = 1\n",
    "    ratios = []\n",
    "    for count in range(len(values)):\n",
    "        if flag == 1:\n",
    "            current_number = values[count]\n",
    "            next_number = values[count+1]\n",
    "            ratios.append(current_number/(current_number+next_number))\n",
    "            ratios.append(current_number/(current_number+next_number))\n",
    "        flag=flag*-1\n",
    "    return ratios \n",
    "Occupation_df['Ratio R/A'] = repayers_to_applicants_ratio(value_counts)\n"
   ]
  },
  {
   "cell_type": "code",
   "execution_count": null,
   "metadata": {
    "id": "-rZi9FH3gryn",
    "outputId": "74ef0918-f0a3-4fb5-d366-bb7fe6449636"
   },
   "outputs": [
    {
     "data": {
      "text/html": [
       "<div>\n",
       "<style scoped>\n",
       "    .dataframe tbody tr th:only-of-type {\n",
       "        vertical-align: middle;\n",
       "    }\n",
       "\n",
       "    .dataframe tbody tr th {\n",
       "        vertical-align: top;\n",
       "    }\n",
       "\n",
       "    .dataframe thead th {\n",
       "        text-align: right;\n",
       "    }\n",
       "</style>\n",
       "<table border=\"1\" class=\"dataframe\">\n",
       "  <thead>\n",
       "    <tr style=\"text-align: right;\">\n",
       "      <th></th>\n",
       "      <th>OCCUPATION_TYPE</th>\n",
       "      <th>Ratio R/A</th>\n",
       "    </tr>\n",
       "  </thead>\n",
       "  <tbody>\n",
       "    <tr>\n",
       "      <th>0</th>\n",
       "      <td>Accountants</td>\n",
       "      <td>0.951697</td>\n",
       "    </tr>\n",
       "    <tr>\n",
       "      <th>6</th>\n",
       "      <td>High skill tech staff</td>\n",
       "      <td>0.938401</td>\n",
       "    </tr>\n",
       "    <tr>\n",
       "      <th>10</th>\n",
       "      <td>Managers</td>\n",
       "      <td>0.937860</td>\n",
       "    </tr>\n",
       "    <tr>\n",
       "      <th>3</th>\n",
       "      <td>Core staff</td>\n",
       "      <td>0.936960</td>\n",
       "    </tr>\n",
       "    <tr>\n",
       "      <th>5</th>\n",
       "      <td>HR staff</td>\n",
       "      <td>0.936057</td>\n",
       "    </tr>\n",
       "    <tr>\n",
       "      <th>7</th>\n",
       "      <td>IT staff</td>\n",
       "      <td>0.935361</td>\n",
       "    </tr>\n",
       "    <tr>\n",
       "      <th>12</th>\n",
       "      <td>Private service staff</td>\n",
       "      <td>0.934012</td>\n",
       "    </tr>\n",
       "    <tr>\n",
       "      <th>11</th>\n",
       "      <td>Medicine staff</td>\n",
       "      <td>0.932998</td>\n",
       "    </tr>\n",
       "    <tr>\n",
       "      <th>15</th>\n",
       "      <td>Secretaries</td>\n",
       "      <td>0.929502</td>\n",
       "    </tr>\n",
       "    <tr>\n",
       "      <th>13</th>\n",
       "      <td>Realty agents</td>\n",
       "      <td>0.921438</td>\n",
       "    </tr>\n",
       "    <tr>\n",
       "      <th>1</th>\n",
       "      <td>Cleaning staff</td>\n",
       "      <td>0.903933</td>\n",
       "    </tr>\n",
       "    <tr>\n",
       "      <th>14</th>\n",
       "      <td>Sales staff</td>\n",
       "      <td>0.903682</td>\n",
       "    </tr>\n",
       "    <tr>\n",
       "      <th>2</th>\n",
       "      <td>Cooking staff</td>\n",
       "      <td>0.895560</td>\n",
       "    </tr>\n",
       "    <tr>\n",
       "      <th>8</th>\n",
       "      <td>Laborers</td>\n",
       "      <td>0.894212</td>\n",
       "    </tr>\n",
       "    <tr>\n",
       "      <th>16</th>\n",
       "      <td>Security staff</td>\n",
       "      <td>0.892576</td>\n",
       "    </tr>\n",
       "    <tr>\n",
       "      <th>17</th>\n",
       "      <td>Waiters/barmen staff</td>\n",
       "      <td>0.887240</td>\n",
       "    </tr>\n",
       "    <tr>\n",
       "      <th>4</th>\n",
       "      <td>Drivers</td>\n",
       "      <td>0.886739</td>\n",
       "    </tr>\n",
       "    <tr>\n",
       "      <th>9</th>\n",
       "      <td>Low-skill Laborers</td>\n",
       "      <td>0.828476</td>\n",
       "    </tr>\n",
       "  </tbody>\n",
       "</table>\n",
       "</div>"
      ],
      "text/plain": [
       "          OCCUPATION_TYPE  Ratio R/A\n",
       "0             Accountants   0.951697\n",
       "6   High skill tech staff   0.938401\n",
       "10               Managers   0.937860\n",
       "3              Core staff   0.936960\n",
       "5                HR staff   0.936057\n",
       "7                IT staff   0.935361\n",
       "12  Private service staff   0.934012\n",
       "11         Medicine staff   0.932998\n",
       "15            Secretaries   0.929502\n",
       "13          Realty agents   0.921438\n",
       "1          Cleaning staff   0.903933\n",
       "14            Sales staff   0.903682\n",
       "2           Cooking staff   0.895560\n",
       "8                Laborers   0.894212\n",
       "16         Security staff   0.892576\n",
       "17   Waiters/barmen staff   0.887240\n",
       "4                 Drivers   0.886739\n",
       "9      Low-skill Laborers   0.828476"
      ]
     },
     "execution_count": 27,
     "metadata": {
      "tags": []
     },
     "output_type": "execute_result"
    }
   ],
   "source": [
    "Occupation_ratio_df = Occupation_df.groupby(['OCCUPATION_TYPE','Ratio R/A']).count().drop(['TARGET', 'SK_ID_CURR'],axis=1)\n",
    "Occupation_ratio_df = Occupation_ratio_df.reset_index() \n",
    "Occupation_ratio_df = Occupation_ratio_df.sort_values(['Ratio R/A'],ascending=False)\n",
    "Occupation_ratio_df"
   ]
  },
  {
   "cell_type": "code",
   "execution_count": null,
   "metadata": {
    "id": "IXWdjGaXgryo",
    "outputId": "468847e4-4346-4577-f727-efe64f3ffda8"
   },
   "outputs": [
    {
     "data": {
      "text/plain": [
       "Text(0, 0.5, 'Mean R/A Ratio')"
      ]
     },
     "execution_count": 28,
     "metadata": {
      "tags": []
     },
     "output_type": "execute_result"
    },
    {
     "data": {
      "image/png": "[encoded data removed]",
      "text/plain": [
       "<Figure size 1080x504 with 1 Axes>"
      ]
     },
     "metadata": {
      "needs_background": "light",
      "tags": []
     },
     "output_type": "display_data"
    }
   ],
   "source": [
    "fig,ax = plt.subplots(figsize = (15,7))\n",
    "sns.barplot(x='OCCUPATION_TYPE',y='Ratio R/A',data=Occupation_ratio_df,palette=sns.color_palette(\"GnBu_d\"))\n",
    "plt.xticks(rotation=70)\n",
    "plt.xlabel(\"Occupation Type\")\n",
    "plt.ylabel(\"Mean R/A Ratio\")"
   ]
  },
  {
   "cell_type": "code",
   "execution_count": null,
   "metadata": {
    "id": "Xu1ASimdgryo"
   },
   "outputs": [],
   "source": [
    "train = pd.merge(left=train,right=Occupation_ratio_df,on='OCCUPATION_TYPE')"
   ]
  },
  {
   "cell_type": "code",
   "execution_count": null,
   "metadata": {
    "id": "ML_Sb8MVgryo",
    "outputId": "94156069-840c-41e1-fb68-4ea03f340c0f"
   },
   "outputs": [
    {
     "data": {
      "text/plain": [
       "Text(0.5, 0, 'Gender')"
      ]
     },
     "execution_count": 30,
     "metadata": {
      "tags": []
     },
     "output_type": "execute_result"
    },
    {
     "data": {
      "image/png": "[encoded data removed]",
      "text/plain": [
       "<Figure size 1080x504 with 1 Axes>"
      ]
     },
     "metadata": {
      "needs_background": "light",
      "tags": []
     },
     "output_type": "display_data"
    }
   ],
   "source": [
    "# Find out what is the probability that an applicant will return given that he/she is a male/Female respectively.\n",
    "fig,ax = plt.subplots(figsize = (15,7))\n",
    "sns.countplot(x='CODE_GENDER',data=train,hue='TARGET',palette=sns.color_palette(\"GnBu_d\"))\n",
    "plt.xticks(rotation=70)\n",
    "plt.xlabel(\"Gender\")"
   ]
  },
  {
   "cell_type": "code",
   "execution_count": null,
   "metadata": {
    "id": "-3dBBY5egryp",
    "outputId": "247ec5c6-6a00-4f9f-8ba5-f7d36bb4bdbc"
   },
   "outputs": [
    {
     "data": {
      "text/html": [
       "<div>\n",
       "<style scoped>\n",
       "    .dataframe tbody tr th:only-of-type {\n",
       "        vertical-align: middle;\n",
       "    }\n",
       "\n",
       "    .dataframe tbody tr th {\n",
       "        vertical-align: top;\n",
       "    }\n",
       "\n",
       "    .dataframe thead th {\n",
       "        text-align: right;\n",
       "    }\n",
       "</style>\n",
       "<table border=\"1\" class=\"dataframe\">\n",
       "  <thead>\n",
       "    <tr style=\"text-align: right;\">\n",
       "      <th></th>\n",
       "      <th>CODE_GENDER</th>\n",
       "      <th>TARGET</th>\n",
       "      <th>SK_ID_CURR</th>\n",
       "    </tr>\n",
       "  </thead>\n",
       "  <tbody>\n",
       "    <tr>\n",
       "      <th>0</th>\n",
       "      <td>F</td>\n",
       "      <td>0</td>\n",
       "      <td>119311</td>\n",
       "    </tr>\n",
       "    <tr>\n",
       "      <th>1</th>\n",
       "      <td>F</td>\n",
       "      <td>1</td>\n",
       "      <td>9971</td>\n",
       "    </tr>\n",
       "    <tr>\n",
       "      <th>2</th>\n",
       "      <td>M</td>\n",
       "      <td>0</td>\n",
       "      <td>73260</td>\n",
       "    </tr>\n",
       "    <tr>\n",
       "      <th>3</th>\n",
       "      <td>M</td>\n",
       "      <td>1</td>\n",
       "      <td>8576</td>\n",
       "    </tr>\n",
       "    <tr>\n",
       "      <th>4</th>\n",
       "      <td>XNA</td>\n",
       "      <td>0</td>\n",
       "      <td>2</td>\n",
       "    </tr>\n",
       "  </tbody>\n",
       "</table>\n",
       "</div>"
      ],
      "text/plain": [
       "  CODE_GENDER  TARGET  SK_ID_CURR\n",
       "0           F       0      119311\n",
       "1           F       1        9971\n",
       "2           M       0       73260\n",
       "3           M       1        8576\n",
       "4         XNA       0           2"
      ]
     },
     "execution_count": 31,
     "metadata": {
      "tags": []
     },
     "output_type": "execute_result"
    }
   ],
   "source": [
    "pd.DataFrame(train.groupby(['CODE_GENDER','TARGET']).count()['SK_ID_CURR']).reset_index() "
   ]
  },
  {
   "cell_type": "code",
   "execution_count": null,
   "metadata": {
    "id": "oLBRAGR3gryp"
   },
   "outputs": [],
   "source": [
    "gender_repay_ratio = pd.DataFrame({\"CODE_GENDER\":['M','F'],\"GR/A\":[0.8952,0.9228]})\n",
    "train = pd.merge(left=train,right=gender_repay_ratio,on='CODE_GENDER')\n",
    "# EGR/A stands for employment gender repayment ratio.\n"
   ]
  },
  {
   "cell_type": "code",
   "execution_count": null,
   "metadata": {
    "id": "sQEmAm1cgryp"
   },
   "outputs": [],
   "source": [
    "train['EGR/A'] = train['Ratio R/A']*train['GR/A']"
   ]
  },
  {
   "cell_type": "code",
   "execution_count": null,
   "metadata": {
    "id": "2ivCD54Mgryp",
    "outputId": "56d37457-03fd-411b-824b-1b5a60d33bc2"
   },
   "outputs": [
    {
     "data": {
      "text/plain": [
       "<matplotlib.legend.Legend at 0x16a0ff28b20>"
      ]
     },
     "execution_count": 38,
     "metadata": {
      "tags": []
     },
     "output_type": "execute_result"
    },
    {
     "data": {
      "image/png": "[encoded data removed]",
      "text/plain": [
       "<Figure size 1368x720 with 1 Axes>"
      ]
     },
     "metadata": {
      "needs_background": "light",
      "tags": []
     },
     "output_type": "display_data"
    }
   ],
   "source": [
    "fig,ax = plt.subplots(figsize = (19,10))\n",
    "plt.xticks(rotation=70)\n",
    "sns.barplot(x='OCCUPATION_TYPE',y='EGR/A',hue='CODE_GENDER',data=train)\n",
    "plt.legend(loc=1)"
   ]
  },
  {
   "cell_type": "code",
   "execution_count": null,
   "metadata": {
    "id": "VIAr9TFCgryq",
    "outputId": "a0e18bca-6e58-4fb8-99da-c8d7083b14dd"
   },
   "outputs": [
    {
     "data": {
      "text/plain": [
       "(array([ 0,  1,  2,  3,  4,  5,  6,  7,  8,  9, 10, 11, 12, 13, 14, 15, 16,\n",
       "        17]),\n",
       " [Text(0, 0, 'Laborers'),\n",
       "  Text(1, 0, 'Core staff'),\n",
       "  Text(2, 0, 'Accountants'),\n",
       "  Text(3, 0, 'Managers'),\n",
       "  Text(4, 0, 'Drivers'),\n",
       "  Text(5, 0, 'Sales staff'),\n",
       "  Text(6, 0, 'Cleaning staff'),\n",
       "  Text(7, 0, 'Cooking staff'),\n",
       "  Text(8, 0, 'Private service staff'),\n",
       "  Text(9, 0, 'Medicine staff'),\n",
       "  Text(10, 0, 'Security staff'),\n",
       "  Text(11, 0, 'High skill tech staff'),\n",
       "  Text(12, 0, 'Waiters/barmen staff'),\n",
       "  Text(13, 0, 'Low-skill Laborers'),\n",
       "  Text(14, 0, 'Realty agents'),\n",
       "  Text(15, 0, 'Secretaries'),\n",
       "  Text(16, 0, 'IT staff'),\n",
       "  Text(17, 0, 'HR staff')])"
      ]
     },
     "execution_count": 39,
     "metadata": {
      "tags": []
     },
     "output_type": "execute_result"
    },
    {
     "data": {
      "image/png": "[encoded data removed]",
      "text/plain": [
       "<Figure size 1080x648 with 1 Axes>"
      ]
     },
     "metadata": {
      "needs_background": "light",
      "tags": []
     },
     "output_type": "display_data"
    }
   ],
   "source": [
    "fig, ax = plt.subplots(figsize=(15,9))\n",
    "sns.barplot(x='OCCUPATION_TYPE',y='CNT_CHILDREN',hue='TARGET',data=train)\n",
    "plt.xticks(rotation=70)"
   ]
  },
  {
   "cell_type": "code",
   "execution_count": null,
   "metadata": {
    "id": "Bw6dYdbKgryr",
    "outputId": "245627f7-b966-48a8-920f-fad7bdbffe3d"
   },
   "outputs": [
    {
     "data": {
      "text/plain": [
       "(array([ 0,  1,  2,  3,  4,  5,  6,  7,  8,  9, 10, 11, 12, 13, 14, 15, 16,\n",
       "        17]),\n",
       " [Text(0, 0, 'Laborers'),\n",
       "  Text(1, 0, 'Core staff'),\n",
       "  Text(2, 0, 'Accountants'),\n",
       "  Text(3, 0, 'Managers'),\n",
       "  Text(4, 0, 'Drivers'),\n",
       "  Text(5, 0, 'Sales staff'),\n",
       "  Text(6, 0, 'Cleaning staff'),\n",
       "  Text(7, 0, 'Cooking staff'),\n",
       "  Text(8, 0, 'Private service staff'),\n",
       "  Text(9, 0, 'Medicine staff'),\n",
       "  Text(10, 0, 'Security staff'),\n",
       "  Text(11, 0, 'High skill tech staff'),\n",
       "  Text(12, 0, 'Waiters/barmen staff'),\n",
       "  Text(13, 0, 'Low-skill Laborers'),\n",
       "  Text(14, 0, 'Realty agents'),\n",
       "  Text(15, 0, 'Secretaries'),\n",
       "  Text(16, 0, 'IT staff'),\n",
       "  Text(17, 0, 'HR staff')])"
      ]
     },
     "execution_count": 40,
     "metadata": {
      "tags": []
     },
     "output_type": "execute_result"
    },
    {
     "data": {
      "image/png": "[encoded data removed]",
      "text/plain": [
       "<Figure size 864x720 with 1 Axes>"
      ]
     },
     "metadata": {
      "needs_background": "light",
      "tags": []
     },
     "output_type": "display_data"
    }
   ],
   "source": [
    "plt.figure(figsize=(12,10))\n",
    "sns.boxplot(x='OCCUPATION_TYPE',y='AMT_CREDIT',data=train,hue='CODE_GENDER')\n",
    "plt.xticks(rotation=70)"
   ]
  },
  {
   "cell_type": "code",
   "execution_count": null,
   "metadata": {
    "id": "5wiVzujDgryr",
    "outputId": "a882d7e6-0f88-4080-a7b8-2830324c2b62"
   },
   "outputs": [
    {
     "data": {
      "text/plain": [
       "<AxesSubplot:xlabel='FLAG_OWN_REALTY', ylabel='count'>"
      ]
     },
     "execution_count": 41,
     "metadata": {
      "tags": []
     },
     "output_type": "execute_result"
    },
    {
     "data": {
      "image/png": "[encoded data removed]",
      "text/plain": [
       "<Figure size 864x720 with 1 Axes>"
      ]
     },
     "metadata": {
      "needs_background": "light",
      "tags": []
     },
     "output_type": "display_data"
    }
   ],
   "source": [
    "plt.figure(figsize=(12,10))\n",
    "sns.countplot(x='FLAG_OWN_REALTY', data=train)"
   ]
  },
  {
   "cell_type": "code",
   "execution_count": null,
   "metadata": {
    "id": "UOHQY35hgrys",
    "outputId": "3db5478e-9f23-4aea-9ec7-41219c72afca"
   },
   "outputs": [
    {
     "data": {
      "text/plain": [
       "<AxesSubplot:xlabel='TARGET', ylabel='count'>"
      ]
     },
     "execution_count": 42,
     "metadata": {
      "tags": []
     },
     "output_type": "execute_result"
    },
    {
     "data": {
      "image/png": "[encoded data removed]",
      "text/plain": [
       "<Figure size 1080x648 with 1 Axes>"
      ]
     },
     "metadata": {
      "needs_background": "light",
      "tags": []
     },
     "output_type": "display_data"
    }
   ],
   "source": [
    "fig, ax = plt.subplots(figsize=(15,9))\n",
    "sns.countplot(x='TARGET',hue='FLAG_OWN_REALTY',data=train)"
   ]
  },
  {
   "cell_type": "code",
   "execution_count": null,
   "metadata": {
    "id": "CC0Q06ETgrys"
   },
   "outputs": [],
   "source": [
    "reality_with_difficulty = len(train[(train['FLAG_OWN_REALTY']=='Y') & (train['TARGET']==1)])\n",
    "reality_without_difficulty = len(train[(train['FLAG_OWN_REALTY']=='Y') & (train['TARGET']==0)])\n",
    "no_reality_with_difficulty = len(train[(train['FLAG_OWN_REALTY']=='N') & (train['TARGET']==1)])\n",
    "no_reality_without_difficulty = len(train[(train['FLAG_OWN_REALTY']=='N') & (train['TARGET']==0)])"
   ]
  },
  {
   "cell_type": "code",
   "execution_count": null,
   "metadata": {
    "id": "UDpuj-8ngryt",
    "outputId": "eceeabbc-8c6b-40f0-f52e-c9d646c82c99"
   },
   "outputs": [
    {
     "name": "stdout",
     "output_type": "stream",
     "text": [
      "Defaulters with realestate % =  8.728533823590858\n",
      "Defaulters without realestate % =  8.905509478672986\n"
     ]
    }
   ],
   "source": [
    "print(\"Defaulters with realestate % = \",100*reality_with_difficulty/(reality_with_difficulty+reality_without_difficulty))\n",
    "print(\"Defaulters without realestate % = \",100*no_reality_with_difficulty/(no_reality_with_difficulty+no_reality_without_difficulty))"
   ]
  },
  {
   "cell_type": "code",
   "execution_count": null,
   "metadata": {
    "id": "iA2idRfNgryt",
    "outputId": "a02f3538-6db3-4663-c4b3-d8e1f8a55b78"
   },
   "outputs": [
    {
     "data": {
      "text/plain": [
       "<AxesSubplot:xlabel='LIVINGAREA_MEDI', ylabel='Density'>"
      ]
     },
     "execution_count": 45,
     "metadata": {
      "tags": []
     },
     "output_type": "execute_result"
    },
    {
     "data": {
      "image/png": "[encoded data removed]",
      "text/plain": [
       "<Figure size 1080x648 with 1 Axes>"
      ]
     },
     "metadata": {
      "needs_background": "light",
      "tags": []
     },
     "output_type": "display_data"
    }
   ],
   "source": [
    "fig, ax = plt.subplots(figsize=(15,9))\n",
    "sns.distplot(train['LIVINGAREA_MEDI'].dropna())"
   ]
  },
  {
   "cell_type": "code",
   "execution_count": null,
   "metadata": {
    "id": "iGmEVuq4gryt",
    "outputId": "d5900e5b-7b44-47f6-b650-28aafbcb9eef"
   },
   "outputs": [
    {
     "data": {
      "text/plain": [
       "<AxesSubplot:xlabel='TARGET', ylabel='FLOORSMAX_MEDI'>"
      ]
     },
     "execution_count": 47,
     "metadata": {
      "tags": []
     },
     "output_type": "execute_result"
    },
    {
     "data": {
      "image/png": "[encoded data removed]",
      "text/plain": [
       "<Figure size 1080x648 with 1 Axes>"
      ]
     },
     "metadata": {
      "needs_background": "light",
      "tags": []
     },
     "output_type": "display_data"
    }
   ],
   "source": [
    "fig, ax = plt.subplots(figsize=(15,9))\n",
    "sns.boxplot(x='TARGET',y='FLOORSMAX_MEDI',data=train)"
   ]
  },
  {
   "cell_type": "code",
   "execution_count": null,
   "metadata": {
    "id": "aBgGcmj5gryu",
    "outputId": "2083fe00-61e7-451e-bf44-e570fc3d3fcc"
   },
   "outputs": [
    {
     "data": {
      "text/plain": [
       "<AxesSubplot:xlabel='FLOORSMAX_MEDI', ylabel='Density'>"
      ]
     },
     "execution_count": 46,
     "metadata": {
      "tags": []
     },
     "output_type": "execute_result"
    },
    {
     "data": {
      "image/png": "[encoded data removed]",
      "text/plain": [
       "<Figure size 1080x648 with 1 Axes>"
      ]
     },
     "metadata": {
      "needs_background": "light",
      "tags": []
     },
     "output_type": "display_data"
    }
   ],
   "source": [
    "fig, ax = plt.subplots(figsize=(15,9))\n",
    "sns.distplot(train['FLOORSMAX_MEDI'].dropna())"
   ]
  },
  {
   "cell_type": "code",
   "execution_count": null,
   "metadata": {
    "colab": {
     "base_uri": "https://localhost:8080/"
    },
    "execution": {
     "iopub.execute_input": "2021-02-08T17:33:17.013610Z",
     "iopub.status.busy": "2021-02-08T17:33:17.012811Z",
     "iopub.status.idle": "2021-02-08T17:33:17.049928Z",
     "shell.execute_reply": "2021-02-08T17:33:17.050463Z"
    },
    "id": "gJIxR_Z6h7_h",
    "outputId": "f91ded8c-66bd-4508-c2bd-de98e3881735",
    "papermill": {
     "duration": 0.094083,
     "end_time": "2021-02-08T17:33:17.050671",
     "exception": false,
     "start_time": "2021-02-08T17:33:16.956588",
     "status": "completed"
    },
    "tags": []
   },
   "outputs": [
    {
     "data": {
      "text/plain": [
       "1    307511\n",
       "Name: counts, dtype: int64"
      ]
     },
     "execution_count": 10,
     "metadata": {
      "tags": []
     },
     "output_type": "execute_result"
    }
   ],
   "source": [
    "application_train.groupby(by=[\"SK_ID_CURR\"]).size().reset_index(name=\"counts\")['counts'].value_counts()"
   ]
  },
  {
   "cell_type": "markdown",
   "metadata": {
    "id": "psa6jeLVh7_h",
    "papermill": {
     "duration": 0.053462,
     "end_time": "2021-02-08T17:33:17.158062",
     "exception": false,
     "start_time": "2021-02-08T17:33:17.104600",
     "status": "completed"
    },
    "tags": []
   },
   "source": [
    "EDA"
   ]
  },
  {
   "cell_type": "markdown",
   "metadata": {
    "id": "6l6lLuHnh7_i",
    "papermill": {
     "duration": 0.0537,
     "end_time": "2021-02-08T17:33:17.265602",
     "exception": false,
     "start_time": "2021-02-08T17:33:17.211902",
     "status": "completed"
    },
    "tags": []
   },
   "source": [
    "Application train"
   ]
  },
  {
   "cell_type": "markdown",
   "metadata": {
    "id": "K9KzUUZmh7_i",
    "papermill": {
     "duration": 0.053651,
     "end_time": "2021-02-08T17:33:17.373714",
     "exception": false,
     "start_time": "2021-02-08T17:33:17.320063",
     "status": "completed"
    },
    "tags": []
   },
   "source": [
    "missing data"
   ]
  },
  {
   "cell_type": "markdown",
   "metadata": {
    "id": "YhxIpl0yh7_i",
    "papermill": {
     "duration": 0.053223,
     "end_time": "2021-02-08T17:33:17.481686",
     "exception": false,
     "start_time": "2021-02-08T17:33:17.428463",
     "status": "completed"
    },
    "tags": []
   },
   "source": [
    "dropping all cols with <30% data"
   ]
  },
  {
   "cell_type": "code",
   "execution_count": null,
   "metadata": {
    "execution": {
     "iopub.execute_input": "2021-02-08T17:33:17.594673Z",
     "iopub.status.busy": "2021-02-08T17:33:17.593956Z",
     "iopub.status.idle": "2021-02-08T17:33:19.087597Z",
     "shell.execute_reply": "2021-02-08T17:33:19.088223Z"
    },
    "id": "cZRE_5Zph7_i",
    "papermill": {
     "duration": 1.55167,
     "end_time": "2021-02-08T17:33:19.088437",
     "exception": false,
     "start_time": "2021-02-08T17:33:17.536767",
     "status": "completed"
    },
    "tags": []
   },
   "outputs": [],
   "source": [
    "application_train = application_train.replace({'':np.nan})\n",
    "application_train = application_train.dropna(thresh=0.7*len(application_train), axis= 1)"
   ]
  },
  {
   "cell_type": "code",
   "execution_count": null,
   "metadata": {
    "colab": {
     "base_uri": "https://localhost:8080/",
     "height": 570
    },
    "execution": {
     "iopub.execute_input": "2021-02-08T17:33:19.201125Z",
     "iopub.status.busy": "2021-02-08T17:33:19.200393Z",
     "iopub.status.idle": "2021-02-08T17:33:19.593438Z",
     "shell.execute_reply": "2021-02-08T17:33:19.592717Z"
    },
    "id": "YM2jfV9xh7_i",
    "outputId": "2846a261-11f5-4a47-e1ee-4e087afc6991",
    "papermill": {
     "duration": 0.450565,
     "end_time": "2021-02-08T17:33:19.593608",
     "exception": false,
     "start_time": "2021-02-08T17:33:19.143043",
     "status": "completed"
    },
    "tags": []
   },
   "outputs": [
    {
     "data": {
      "text/html": [
       "<div>\n",
       "<style scoped>\n",
       "    .dataframe tbody tr th:only-of-type {\n",
       "        vertical-align: middle;\n",
       "    }\n",
       "\n",
       "    .dataframe tbody tr th {\n",
       "        vertical-align: top;\n",
       "    }\n",
       "\n",
       "    .dataframe thead th {\n",
       "        text-align: right;\n",
       "    }\n",
       "</style>\n",
       "<table border=\"1\" class=\"dataframe\">\n",
       "  <thead>\n",
       "    <tr style=\"text-align: right;\">\n",
       "      <th></th>\n",
       "      <th>Miss%</th>\n",
       "    </tr>\n",
       "  </thead>\n",
       "  <tbody>\n",
       "    <tr>\n",
       "      <th>AMT_ANNUITY</th>\n",
       "      <td>0.003902</td>\n",
       "    </tr>\n",
       "    <tr>\n",
       "      <th>AMT_GOODS_PRICE</th>\n",
       "      <td>0.090403</td>\n",
       "    </tr>\n",
       "    <tr>\n",
       "      <th>NAME_TYPE_SUITE</th>\n",
       "      <td>0.420148</td>\n",
       "    </tr>\n",
       "    <tr>\n",
       "      <th>CNT_FAM_MEMBERS</th>\n",
       "      <td>0.000650</td>\n",
       "    </tr>\n",
       "    <tr>\n",
       "      <th>EXT_SOURCE_2</th>\n",
       "      <td>0.214626</td>\n",
       "    </tr>\n",
       "    <tr>\n",
       "      <th>EXT_SOURCE_3</th>\n",
       "      <td>19.825307</td>\n",
       "    </tr>\n",
       "    <tr>\n",
       "      <th>OBS_30_CNT_SOCIAL_CIRCLE</th>\n",
       "      <td>0.332021</td>\n",
       "    </tr>\n",
       "    <tr>\n",
       "      <th>DEF_30_CNT_SOCIAL_CIRCLE</th>\n",
       "      <td>0.332021</td>\n",
       "    </tr>\n",
       "    <tr>\n",
       "      <th>OBS_60_CNT_SOCIAL_CIRCLE</th>\n",
       "      <td>0.332021</td>\n",
       "    </tr>\n",
       "    <tr>\n",
       "      <th>DEF_60_CNT_SOCIAL_CIRCLE</th>\n",
       "      <td>0.332021</td>\n",
       "    </tr>\n",
       "    <tr>\n",
       "      <th>DAYS_LAST_PHONE_CHANGE</th>\n",
       "      <td>0.000325</td>\n",
       "    </tr>\n",
       "    <tr>\n",
       "      <th>AMT_REQ_CREDIT_BUREAU_HOUR</th>\n",
       "      <td>13.501631</td>\n",
       "    </tr>\n",
       "    <tr>\n",
       "      <th>AMT_REQ_CREDIT_BUREAU_DAY</th>\n",
       "      <td>13.501631</td>\n",
       "    </tr>\n",
       "    <tr>\n",
       "      <th>AMT_REQ_CREDIT_BUREAU_WEEK</th>\n",
       "      <td>13.501631</td>\n",
       "    </tr>\n",
       "    <tr>\n",
       "      <th>AMT_REQ_CREDIT_BUREAU_MON</th>\n",
       "      <td>13.501631</td>\n",
       "    </tr>\n",
       "    <tr>\n",
       "      <th>AMT_REQ_CREDIT_BUREAU_QRT</th>\n",
       "      <td>13.501631</td>\n",
       "    </tr>\n",
       "    <tr>\n",
       "      <th>AMT_REQ_CREDIT_BUREAU_YEAR</th>\n",
       "      <td>13.501631</td>\n",
       "    </tr>\n",
       "  </tbody>\n",
       "</table>\n",
       "</div>"
      ],
      "text/plain": [
       "                                Miss%\n",
       "AMT_ANNUITY                  0.003902\n",
       "AMT_GOODS_PRICE              0.090403\n",
       "NAME_TYPE_SUITE              0.420148\n",
       "CNT_FAM_MEMBERS              0.000650\n",
       "EXT_SOURCE_2                 0.214626\n",
       "EXT_SOURCE_3                19.825307\n",
       "OBS_30_CNT_SOCIAL_CIRCLE     0.332021\n",
       "DEF_30_CNT_SOCIAL_CIRCLE     0.332021\n",
       "OBS_60_CNT_SOCIAL_CIRCLE     0.332021\n",
       "DEF_60_CNT_SOCIAL_CIRCLE     0.332021\n",
       "DAYS_LAST_PHONE_CHANGE       0.000325\n",
       "AMT_REQ_CREDIT_BUREAU_HOUR  13.501631\n",
       "AMT_REQ_CREDIT_BUREAU_DAY   13.501631\n",
       "AMT_REQ_CREDIT_BUREAU_WEEK  13.501631\n",
       "AMT_REQ_CREDIT_BUREAU_MON   13.501631\n",
       "AMT_REQ_CREDIT_BUREAU_QRT   13.501631\n",
       "AMT_REQ_CREDIT_BUREAU_YEAR  13.501631"
      ]
     },
     "execution_count": 12,
     "metadata": {
      "tags": []
     },
     "output_type": "execute_result"
    }
   ],
   "source": [
    "Miss = pd.DataFrame(columns=[\"Miss%\"])\n",
    "Miss[\"Miss%\"]=((application_train.isnull().sum())*100/len(application_train))\n",
    "Miss[Miss[\"Miss%\"]>0]"
   ]
  },
  {
   "cell_type": "markdown",
   "metadata": {
    "id": "wUy0CYxhh7_j",
    "papermill": {
     "duration": 0.056076,
     "end_time": "2021-02-08T17:33:19.704569",
     "exception": false,
     "start_time": "2021-02-08T17:33:19.648493",
     "status": "completed"
    },
    "tags": []
   },
   "source": [
    "Target class distribution"
   ]
  },
  {
   "cell_type": "code",
   "execution_count": null,
   "metadata": {
    "colab": {
     "base_uri": "https://localhost:8080/"
    },
    "execution": {
     "iopub.execute_input": "2021-02-08T17:33:19.822161Z",
     "iopub.status.busy": "2021-02-08T17:33:19.821170Z",
     "iopub.status.idle": "2021-02-08T17:33:19.831270Z",
     "shell.execute_reply": "2021-02-08T17:33:19.830499Z"
    },
    "id": "oDu6Ttlph7_j",
    "outputId": "261b5304-ba81-4595-8e73-108ee946e4c5",
    "papermill": {
     "duration": 0.072179,
     "end_time": "2021-02-08T17:33:19.831456",
     "exception": false,
     "start_time": "2021-02-08T17:33:19.759277",
     "status": "completed"
    },
    "tags": []
   },
   "outputs": [
    {
     "data": {
      "text/plain": [
       "0    282686\n",
       "1     24825\n",
       "Name: TARGET, dtype: int64"
      ]
     },
     "execution_count": 13,
     "metadata": {
      "tags": []
     },
     "output_type": "execute_result"
    }
   ],
   "source": [
    "application_train[\"TARGET\"].value_counts()"
   ]
  },
  {
   "cell_type": "code",
   "execution_count": null,
   "metadata": {
    "execution": {
     "iopub.execute_input": "2021-02-08T17:33:19.946634Z",
     "iopub.status.busy": "2021-02-08T17:33:19.945955Z",
     "iopub.status.idle": "2021-02-08T17:33:19.954374Z",
     "shell.execute_reply": "2021-02-08T17:33:19.954845Z"
    },
    "id": "YZKYJpbhh7_j",
    "papermill": {
     "duration": 0.067894,
     "end_time": "2021-02-08T17:33:19.955058",
     "exception": false,
     "start_time": "2021-02-08T17:33:19.887164",
     "status": "completed"
    },
    "tags": []
   },
   "outputs": [],
   "source": [
    "application_train[\"credit-income ratio\"] =  application_train[\"AMT_CREDIT\"] / application_train[\"AMT_INCOME_TOTAL\"]"
   ]
  },
  {
   "cell_type": "code",
   "execution_count": null,
   "metadata": {
    "colab": {
     "base_uri": "https://localhost:8080/"
    },
    "execution": {
     "iopub.execute_input": "2021-02-08T17:33:20.069708Z",
     "iopub.status.busy": "2021-02-08T17:33:20.069027Z",
     "iopub.status.idle": "2021-02-08T17:33:20.092780Z",
     "shell.execute_reply": "2021-02-08T17:33:20.092141Z"
    },
    "id": "R9lGE4Gvh7_k",
    "outputId": "eb3a38fd-048c-40e6-a52f-e26e0446800f",
    "papermill": {
     "duration": 0.081663,
     "end_time": "2021-02-08T17:33:20.092956",
     "exception": false,
     "start_time": "2021-02-08T17:33:20.011293",
     "status": "completed"
    },
    "tags": []
   },
   "outputs": [
    {
     "data": {
      "text/plain": [
       "count    307511.000000\n",
       "mean          3.957570\n",
       "std           2.689728\n",
       "min           0.004808\n",
       "25%           2.018667\n",
       "50%           3.265067\n",
       "75%           5.159880\n",
       "max          84.736842\n",
       "Name: credit-income ratio, dtype: float64"
      ]
     },
     "execution_count": 15,
     "metadata": {
      "tags": []
     },
     "output_type": "execute_result"
    }
   ],
   "source": [
    "application_train[\"credit-income ratio\"].describe()"
   ]
  },
  {
   "cell_type": "code",
   "execution_count": null,
   "metadata": {
    "colab": {
     "base_uri": "https://localhost:8080/",
     "height": 265
    },
    "execution": {
     "iopub.execute_input": "2021-02-08T17:33:20.233256Z",
     "iopub.status.busy": "2021-02-08T17:33:20.229384Z",
     "iopub.status.idle": "2021-02-08T17:33:20.648692Z",
     "shell.execute_reply": "2021-02-08T17:33:20.648134Z"
    },
    "id": "AhXj5_vkh7_k",
    "outputId": "131ed1e1-8448-4f88-bb1a-6c7b9ece3107",
    "papermill": {
     "duration": 0.499272,
     "end_time": "2021-02-08T17:33:20.648841",
     "exception": false,
     "start_time": "2021-02-08T17:33:20.149569",
     "status": "completed"
    },
    "tags": []
   },
   "outputs": [
    {
     "data": {
      "image/png": "[encoded data removed]",
      "text/plain": [
       "<Figure size 432x288 with 1 Axes>"
      ]
     },
     "metadata": {
      "needs_background": "light",
      "tags": []
     },
     "output_type": "display_data"
    }
   ],
   "source": [
    "plt.hist(application_train[\"credit-income ratio\"],bins=100)\n",
    "plt.show()"
   ]
  },
  {
   "cell_type": "code",
   "execution_count": null,
   "metadata": {
    "execution": {
     "iopub.execute_input": "2021-02-08T17:33:20.768774Z",
     "iopub.status.busy": "2021-02-08T17:33:20.767778Z",
     "iopub.status.idle": "2021-02-08T17:33:20.853280Z",
     "shell.execute_reply": "2021-02-08T17:33:20.852680Z"
    },
    "id": "aGHoTyAvh7_k",
    "papermill": {
     "duration": 0.149553,
     "end_time": "2021-02-08T17:33:20.853432",
     "exception": false,
     "start_time": "2021-02-08T17:33:20.703879",
     "status": "completed"
    },
    "tags": []
   },
   "outputs": [],
   "source": [
    "\n",
    "application_train[\"Years_Employed\"] =  application_train[\"DAYS_EMPLOYED\"] / float(-365)\n",
    "application_train.drop('DAYS_EMPLOYED', inplace=True, axis=1)"
   ]
  },
  {
   "cell_type": "code",
   "execution_count": null,
   "metadata": {
    "colab": {
     "base_uri": "https://localhost:8080/"
    },
    "execution": {
     "iopub.execute_input": "2021-02-08T17:33:20.977603Z",
     "iopub.status.busy": "2021-02-08T17:33:20.976655Z",
     "iopub.status.idle": "2021-02-08T17:33:20.997995Z",
     "shell.execute_reply": "2021-02-08T17:33:20.997440Z"
    },
    "id": "Fcc2c2Syh7_k",
    "outputId": "266d97ac-d6e1-4cc6-e0cf-831bcc08cea4",
    "papermill": {
     "duration": 0.083173,
     "end_time": "2021-02-08T17:33:20.998156",
     "exception": false,
     "start_time": "2021-02-08T17:33:20.914983",
     "status": "completed"
    },
    "tags": []
   },
   "outputs": [
    {
     "data": {
      "text/plain": [
       "count    307511.000000\n",
       "mean       -174.835742\n",
       "std         387.056895\n",
       "min       -1000.665753\n",
       "25%           0.791781\n",
       "50%           3.323288\n",
       "75%           7.561644\n",
       "max          49.073973\n",
       "Name: Years_Employed, dtype: float64"
      ]
     },
     "execution_count": 18,
     "metadata": {
      "tags": []
     },
     "output_type": "execute_result"
    }
   ],
   "source": [
    "application_train[\"Years_Employed\"].describe()"
   ]
  },
  {
   "cell_type": "code",
   "execution_count": null,
   "metadata": {
    "colab": {
     "base_uri": "https://localhost:8080/",
     "height": 265
    },
    "execution": {
     "iopub.execute_input": "2021-02-08T17:33:21.134396Z",
     "iopub.status.busy": "2021-02-08T17:33:21.117807Z",
     "iopub.status.idle": "2021-02-08T17:33:21.436917Z",
     "shell.execute_reply": "2021-02-08T17:33:21.436355Z"
    },
    "id": "Ui5myQR7h7_l",
    "outputId": "d9d6c642-eba4-4659-dd28-a0d33eb5789e",
    "papermill": {
     "duration": 0.381452,
     "end_time": "2021-02-08T17:33:21.437104",
     "exception": false,
     "start_time": "2021-02-08T17:33:21.055652",
     "status": "completed"
    },
    "tags": []
   },
   "outputs": [
    {
     "data": {
      "image/png": "[encoded data removed]",
      "text/plain": [
       "<Figure size 432x288 with 1 Axes>"
      ]
     },
     "metadata": {
      "needs_background": "light",
      "tags": []
     },
     "output_type": "display_data"
    }
   ],
   "source": [
    "plt.hist(application_train[\"Years_Employed\"],bins=100)\n",
    "plt.show()"
   ]
  },
  {
   "cell_type": "code",
   "execution_count": null,
   "metadata": {
    "colab": {
     "base_uri": "https://localhost:8080/",
     "height": 297
    },
    "execution": {
     "iopub.execute_input": "2021-02-08T17:33:21.592917Z",
     "iopub.status.busy": "2021-02-08T17:33:21.591891Z",
     "iopub.status.idle": "2021-02-08T17:33:22.131953Z",
     "shell.execute_reply": "2021-02-08T17:33:22.131106Z"
    },
    "id": "iffMMMF_h7_l",
    "outputId": "9de44dc1-0f37-4f26-fd6a-2f6b51640d66",
    "papermill": {
     "duration": 0.635574,
     "end_time": "2021-02-08T17:33:22.132138",
     "exception": false,
     "start_time": "2021-02-08T17:33:21.496564",
     "status": "completed"
    },
    "tags": []
   },
   "outputs": [
    {
     "data": {
      "text/plain": [
       "<AxesSubplot:xlabel='CODE_GENDER', ylabel='count'>"
      ]
     },
     "execution_count": 20,
     "metadata": {
      "tags": []
     },
     "output_type": "execute_result"
    },
    {
     "data": {
      "image/png": "[encoded data removed]",
      "text/plain": [
       "<Figure size 432x288 with 1 Axes>"
      ]
     },
     "metadata": {
      "needs_background": "light",
      "tags": []
     },
     "output_type": "display_data"
    }
   ],
   "source": [
    "sns.countplot(application_train['CODE_GENDER'],hue=application_train['TARGET'])"
   ]
  },
  {
   "cell_type": "code",
   "execution_count": null,
   "metadata": {
    "colab": {
     "base_uri": "https://localhost:8080/",
     "height": 297
    },
    "execution": {
     "iopub.execute_input": "2021-02-08T17:33:22.254349Z",
     "iopub.status.busy": "2021-02-08T17:33:22.253538Z",
     "iopub.status.idle": "2021-02-08T17:33:22.605635Z",
     "shell.execute_reply": "2021-02-08T17:33:22.606257Z"
    },
    "id": "uPQyHiRBh7_l",
    "outputId": "938b6278-6ece-4fff-b292-7029fd8b93c1",
    "papermill": {
     "duration": 0.416056,
     "end_time": "2021-02-08T17:33:22.606467",
     "exception": false,
     "start_time": "2021-02-08T17:33:22.190411",
     "status": "completed"
    },
    "tags": []
   },
   "outputs": [
    {
     "data": {
      "text/plain": [
       "<AxesSubplot:xlabel='CNT_CHILDREN', ylabel='count'>"
      ]
     },
     "execution_count": 21,
     "metadata": {
      "tags": []
     },
     "output_type": "execute_result"
    },
    {
     "data": {
      "image/png": "[encoded data removed]",
      "text/plain": [
       "<Figure size 432x288 with 1 Axes>"
      ]
     },
     "metadata": {
      "needs_background": "light",
      "tags": []
     },
     "output_type": "display_data"
    }
   ],
   "source": [
    "sns.countplot(application_train['CNT_CHILDREN'],hue=application_train['TARGET'])"
   ]
  },
  {
   "cell_type": "code",
   "execution_count": null,
   "metadata": {
    "colab": {
     "base_uri": "https://localhost:8080/",
     "height": 243
    },
    "execution": {
     "iopub.execute_input": "2021-02-08T17:33:22.735366Z",
     "iopub.status.busy": "2021-02-08T17:33:22.734072Z",
     "iopub.status.idle": "2021-02-08T17:33:26.322527Z",
     "shell.execute_reply": "2021-02-08T17:33:26.321975Z"
    },
    "id": "7vmRQxj9h7_m",
    "outputId": "aa5edb36-2848-4b69-d80b-83ffd7f1c960",
    "papermill": {
     "duration": 3.655988,
     "end_time": "2021-02-08T17:33:26.322689",
     "exception": false,
     "start_time": "2021-02-08T17:33:22.666701",
     "status": "completed"
    },
    "tags": []
   },
   "outputs": [
    {
     "data": {
      "text/plain": [
       "<seaborn.axisgrid.FacetGrid at 0x26180a99fd0>"
      ]
     },
     "execution_count": 22,
     "metadata": {
      "tags": []
     },
     "output_type": "execute_result"
    },
    {
     "data": {
      "image/png": "[encoded data removed]",
      "text/plain": [
       "<Figure size 432x216 with 2 Axes>"
      ]
     },
     "metadata": {
      "needs_background": "light",
      "tags": []
     },
     "output_type": "display_data"
    }
   ],
   "source": [
    "application_train[\"Age_in_years\"] = application_train['DAYS_BIRTH']/float(-365)\n",
    "application_train.drop('DAYS_BIRTH', inplace=True, axis=1)\n",
    "g = sns.FacetGrid(application_train, col='TARGET')\n",
    "g.map(sns.distplot, 'Age_in_years')"
   ]
  },
  {
   "cell_type": "code",
   "execution_count": null,
   "metadata": {
    "colab": {
     "base_uri": "https://localhost:8080/",
     "height": 297
    },
    "execution": {
     "iopub.execute_input": "2021-02-08T17:33:26.447812Z",
     "iopub.status.busy": "2021-02-08T17:33:26.447204Z",
     "iopub.status.idle": "2021-02-08T17:33:26.847046Z",
     "shell.execute_reply": "2021-02-08T17:33:26.846496Z"
    },
    "id": "GTcmxmcBh7_m",
    "outputId": "76d6571a-edfa-4f19-e549-7368641385f9",
    "papermill": {
     "duration": 0.464036,
     "end_time": "2021-02-08T17:33:26.847202",
     "exception": false,
     "start_time": "2021-02-08T17:33:26.383166",
     "status": "completed"
    },
    "tags": []
   },
   "outputs": [
    {
     "data": {
      "text/plain": [
       "<AxesSubplot:xlabel='TARGET', ylabel='count'>"
      ]
     },
     "execution_count": 23,
     "metadata": {
      "tags": []
     },
     "output_type": "execute_result"
    },
    {
     "data": {
      "image/png": "[encoded data removed]",
      "text/plain": [
       "<Figure size 432x288 with 1 Axes>"
      ]
     },
     "metadata": {
      "needs_background": "light",
      "tags": []
     },
     "output_type": "display_data"
    }
   ],
   "source": [
    "sns.countplot(application_train['TARGET'],hue=application_train['FLAG_OWN_CAR'])"
   ]
  },
  {
   "cell_type": "code",
   "execution_count": null,
   "metadata": {
    "colab": {
     "base_uri": "https://localhost:8080/"
    },
    "execution": {
     "iopub.execute_input": "2021-02-08T17:33:26.975498Z",
     "iopub.status.busy": "2021-02-08T17:33:26.974722Z",
     "iopub.status.idle": "2021-02-08T17:33:27.131754Z",
     "shell.execute_reply": "2021-02-08T17:33:27.130917Z"
    },
    "id": "2AuD3y9bh7_m",
    "outputId": "6a92bcfd-b33a-4ed7-918b-cb5741c900d6",
    "papermill": {
     "duration": 0.223489,
     "end_time": "2021-02-08T17:33:27.131941",
     "exception": false,
     "start_time": "2021-02-08T17:33:26.908452",
     "status": "completed"
    },
    "tags": []
   },
   "outputs": [
    {
     "data": {
      "text/plain": [
       "Business Entity Type 3    61669\n",
       "XNA                       52384\n",
       "Self-employed             34504\n",
       "Other                     15408\n",
       "Medicine                  10456\n",
       "Government                 9678\n",
       "Business Entity Type 2     9653\n",
       "School                     8367\n",
       "Trade: type 7              7091\n",
       "Kindergarten               6396\n",
       "Construction               5936\n",
       "Business Entity Type 1     5497\n",
       "Transport: type 4          4897\n",
       "Industry: type 9           3143\n",
       "Trade: type 3              3131\n",
       "Industry: type 3           2930\n",
       "Security                   2923\n",
       "Housing                    2723\n",
       "Military                   2499\n",
       "Industry: type 11          2470\n",
       "Bank                       2377\n",
       "Police                     2224\n",
       "Agriculture                2197\n",
       "Transport: type 2          2032\n",
       "Postal                     1975\n",
       "Security Ministries        1878\n",
       "Trade: type 2              1767\n",
       "Restaurant                 1599\n",
       "Services                   1471\n",
       "University                 1262\n",
       "Industry: type 7           1202\n",
       "Transport: type 3          1000\n",
       "Industry: type 1            924\n",
       "Hotel                       904\n",
       "Electricity                 887\n",
       "Industry: type 4            788\n",
       "Trade: type 6               602\n",
       "Insurance                   563\n",
       "Industry: type 5            558\n",
       "Telecom                     533\n",
       "Emergency                   520\n",
       "Industry: type 2            425\n",
       "Advertising                 394\n",
       "Culture                     358\n",
       "Industry: type 12           355\n",
       "Realtor                     354\n",
       "Trade: type 1               317\n",
       "Mobile                      288\n",
       "Legal Services              281\n",
       "Cleaning                    231\n",
       "Transport: type 1           192\n",
       "Industry: type 6            104\n",
       "Industry: type 10           102\n",
       "Religion                     80\n",
       "Trade: type 4                62\n",
       "Industry: type 13            58\n",
       "Trade: type 5                46\n",
       "Industry: type 8             21\n",
       "Name: ORGANIZATION_TYPE, dtype: int64"
      ]
     },
     "execution_count": 24,
     "metadata": {
      "tags": []
     },
     "output_type": "execute_result"
    }
   ],
   "source": [
    "application_train.loc[(application_train['TARGET']==0)][\"ORGANIZATION_TYPE\"].value_counts()"
   ]
  },
  {
   "cell_type": "code",
   "execution_count": null,
   "metadata": {
    "colab": {
     "base_uri": "https://localhost:8080/",
     "height": 243
    },
    "execution": {
     "iopub.execute_input": "2021-02-08T17:33:27.266464Z",
     "iopub.status.busy": "2021-02-08T17:33:27.265769Z",
     "iopub.status.idle": "2021-02-08T17:33:30.750985Z",
     "shell.execute_reply": "2021-02-08T17:33:30.749469Z"
    },
    "id": "LGHqSOajh7_m",
    "outputId": "55ce196b-8a63-4a1a-a70c-87b11a6922a8",
    "papermill": {
     "duration": 3.554469,
     "end_time": "2021-02-08T17:33:30.751167",
     "exception": false,
     "start_time": "2021-02-08T17:33:27.196698",
     "status": "completed"
    },
    "tags": []
   },
   "outputs": [
    {
     "data": {
      "text/plain": [
       "<seaborn.axisgrid.FacetGrid at 0x26181e0f1c0>"
      ]
     },
     "execution_count": 25,
     "metadata": {
      "tags": []
     },
     "output_type": "execute_result"
    },
    {
     "data": {
      "image/png": "[encoded data removed]",
      "text/plain": [
       "<Figure size 432x216 with 2 Axes>"
      ]
     },
     "metadata": {
      "needs_background": "light",
      "tags": []
     },
     "output_type": "display_data"
    }
   ],
   "source": [
    "\n",
    "g = sns.FacetGrid(application_train, col='TARGET')\n",
    "g.map(sns.distplot, 'EXT_SOURCE_2')"
   ]
  },
  {
   "cell_type": "code",
   "execution_count": null,
   "metadata": {
    "colab": {
     "base_uri": "https://localhost:8080/"
    },
    "execution": {
     "iopub.execute_input": "2021-02-08T17:33:30.888328Z",
     "iopub.status.busy": "2021-02-08T17:33:30.887441Z",
     "iopub.status.idle": "2021-02-08T17:33:30.892850Z",
     "shell.execute_reply": "2021-02-08T17:33:30.892220Z"
    },
    "id": "biIHNPWdh7_n",
    "outputId": "0d2ac52f-3ed6-49fa-b44e-d112a544f1aa",
    "papermill": {
     "duration": 0.077699,
     "end_time": "2021-02-08T17:33:30.893004",
     "exception": false,
     "start_time": "2021-02-08T17:33:30.815305",
     "status": "completed"
    },
    "tags": []
   },
   "outputs": [
    {
     "data": {
      "text/plain": [
       "Index(['SK_ID_CURR', 'TARGET', 'NAME_CONTRACT_TYPE', 'CODE_GENDER',\n",
       "       'FLAG_OWN_CAR', 'FLAG_OWN_REALTY', 'CNT_CHILDREN', 'AMT_INCOME_TOTAL',\n",
       "       'AMT_CREDIT', 'AMT_ANNUITY', 'AMT_GOODS_PRICE', 'NAME_TYPE_SUITE',\n",
       "       'NAME_INCOME_TYPE', 'NAME_EDUCATION_TYPE', 'NAME_FAMILY_STATUS',\n",
       "       'NAME_HOUSING_TYPE', 'REGION_POPULATION_RELATIVE', 'DAYS_REGISTRATION',\n",
       "       'DAYS_ID_PUBLISH', 'FLAG_MOBIL', 'FLAG_EMP_PHONE', 'FLAG_WORK_PHONE',\n",
       "       'FLAG_CONT_MOBILE', 'FLAG_PHONE', 'FLAG_EMAIL', 'CNT_FAM_MEMBERS',\n",
       "       'REGION_RATING_CLIENT', 'REGION_RATING_CLIENT_W_CITY',\n",
       "       'WEEKDAY_APPR_PROCESS_START', 'HOUR_APPR_PROCESS_START',\n",
       "       'REG_REGION_NOT_LIVE_REGION', 'REG_REGION_NOT_WORK_REGION',\n",
       "       'LIVE_REGION_NOT_WORK_REGION', 'REG_CITY_NOT_LIVE_CITY',\n",
       "       'REG_CITY_NOT_WORK_CITY', 'LIVE_CITY_NOT_WORK_CITY',\n",
       "       'ORGANIZATION_TYPE', 'EXT_SOURCE_2', 'EXT_SOURCE_3',\n",
       "       'OBS_30_CNT_SOCIAL_CIRCLE', 'DEF_30_CNT_SOCIAL_CIRCLE',\n",
       "       'OBS_60_CNT_SOCIAL_CIRCLE', 'DEF_60_CNT_SOCIAL_CIRCLE',\n",
       "       'DAYS_LAST_PHONE_CHANGE', 'FLAG_DOCUMENT_2', 'FLAG_DOCUMENT_3',\n",
       "       'FLAG_DOCUMENT_4', 'FLAG_DOCUMENT_5', 'FLAG_DOCUMENT_6',\n",
       "       'FLAG_DOCUMENT_7', 'FLAG_DOCUMENT_8', 'FLAG_DOCUMENT_9',\n",
       "       'FLAG_DOCUMENT_10', 'FLAG_DOCUMENT_11', 'FLAG_DOCUMENT_12',\n",
       "       'FLAG_DOCUMENT_13', 'FLAG_DOCUMENT_14', 'FLAG_DOCUMENT_15',\n",
       "       'FLAG_DOCUMENT_16', 'FLAG_DOCUMENT_17', 'FLAG_DOCUMENT_18',\n",
       "       'FLAG_DOCUMENT_19', 'FLAG_DOCUMENT_20', 'FLAG_DOCUMENT_21',\n",
       "       'AMT_REQ_CREDIT_BUREAU_HOUR', 'AMT_REQ_CREDIT_BUREAU_DAY',\n",
       "       'AMT_REQ_CREDIT_BUREAU_WEEK', 'AMT_REQ_CREDIT_BUREAU_MON',\n",
       "       'AMT_REQ_CREDIT_BUREAU_QRT', 'AMT_REQ_CREDIT_BUREAU_YEAR',\n",
       "       'credit-income ratio', 'Years_Employed', 'Age_in_years'],\n",
       "      dtype='object')"
      ]
     },
     "execution_count": 26,
     "metadata": {
      "tags": []
     },
     "output_type": "execute_result"
    }
   ],
   "source": [
    "application_train.columns"
   ]
  },
  {
   "cell_type": "markdown",
   "metadata": {
    "id": "T8uonmSlh7_n",
    "papermill": {
     "duration": 0.065217,
     "end_time": "2021-02-08T17:33:31.024327",
     "exception": false,
     "start_time": "2021-02-08T17:33:30.959110",
     "status": "completed"
    },
    "tags": []
   },
   "source": [
    "Bureau data"
   ]
  },
  {
   "cell_type": "code",
   "execution_count": null,
   "metadata": {
    "colab": {
     "base_uri": "https://localhost:8080/",
     "height": 274
    },
    "execution": {
     "iopub.execute_input": "2021-02-08T17:33:31.178942Z",
     "iopub.status.busy": "2021-02-08T17:33:31.177954Z",
     "iopub.status.idle": "2021-02-08T17:33:31.184649Z",
     "shell.execute_reply": "2021-02-08T17:33:31.184122Z"
    },
    "id": "AXV9eN4Kh7_n",
    "outputId": "81484cd2-f3e4-4aa4-b37a-aad3a2f21830",
    "papermill": {
     "duration": 0.095015,
     "end_time": "2021-02-08T17:33:31.184795",
     "exception": false,
     "start_time": "2021-02-08T17:33:31.089780",
     "status": "completed"
    },
    "tags": []
   },
   "outputs": [
    {
     "data": {
      "text/html": [
       "<div>\n",
       "<style scoped>\n",
       "    .dataframe tbody tr th:only-of-type {\n",
       "        vertical-align: middle;\n",
       "    }\n",
       "\n",
       "    .dataframe tbody tr th {\n",
       "        vertical-align: top;\n",
       "    }\n",
       "\n",
       "    .dataframe thead th {\n",
       "        text-align: right;\n",
       "    }\n",
       "</style>\n",
       "<table border=\"1\" class=\"dataframe\">\n",
       "  <thead>\n",
       "    <tr style=\"text-align: right;\">\n",
       "      <th></th>\n",
       "      <th>SK_ID_CURR</th>\n",
       "      <th>SK_ID_BUREAU</th>\n",
       "      <th>CREDIT_ACTIVE</th>\n",
       "      <th>CREDIT_CURRENCY</th>\n",
       "      <th>DAYS_CREDIT</th>\n",
       "      <th>CREDIT_DAY_OVERDUE</th>\n",
       "      <th>DAYS_CREDIT_ENDDATE</th>\n",
       "      <th>DAYS_ENDDATE_FACT</th>\n",
       "      <th>AMT_CREDIT_MAX_OVERDUE</th>\n",
       "      <th>CNT_CREDIT_PROLONG</th>\n",
       "      <th>AMT_CREDIT_SUM</th>\n",
       "      <th>AMT_CREDIT_SUM_DEBT</th>\n",
       "      <th>AMT_CREDIT_SUM_LIMIT</th>\n",
       "      <th>AMT_CREDIT_SUM_OVERDUE</th>\n",
       "      <th>CREDIT_TYPE</th>\n",
       "      <th>DAYS_CREDIT_UPDATE</th>\n",
       "      <th>AMT_ANNUITY</th>\n",
       "    </tr>\n",
       "  </thead>\n",
       "  <tbody>\n",
       "    <tr>\n",
       "      <th>0</th>\n",
       "      <td>215354</td>\n",
       "      <td>5714462</td>\n",
       "      <td>Closed</td>\n",
       "      <td>currency 1</td>\n",
       "      <td>-497</td>\n",
       "      <td>0</td>\n",
       "      <td>-153.0</td>\n",
       "      <td>-153.0</td>\n",
       "      <td>NaN</td>\n",
       "      <td>0</td>\n",
       "      <td>91323.0</td>\n",
       "      <td>0.0</td>\n",
       "      <td>NaN</td>\n",
       "      <td>0.0</td>\n",
       "      <td>Consumer credit</td>\n",
       "      <td>-131</td>\n",
       "      <td>NaN</td>\n",
       "    </tr>\n",
       "    <tr>\n",
       "      <th>1</th>\n",
       "      <td>215354</td>\n",
       "      <td>5714463</td>\n",
       "      <td>Active</td>\n",
       "      <td>currency 1</td>\n",
       "      <td>-208</td>\n",
       "      <td>0</td>\n",
       "      <td>1075.0</td>\n",
       "      <td>NaN</td>\n",
       "      <td>NaN</td>\n",
       "      <td>0</td>\n",
       "      <td>225000.0</td>\n",
       "      <td>171342.0</td>\n",
       "      <td>NaN</td>\n",
       "      <td>0.0</td>\n",
       "      <td>Credit card</td>\n",
       "      <td>-20</td>\n",
       "      <td>NaN</td>\n",
       "    </tr>\n",
       "    <tr>\n",
       "      <th>2</th>\n",
       "      <td>215354</td>\n",
       "      <td>5714464</td>\n",
       "      <td>Active</td>\n",
       "      <td>currency 1</td>\n",
       "      <td>-203</td>\n",
       "      <td>0</td>\n",
       "      <td>528.0</td>\n",
       "      <td>NaN</td>\n",
       "      <td>NaN</td>\n",
       "      <td>0</td>\n",
       "      <td>464323.5</td>\n",
       "      <td>NaN</td>\n",
       "      <td>NaN</td>\n",
       "      <td>0.0</td>\n",
       "      <td>Consumer credit</td>\n",
       "      <td>-16</td>\n",
       "      <td>NaN</td>\n",
       "    </tr>\n",
       "    <tr>\n",
       "      <th>3</th>\n",
       "      <td>215354</td>\n",
       "      <td>5714465</td>\n",
       "      <td>Active</td>\n",
       "      <td>currency 1</td>\n",
       "      <td>-203</td>\n",
       "      <td>0</td>\n",
       "      <td>NaN</td>\n",
       "      <td>NaN</td>\n",
       "      <td>NaN</td>\n",
       "      <td>0</td>\n",
       "      <td>90000.0</td>\n",
       "      <td>NaN</td>\n",
       "      <td>NaN</td>\n",
       "      <td>0.0</td>\n",
       "      <td>Credit card</td>\n",
       "      <td>-16</td>\n",
       "      <td>NaN</td>\n",
       "    </tr>\n",
       "    <tr>\n",
       "      <th>4</th>\n",
       "      <td>215354</td>\n",
       "      <td>5714466</td>\n",
       "      <td>Active</td>\n",
       "      <td>currency 1</td>\n",
       "      <td>-629</td>\n",
       "      <td>0</td>\n",
       "      <td>1197.0</td>\n",
       "      <td>NaN</td>\n",
       "      <td>77674.5</td>\n",
       "      <td>0</td>\n",
       "      <td>2700000.0</td>\n",
       "      <td>NaN</td>\n",
       "      <td>NaN</td>\n",
       "      <td>0.0</td>\n",
       "      <td>Consumer credit</td>\n",
       "      <td>-21</td>\n",
       "      <td>NaN</td>\n",
       "    </tr>\n",
       "  </tbody>\n",
       "</table>\n",
       "</div>"
      ],
      "text/plain": [
       "   SK_ID_CURR  SK_ID_BUREAU CREDIT_ACTIVE CREDIT_CURRENCY  DAYS_CREDIT  \\\n",
       "0      215354       5714462        Closed      currency 1         -497   \n",
       "1      215354       5714463        Active      currency 1         -208   \n",
       "2      215354       5714464        Active      currency 1         -203   \n",
       "3      215354       5714465        Active      currency 1         -203   \n",
       "4      215354       5714466        Active      currency 1         -629   \n",
       "\n",
       "   CREDIT_DAY_OVERDUE  DAYS_CREDIT_ENDDATE  DAYS_ENDDATE_FACT  \\\n",
       "0                   0               -153.0             -153.0   \n",
       "1                   0               1075.0                NaN   \n",
       "2                   0                528.0                NaN   \n",
       "3                   0                  NaN                NaN   \n",
       "4                   0               1197.0                NaN   \n",
       "\n",
       "   AMT_CREDIT_MAX_OVERDUE  CNT_CREDIT_PROLONG  AMT_CREDIT_SUM  \\\n",
       "0                     NaN                   0         91323.0   \n",
       "1                     NaN                   0        225000.0   \n",
       "2                     NaN                   0        464323.5   \n",
       "3                     NaN                   0         90000.0   \n",
       "4                 77674.5                   0       2700000.0   \n",
       "\n",
       "   AMT_CREDIT_SUM_DEBT  AMT_CREDIT_SUM_LIMIT  AMT_CREDIT_SUM_OVERDUE  \\\n",
       "0                  0.0                   NaN                     0.0   \n",
       "1             171342.0                   NaN                     0.0   \n",
       "2                  NaN                   NaN                     0.0   \n",
       "3                  NaN                   NaN                     0.0   \n",
       "4                  NaN                   NaN                     0.0   \n",
       "\n",
       "       CREDIT_TYPE  DAYS_CREDIT_UPDATE  AMT_ANNUITY  \n",
       "0  Consumer credit                -131          NaN  \n",
       "1      Credit card                 -20          NaN  \n",
       "2  Consumer credit                 -16          NaN  \n",
       "3      Credit card                 -16          NaN  \n",
       "4  Consumer credit                 -21          NaN  "
      ]
     },
     "execution_count": 27,
     "metadata": {
      "tags": []
     },
     "output_type": "execute_result"
    }
   ],
   "source": [
    "bureau.head()"
   ]
  },
  {
   "cell_type": "code",
   "execution_count": null,
   "metadata": {
    "colab": {
     "base_uri": "https://localhost:8080/"
    },
    "execution": {
     "iopub.execute_input": "2021-02-08T17:33:31.321467Z",
     "iopub.status.busy": "2021-02-08T17:33:31.320842Z",
     "iopub.status.idle": "2021-02-08T17:33:31.920477Z",
     "shell.execute_reply": "2021-02-08T17:33:31.919807Z"
    },
    "id": "PpnHxl7wh7_o",
    "outputId": "15c274d3-5a58-4477-a5de-fdb62a922454",
    "papermill": {
     "duration": 0.668691,
     "end_time": "2021-02-08T17:33:31.920644",
     "exception": false,
     "start_time": "2021-02-08T17:33:31.251953",
     "status": "completed"
    },
    "tags": []
   },
   "outputs": [
    {
     "data": {
      "text/plain": [
       "SK_ID_CURR                      0\n",
       "SK_ID_BUREAU                    0\n",
       "CREDIT_ACTIVE                   0\n",
       "CREDIT_CURRENCY                 0\n",
       "DAYS_CREDIT                     0\n",
       "CREDIT_DAY_OVERDUE              0\n",
       "DAYS_CREDIT_ENDDATE        105553\n",
       "DAYS_ENDDATE_FACT          633653\n",
       "AMT_CREDIT_MAX_OVERDUE    1124488\n",
       "CNT_CREDIT_PROLONG              0\n",
       "AMT_CREDIT_SUM                 13\n",
       "AMT_CREDIT_SUM_DEBT        257669\n",
       "AMT_CREDIT_SUM_LIMIT       591780\n",
       "AMT_CREDIT_SUM_OVERDUE          0\n",
       "CREDIT_TYPE                     0\n",
       "DAYS_CREDIT_UPDATE              0\n",
       "AMT_ANNUITY               1226791\n",
       "dtype: int64"
      ]
     },
     "execution_count": 28,
     "metadata": {
      "tags": []
     },
     "output_type": "execute_result"
    }
   ],
   "source": [
    "bureau.isnull().sum()"
   ]
  },
  {
   "cell_type": "code",
   "execution_count": null,
   "metadata": {
    "execution": {
     "iopub.execute_input": "2021-02-08T17:33:32.059875Z",
     "iopub.status.busy": "2021-02-08T17:33:32.059133Z",
     "iopub.status.idle": "2021-02-08T17:33:33.702897Z",
     "shell.execute_reply": "2021-02-08T17:33:33.702297Z"
    },
    "id": "lPG3zK8ph7_o",
    "papermill": {
     "duration": 1.716444,
     "end_time": "2021-02-08T17:33:33.703070",
     "exception": false,
     "start_time": "2021-02-08T17:33:31.986626",
     "status": "completed"
    },
    "tags": []
   },
   "outputs": [],
   "source": [
    "bureau = bureau.replace({'':np.nan})\n",
    "bureau = bureau.dropna(thresh=0.7*len(bureau), axis= 1)"
   ]
  },
  {
   "cell_type": "code",
   "execution_count": null,
   "metadata": {
    "colab": {
     "base_uri": "https://localhost:8080/"
    },
    "execution": {
     "iopub.execute_input": "2021-02-08T17:33:33.842982Z",
     "iopub.status.busy": "2021-02-08T17:33:33.841985Z",
     "iopub.status.idle": "2021-02-08T17:33:33.847444Z",
     "shell.execute_reply": "2021-02-08T17:33:33.846708Z"
    },
    "id": "1MZZyR8Rh7_o",
    "outputId": "dfbe3ef1-9fc4-4e08-abea-864e799d011b",
    "papermill": {
     "duration": 0.078008,
     "end_time": "2021-02-08T17:33:33.847608",
     "exception": false,
     "start_time": "2021-02-08T17:33:33.769600",
     "status": "completed"
    },
    "tags": []
   },
   "outputs": [
    {
     "data": {
      "text/plain": [
       "(1716428, 13)"
      ]
     },
     "execution_count": 30,
     "metadata": {
      "tags": []
     },
     "output_type": "execute_result"
    }
   ],
   "source": [
    "bureau.shape"
   ]
  },
  {
   "cell_type": "markdown",
   "metadata": {
    "id": "8bDChmpih7_p",
    "papermill": {
     "duration": 0.067344,
     "end_time": "2021-02-08T17:33:33.982998",
     "exception": false,
     "start_time": "2021-02-08T17:33:33.915654",
     "status": "completed"
    },
    "tags": []
   },
   "source": [
    "bureau_balance"
   ]
  },
  {
   "cell_type": "code",
   "execution_count": null,
   "metadata": {
    "colab": {
     "base_uri": "https://localhost:8080/",
     "height": 202
    },
    "execution": {
     "iopub.execute_input": "2021-02-08T17:33:34.130263Z",
     "iopub.status.busy": "2021-02-08T17:33:34.129154Z",
     "iopub.status.idle": "2021-02-08T17:33:34.134058Z",
     "shell.execute_reply": "2021-02-08T17:33:34.133411Z"
    },
    "id": "HNnoDP13h7_p",
    "outputId": "61268b7a-78d3-4b38-9cfe-e39dbc698e1f",
    "papermill": {
     "duration": 0.083821,
     "end_time": "2021-02-08T17:33:34.134248",
     "exception": false,
     "start_time": "2021-02-08T17:33:34.050427",
     "status": "completed"
    },
    "tags": []
   },
   "outputs": [
    {
     "data": {
      "text/html": [
       "<div>\n",
       "<style scoped>\n",
       "    .dataframe tbody tr th:only-of-type {\n",
       "        vertical-align: middle;\n",
       "    }\n",
       "\n",
       "    .dataframe tbody tr th {\n",
       "        vertical-align: top;\n",
       "    }\n",
       "\n",
       "    .dataframe thead th {\n",
       "        text-align: right;\n",
       "    }\n",
       "</style>\n",
       "<table border=\"1\" class=\"dataframe\">\n",
       "  <thead>\n",
       "    <tr style=\"text-align: right;\">\n",
       "      <th></th>\n",
       "      <th>SK_ID_BUREAU</th>\n",
       "      <th>MONTHS_BALANCE</th>\n",
       "      <th>STATUS</th>\n",
       "    </tr>\n",
       "  </thead>\n",
       "  <tbody>\n",
       "    <tr>\n",
       "      <th>0</th>\n",
       "      <td>5715448</td>\n",
       "      <td>0</td>\n",
       "      <td>C</td>\n",
       "    </tr>\n",
       "    <tr>\n",
       "      <th>1</th>\n",
       "      <td>5715448</td>\n",
       "      <td>-1</td>\n",
       "      <td>C</td>\n",
       "    </tr>\n",
       "    <tr>\n",
       "      <th>2</th>\n",
       "      <td>5715448</td>\n",
       "      <td>-2</td>\n",
       "      <td>C</td>\n",
       "    </tr>\n",
       "    <tr>\n",
       "      <th>3</th>\n",
       "      <td>5715448</td>\n",
       "      <td>-3</td>\n",
       "      <td>C</td>\n",
       "    </tr>\n",
       "    <tr>\n",
       "      <th>4</th>\n",
       "      <td>5715448</td>\n",
       "      <td>-4</td>\n",
       "      <td>C</td>\n",
       "    </tr>\n",
       "  </tbody>\n",
       "</table>\n",
       "</div>"
      ],
      "text/plain": [
       "   SK_ID_BUREAU  MONTHS_BALANCE STATUS\n",
       "0       5715448               0      C\n",
       "1       5715448              -1      C\n",
       "2       5715448              -2      C\n",
       "3       5715448              -3      C\n",
       "4       5715448              -4      C"
      ]
     },
     "execution_count": 31,
     "metadata": {
      "tags": []
     },
     "output_type": "execute_result"
    }
   ],
   "source": [
    "bureau_balance.head()"
   ]
  },
  {
   "cell_type": "code",
   "execution_count": null,
   "metadata": {
    "colab": {
     "base_uri": "https://localhost:8080/"
    },
    "execution": {
     "iopub.execute_input": "2021-02-08T17:33:34.273619Z",
     "iopub.status.busy": "2021-02-08T17:33:34.272924Z",
     "iopub.status.idle": "2021-02-08T17:33:37.102746Z",
     "shell.execute_reply": "2021-02-08T17:33:37.102105Z"
    },
    "id": "OB3-oWMrh7_p",
    "outputId": "bad55e5d-f02e-472e-8e73-d5c9d9af72d0",
    "papermill": {
     "duration": 2.901322,
     "end_time": "2021-02-08T17:33:37.102897",
     "exception": false,
     "start_time": "2021-02-08T17:33:34.201575",
     "status": "completed"
    },
    "tags": []
   },
   "outputs": [
    {
     "data": {
      "text/plain": [
       "SK_ID_BUREAU      0\n",
       "MONTHS_BALANCE    0\n",
       "STATUS            0\n",
       "dtype: int64"
      ]
     },
     "execution_count": 32,
     "metadata": {
      "tags": []
     },
     "output_type": "execute_result"
    }
   ],
   "source": [
    "bureau_balance.isnull().sum()"
   ]
  },
  {
   "cell_type": "markdown",
   "metadata": {
    "id": "lN_IC8dJh7_p",
    "papermill": {
     "duration": 0.066636,
     "end_time": "2021-02-08T17:33:37.237150",
     "exception": false,
     "start_time": "2021-02-08T17:33:37.170514",
     "status": "completed"
    },
    "tags": []
   },
   "source": [
    "credit_card_balance"
   ]
  },
  {
   "cell_type": "code",
   "execution_count": null,
   "metadata": {
    "colab": {
     "base_uri": "https://localhost:8080/",
     "height": 222
    },
    "execution": {
     "iopub.execute_input": "2021-02-08T17:33:37.400757Z",
     "iopub.status.busy": "2021-02-08T17:33:37.387140Z",
     "iopub.status.idle": "2021-02-08T17:33:37.411480Z",
     "shell.execute_reply": "2021-02-08T17:33:37.411961Z"
    },
    "id": "CW_D_77Vh7_q",
    "outputId": "935d323b-ebfb-44e3-e7fc-03f7c3e3204a",
    "papermill": {
     "duration": 0.106879,
     "end_time": "2021-02-08T17:33:37.412167",
     "exception": false,
     "start_time": "2021-02-08T17:33:37.305288",
     "status": "completed"
    },
    "tags": []
   },
   "outputs": [
    {
     "data": {
      "text/html": [
       "<div>\n",
       "<style scoped>\n",
       "    .dataframe tbody tr th:only-of-type {\n",
       "        vertical-align: middle;\n",
       "    }\n",
       "\n",
       "    .dataframe tbody tr th {\n",
       "        vertical-align: top;\n",
       "    }\n",
       "\n",
       "    .dataframe thead th {\n",
       "        text-align: right;\n",
       "    }\n",
       "</style>\n",
       "<table border=\"1\" class=\"dataframe\">\n",
       "  <thead>\n",
       "    <tr style=\"text-align: right;\">\n",
       "      <th></th>\n",
       "      <th>SK_ID_PREV</th>\n",
       "      <th>SK_ID_CURR</th>\n",
       "      <th>MONTHS_BALANCE</th>\n",
       "      <th>AMT_BALANCE</th>\n",
       "      <th>AMT_CREDIT_LIMIT_ACTUAL</th>\n",
       "      <th>AMT_DRAWINGS_ATM_CURRENT</th>\n",
       "      <th>AMT_DRAWINGS_CURRENT</th>\n",
       "      <th>AMT_DRAWINGS_OTHER_CURRENT</th>\n",
       "      <th>AMT_DRAWINGS_POS_CURRENT</th>\n",
       "      <th>AMT_INST_MIN_REGULARITY</th>\n",
       "      <th>...</th>\n",
       "      <th>AMT_RECIVABLE</th>\n",
       "      <th>AMT_TOTAL_RECEIVABLE</th>\n",
       "      <th>CNT_DRAWINGS_ATM_CURRENT</th>\n",
       "      <th>CNT_DRAWINGS_CURRENT</th>\n",
       "      <th>CNT_DRAWINGS_OTHER_CURRENT</th>\n",
       "      <th>CNT_DRAWINGS_POS_CURRENT</th>\n",
       "      <th>CNT_INSTALMENT_MATURE_CUM</th>\n",
       "      <th>NAME_CONTRACT_STATUS</th>\n",
       "      <th>SK_DPD</th>\n",
       "      <th>SK_DPD_DEF</th>\n",
       "    </tr>\n",
       "  </thead>\n",
       "  <tbody>\n",
       "    <tr>\n",
       "      <th>0</th>\n",
       "      <td>2562384</td>\n",
       "      <td>378907</td>\n",
       "      <td>-6</td>\n",
       "      <td>56.970</td>\n",
       "      <td>135000</td>\n",
       "      <td>0.0</td>\n",
       "      <td>877.5</td>\n",
       "      <td>0.0</td>\n",
       "      <td>877.5</td>\n",
       "      <td>1700.325</td>\n",
       "      <td>...</td>\n",
       "      <td>0.000</td>\n",
       "      <td>0.000</td>\n",
       "      <td>0.0</td>\n",
       "      <td>1</td>\n",
       "      <td>0.0</td>\n",
       "      <td>1.0</td>\n",
       "      <td>35.0</td>\n",
       "      <td>Active</td>\n",
       "      <td>0</td>\n",
       "      <td>0</td>\n",
       "    </tr>\n",
       "    <tr>\n",
       "      <th>1</th>\n",
       "      <td>2582071</td>\n",
       "      <td>363914</td>\n",
       "      <td>-1</td>\n",
       "      <td>63975.555</td>\n",
       "      <td>45000</td>\n",
       "      <td>2250.0</td>\n",
       "      <td>2250.0</td>\n",
       "      <td>0.0</td>\n",
       "      <td>0.0</td>\n",
       "      <td>2250.000</td>\n",
       "      <td>...</td>\n",
       "      <td>64875.555</td>\n",
       "      <td>64875.555</td>\n",
       "      <td>1.0</td>\n",
       "      <td>1</td>\n",
       "      <td>0.0</td>\n",
       "      <td>0.0</td>\n",
       "      <td>69.0</td>\n",
       "      <td>Active</td>\n",
       "      <td>0</td>\n",
       "      <td>0</td>\n",
       "    </tr>\n",
       "    <tr>\n",
       "      <th>2</th>\n",
       "      <td>1740877</td>\n",
       "      <td>371185</td>\n",
       "      <td>-7</td>\n",
       "      <td>31815.225</td>\n",
       "      <td>450000</td>\n",
       "      <td>0.0</td>\n",
       "      <td>0.0</td>\n",
       "      <td>0.0</td>\n",
       "      <td>0.0</td>\n",
       "      <td>2250.000</td>\n",
       "      <td>...</td>\n",
       "      <td>31460.085</td>\n",
       "      <td>31460.085</td>\n",
       "      <td>0.0</td>\n",
       "      <td>0</td>\n",
       "      <td>0.0</td>\n",
       "      <td>0.0</td>\n",
       "      <td>30.0</td>\n",
       "      <td>Active</td>\n",
       "      <td>0</td>\n",
       "      <td>0</td>\n",
       "    </tr>\n",
       "    <tr>\n",
       "      <th>3</th>\n",
       "      <td>1389973</td>\n",
       "      <td>337855</td>\n",
       "      <td>-4</td>\n",
       "      <td>236572.110</td>\n",
       "      <td>225000</td>\n",
       "      <td>2250.0</td>\n",
       "      <td>2250.0</td>\n",
       "      <td>0.0</td>\n",
       "      <td>0.0</td>\n",
       "      <td>11795.760</td>\n",
       "      <td>...</td>\n",
       "      <td>233048.970</td>\n",
       "      <td>233048.970</td>\n",
       "      <td>1.0</td>\n",
       "      <td>1</td>\n",
       "      <td>0.0</td>\n",
       "      <td>0.0</td>\n",
       "      <td>10.0</td>\n",
       "      <td>Active</td>\n",
       "      <td>0</td>\n",
       "      <td>0</td>\n",
       "    </tr>\n",
       "    <tr>\n",
       "      <th>4</th>\n",
       "      <td>1891521</td>\n",
       "      <td>126868</td>\n",
       "      <td>-1</td>\n",
       "      <td>453919.455</td>\n",
       "      <td>450000</td>\n",
       "      <td>0.0</td>\n",
       "      <td>11547.0</td>\n",
       "      <td>0.0</td>\n",
       "      <td>11547.0</td>\n",
       "      <td>22924.890</td>\n",
       "      <td>...</td>\n",
       "      <td>453919.455</td>\n",
       "      <td>453919.455</td>\n",
       "      <td>0.0</td>\n",
       "      <td>1</td>\n",
       "      <td>0.0</td>\n",
       "      <td>1.0</td>\n",
       "      <td>101.0</td>\n",
       "      <td>Active</td>\n",
       "      <td>0</td>\n",
       "      <td>0</td>\n",
       "    </tr>\n",
       "  </tbody>\n",
       "</table>\n",
       "<p>5 rows × 23 columns</p>\n",
       "</div>"
      ],
      "text/plain": [
       "   SK_ID_PREV  SK_ID_CURR  MONTHS_BALANCE  AMT_BALANCE  \\\n",
       "0     2562384      378907              -6       56.970   \n",
       "1     2582071      363914              -1    63975.555   \n",
       "2     1740877      371185              -7    31815.225   \n",
       "3     1389973      337855              -4   236572.110   \n",
       "4     1891521      126868              -1   453919.455   \n",
       "\n",
       "   AMT_CREDIT_LIMIT_ACTUAL  AMT_DRAWINGS_ATM_CURRENT  AMT_DRAWINGS_CURRENT  \\\n",
       "0                   135000                       0.0                 877.5   \n",
       "1                    45000                    2250.0                2250.0   \n",
       "2                   450000                       0.0                   0.0   \n",
       "3                   225000                    2250.0                2250.0   \n",
       "4                   450000                       0.0               11547.0   \n",
       "\n",
       "   AMT_DRAWINGS_OTHER_CURRENT  AMT_DRAWINGS_POS_CURRENT  \\\n",
       "0                         0.0                     877.5   \n",
       "1                         0.0                       0.0   \n",
       "2                         0.0                       0.0   \n",
       "3                         0.0                       0.0   \n",
       "4                         0.0                   11547.0   \n",
       "\n",
       "   AMT_INST_MIN_REGULARITY  ...  AMT_RECIVABLE  AMT_TOTAL_RECEIVABLE  \\\n",
       "0                 1700.325  ...          0.000                 0.000   \n",
       "1                 2250.000  ...      64875.555             64875.555   \n",
       "2                 2250.000  ...      31460.085             31460.085   \n",
       "3                11795.760  ...     233048.970            233048.970   \n",
       "4                22924.890  ...     453919.455            453919.455   \n",
       "\n",
       "   CNT_DRAWINGS_ATM_CURRENT  CNT_DRAWINGS_CURRENT  CNT_DRAWINGS_OTHER_CURRENT  \\\n",
       "0                       0.0                     1                         0.0   \n",
       "1                       1.0                     1                         0.0   \n",
       "2                       0.0                     0                         0.0   \n",
       "3                       1.0                     1                         0.0   \n",
       "4                       0.0                     1                         0.0   \n",
       "\n",
       "   CNT_DRAWINGS_POS_CURRENT  CNT_INSTALMENT_MATURE_CUM  NAME_CONTRACT_STATUS  \\\n",
       "0                       1.0                       35.0                Active   \n",
       "1                       0.0                       69.0                Active   \n",
       "2                       0.0                       30.0                Active   \n",
       "3                       0.0                       10.0                Active   \n",
       "4                       1.0                      101.0                Active   \n",
       "\n",
       "   SK_DPD  SK_DPD_DEF  \n",
       "0       0           0  \n",
       "1       0           0  \n",
       "2       0           0  \n",
       "3       0           0  \n",
       "4       0           0  \n",
       "\n",
       "[5 rows x 23 columns]"
      ]
     },
     "execution_count": 33,
     "metadata": {
      "tags": []
     },
     "output_type": "execute_result"
    }
   ],
   "source": [
    "credit_card_balance.head()"
   ]
  },
  {
   "cell_type": "code",
   "execution_count": null,
   "metadata": {
    "execution": {
     "iopub.execute_input": "2021-02-08T17:33:37.555308Z",
     "iopub.status.busy": "2021-02-08T17:33:37.553988Z",
     "iopub.status.idle": "2021-02-08T17:33:39.191804Z",
     "shell.execute_reply": "2021-02-08T17:33:39.191235Z"
    },
    "id": "FOOKaXHXh7_q",
    "papermill": {
     "duration": 1.711774,
     "end_time": "2021-02-08T17:33:39.191954",
     "exception": false,
     "start_time": "2021-02-08T17:33:37.480180",
     "status": "completed"
    },
    "tags": []
   },
   "outputs": [],
   "source": [
    "credit_card_balance = credit_card_balance.replace({'':np.nan})\n",
    "credit_card_balance = credit_card_balance.dropna(thresh=0.7*len(credit_card_balance), axis= 1)"
   ]
  },
  {
   "cell_type": "code",
   "execution_count": null,
   "metadata": {
    "colab": {
     "base_uri": "https://localhost:8080/"
    },
    "execution": {
     "iopub.execute_input": "2021-02-08T17:33:39.338387Z",
     "iopub.status.busy": "2021-02-08T17:33:39.337057Z",
     "iopub.status.idle": "2021-02-08T17:33:39.880310Z",
     "shell.execute_reply": "2021-02-08T17:33:39.879744Z"
    },
    "id": "a7XcCwBEh7_q",
    "outputId": "43c8d5fd-637f-433e-f3c9-aa6f6458cda2",
    "papermill": {
     "duration": 0.618764,
     "end_time": "2021-02-08T17:33:39.880464",
     "exception": false,
     "start_time": "2021-02-08T17:33:39.261700",
     "status": "completed"
    },
    "tags": []
   },
   "outputs": [
    {
     "data": {
      "text/plain": [
       "SK_ID_PREV                         0\n",
       "SK_ID_CURR                         0\n",
       "MONTHS_BALANCE                     0\n",
       "AMT_BALANCE                        0\n",
       "AMT_CREDIT_LIMIT_ACTUAL            0\n",
       "AMT_DRAWINGS_ATM_CURRENT      749816\n",
       "AMT_DRAWINGS_CURRENT               0\n",
       "AMT_DRAWINGS_OTHER_CURRENT    749816\n",
       "AMT_DRAWINGS_POS_CURRENT      749816\n",
       "AMT_INST_MIN_REGULARITY       305236\n",
       "AMT_PAYMENT_CURRENT           767988\n",
       "AMT_PAYMENT_TOTAL_CURRENT          0\n",
       "AMT_RECEIVABLE_PRINCIPAL           0\n",
       "AMT_RECIVABLE                      0\n",
       "AMT_TOTAL_RECEIVABLE               0\n",
       "CNT_DRAWINGS_ATM_CURRENT      749816\n",
       "CNT_DRAWINGS_CURRENT               0\n",
       "CNT_DRAWINGS_OTHER_CURRENT    749816\n",
       "CNT_DRAWINGS_POS_CURRENT      749816\n",
       "CNT_INSTALMENT_MATURE_CUM     305236\n",
       "NAME_CONTRACT_STATUS               0\n",
       "SK_DPD                             0\n",
       "SK_DPD_DEF                         0\n",
       "dtype: int64"
      ]
     },
     "execution_count": 35,
     "metadata": {
      "tags": []
     },
     "output_type": "execute_result"
    }
   ],
   "source": [
    "credit_card_balance.isnull().sum()"
   ]
  },
  {
   "cell_type": "markdown",
   "metadata": {
    "id": "risigGYyh7_q",
    "papermill": {
     "duration": 0.067981,
     "end_time": "2021-02-08T17:33:40.019207",
     "exception": false,
     "start_time": "2021-02-08T17:33:39.951226",
     "status": "completed"
    },
    "tags": []
   },
   "source": [
    "previous_application"
   ]
  },
  {
   "cell_type": "code",
   "execution_count": null,
   "metadata": {
    "colab": {
     "base_uri": "https://localhost:8080/",
     "height": 291
    },
    "execution": {
     "iopub.execute_input": "2021-02-08T17:33:40.194727Z",
     "iopub.status.busy": "2021-02-08T17:33:40.194039Z",
     "iopub.status.idle": "2021-02-08T17:33:40.200404Z",
     "shell.execute_reply": "2021-02-08T17:33:40.199710Z"
    },
    "id": "WRIsV-ORh7_q",
    "outputId": "52cfde21-85e5-4cb3-fc69-173fe7086c8f",
    "papermill": {
     "duration": 0.113213,
     "end_time": "2021-02-08T17:33:40.200574",
     "exception": false,
     "start_time": "2021-02-08T17:33:40.087361",
     "status": "completed"
    },
    "tags": []
   },
   "outputs": [
    {
     "data": {
      "text/html": [
       "<div>\n",
       "<style scoped>\n",
       "    .dataframe tbody tr th:only-of-type {\n",
       "        vertical-align: middle;\n",
       "    }\n",
       "\n",
       "    .dataframe tbody tr th {\n",
       "        vertical-align: top;\n",
       "    }\n",
       "\n",
       "    .dataframe thead th {\n",
       "        text-align: right;\n",
       "    }\n",
       "</style>\n",
       "<table border=\"1\" class=\"dataframe\">\n",
       "  <thead>\n",
       "    <tr style=\"text-align: right;\">\n",
       "      <th></th>\n",
       "      <th>SK_ID_PREV</th>\n",
       "      <th>SK_ID_CURR</th>\n",
       "      <th>NAME_CONTRACT_TYPE</th>\n",
       "      <th>AMT_ANNUITY</th>\n",
       "      <th>AMT_APPLICATION</th>\n",
       "      <th>AMT_CREDIT</th>\n",
       "      <th>AMT_DOWN_PAYMENT</th>\n",
       "      <th>AMT_GOODS_PRICE</th>\n",
       "      <th>WEEKDAY_APPR_PROCESS_START</th>\n",
       "      <th>HOUR_APPR_PROCESS_START</th>\n",
       "      <th>...</th>\n",
       "      <th>NAME_SELLER_INDUSTRY</th>\n",
       "      <th>CNT_PAYMENT</th>\n",
       "      <th>NAME_YIELD_GROUP</th>\n",
       "      <th>PRODUCT_COMBINATION</th>\n",
       "      <th>DAYS_FIRST_DRAWING</th>\n",
       "      <th>DAYS_FIRST_DUE</th>\n",
       "      <th>DAYS_LAST_DUE_1ST_VERSION</th>\n",
       "      <th>DAYS_LAST_DUE</th>\n",
       "      <th>DAYS_TERMINATION</th>\n",
       "      <th>NFLAG_INSURED_ON_APPROVAL</th>\n",
       "    </tr>\n",
       "  </thead>\n",
       "  <tbody>\n",
       "    <tr>\n",
       "      <th>0</th>\n",
       "      <td>2030495</td>\n",
       "      <td>271877</td>\n",
       "      <td>Consumer loans</td>\n",
       "      <td>1730.430</td>\n",
       "      <td>17145.0</td>\n",
       "      <td>17145.0</td>\n",
       "      <td>0.0</td>\n",
       "      <td>17145.0</td>\n",
       "      <td>SATURDAY</td>\n",
       "      <td>15</td>\n",
       "      <td>...</td>\n",
       "      <td>Connectivity</td>\n",
       "      <td>12.0</td>\n",
       "      <td>middle</td>\n",
       "      <td>POS mobile with interest</td>\n",
       "      <td>365243.0</td>\n",
       "      <td>-42.0</td>\n",
       "      <td>300.0</td>\n",
       "      <td>-42.0</td>\n",
       "      <td>-37.0</td>\n",
       "      <td>0.0</td>\n",
       "    </tr>\n",
       "    <tr>\n",
       "      <th>1</th>\n",
       "      <td>2802425</td>\n",
       "      <td>108129</td>\n",
       "      <td>Cash loans</td>\n",
       "      <td>25188.615</td>\n",
       "      <td>607500.0</td>\n",
       "      <td>679671.0</td>\n",
       "      <td>NaN</td>\n",
       "      <td>607500.0</td>\n",
       "      <td>THURSDAY</td>\n",
       "      <td>11</td>\n",
       "      <td>...</td>\n",
       "      <td>XNA</td>\n",
       "      <td>36.0</td>\n",
       "      <td>low_action</td>\n",
       "      <td>Cash X-Sell: low</td>\n",
       "      <td>365243.0</td>\n",
       "      <td>-134.0</td>\n",
       "      <td>916.0</td>\n",
       "      <td>365243.0</td>\n",
       "      <td>365243.0</td>\n",
       "      <td>1.0</td>\n",
       "    </tr>\n",
       "    <tr>\n",
       "      <th>2</th>\n",
       "      <td>2523466</td>\n",
       "      <td>122040</td>\n",
       "      <td>Cash loans</td>\n",
       "      <td>15060.735</td>\n",
       "      <td>112500.0</td>\n",
       "      <td>136444.5</td>\n",
       "      <td>NaN</td>\n",
       "      <td>112500.0</td>\n",
       "      <td>TUESDAY</td>\n",
       "      <td>11</td>\n",
       "      <td>...</td>\n",
       "      <td>XNA</td>\n",
       "      <td>12.0</td>\n",
       "      <td>high</td>\n",
       "      <td>Cash X-Sell: high</td>\n",
       "      <td>365243.0</td>\n",
       "      <td>-271.0</td>\n",
       "      <td>59.0</td>\n",
       "      <td>365243.0</td>\n",
       "      <td>365243.0</td>\n",
       "      <td>1.0</td>\n",
       "    </tr>\n",
       "    <tr>\n",
       "      <th>3</th>\n",
       "      <td>2819243</td>\n",
       "      <td>176158</td>\n",
       "      <td>Cash loans</td>\n",
       "      <td>47041.335</td>\n",
       "      <td>450000.0</td>\n",
       "      <td>470790.0</td>\n",
       "      <td>NaN</td>\n",
       "      <td>450000.0</td>\n",
       "      <td>MONDAY</td>\n",
       "      <td>7</td>\n",
       "      <td>...</td>\n",
       "      <td>XNA</td>\n",
       "      <td>12.0</td>\n",
       "      <td>middle</td>\n",
       "      <td>Cash X-Sell: middle</td>\n",
       "      <td>365243.0</td>\n",
       "      <td>-482.0</td>\n",
       "      <td>-152.0</td>\n",
       "      <td>-182.0</td>\n",
       "      <td>-177.0</td>\n",
       "      <td>1.0</td>\n",
       "    </tr>\n",
       "    <tr>\n",
       "      <th>4</th>\n",
       "      <td>1784265</td>\n",
       "      <td>202054</td>\n",
       "      <td>Cash loans</td>\n",
       "      <td>31924.395</td>\n",
       "      <td>337500.0</td>\n",
       "      <td>404055.0</td>\n",
       "      <td>NaN</td>\n",
       "      <td>337500.0</td>\n",
       "      <td>THURSDAY</td>\n",
       "      <td>9</td>\n",
       "      <td>...</td>\n",
       "      <td>XNA</td>\n",
       "      <td>24.0</td>\n",
       "      <td>high</td>\n",
       "      <td>Cash Street: high</td>\n",
       "      <td>NaN</td>\n",
       "      <td>NaN</td>\n",
       "      <td>NaN</td>\n",
       "      <td>NaN</td>\n",
       "      <td>NaN</td>\n",
       "      <td>NaN</td>\n",
       "    </tr>\n",
       "  </tbody>\n",
       "</table>\n",
       "<p>5 rows × 37 columns</p>\n",
       "</div>"
      ],
      "text/plain": [
       "   SK_ID_PREV  SK_ID_CURR NAME_CONTRACT_TYPE  AMT_ANNUITY  AMT_APPLICATION  \\\n",
       "0     2030495      271877     Consumer loans     1730.430          17145.0   \n",
       "1     2802425      108129         Cash loans    25188.615         607500.0   \n",
       "2     2523466      122040         Cash loans    15060.735         112500.0   \n",
       "3     2819243      176158         Cash loans    47041.335         450000.0   \n",
       "4     1784265      202054         Cash loans    31924.395         337500.0   \n",
       "\n",
       "   AMT_CREDIT  AMT_DOWN_PAYMENT  AMT_GOODS_PRICE WEEKDAY_APPR_PROCESS_START  \\\n",
       "0     17145.0               0.0          17145.0                   SATURDAY   \n",
       "1    679671.0               NaN         607500.0                   THURSDAY   \n",
       "2    136444.5               NaN         112500.0                    TUESDAY   \n",
       "3    470790.0               NaN         450000.0                     MONDAY   \n",
       "4    404055.0               NaN         337500.0                   THURSDAY   \n",
       "\n",
       "   HOUR_APPR_PROCESS_START  ... NAME_SELLER_INDUSTRY  CNT_PAYMENT  \\\n",
       "0                       15  ...         Connectivity         12.0   \n",
       "1                       11  ...                  XNA         36.0   \n",
       "2                       11  ...                  XNA         12.0   \n",
       "3                        7  ...                  XNA         12.0   \n",
       "4                        9  ...                  XNA         24.0   \n",
       "\n",
       "   NAME_YIELD_GROUP       PRODUCT_COMBINATION  DAYS_FIRST_DRAWING  \\\n",
       "0            middle  POS mobile with interest            365243.0   \n",
       "1        low_action          Cash X-Sell: low            365243.0   \n",
       "2              high         Cash X-Sell: high            365243.0   \n",
       "3            middle       Cash X-Sell: middle            365243.0   \n",
       "4              high         Cash Street: high                 NaN   \n",
       "\n",
       "  DAYS_FIRST_DUE DAYS_LAST_DUE_1ST_VERSION  DAYS_LAST_DUE DAYS_TERMINATION  \\\n",
       "0          -42.0                     300.0          -42.0            -37.0   \n",
       "1         -134.0                     916.0       365243.0         365243.0   \n",
       "2         -271.0                      59.0       365243.0         365243.0   \n",
       "3         -482.0                    -152.0         -182.0           -177.0   \n",
       "4            NaN                       NaN            NaN              NaN   \n",
       "\n",
       "  NFLAG_INSURED_ON_APPROVAL  \n",
       "0                       0.0  \n",
       "1                       1.0  \n",
       "2                       1.0  \n",
       "3                       1.0  \n",
       "4                       NaN  \n",
       "\n",
       "[5 rows x 37 columns]"
      ]
     },
     "execution_count": 36,
     "metadata": {
      "tags": []
     },
     "output_type": "execute_result"
    }
   ],
   "source": [
    "previous_application.head()"
   ]
  },
  {
   "cell_type": "code",
   "execution_count": null,
   "metadata": {
    "execution": {
     "iopub.execute_input": "2021-02-08T17:33:40.350500Z",
     "iopub.status.busy": "2021-02-08T17:33:40.349798Z",
     "iopub.status.idle": "2021-02-08T17:33:48.460986Z",
     "shell.execute_reply": "2021-02-08T17:33:48.460287Z"
    },
    "id": "m9NTiej3h7_r",
    "papermill": {
     "duration": 8.188893,
     "end_time": "2021-02-08T17:33:48.461175",
     "exception": false,
     "start_time": "2021-02-08T17:33:40.272282",
     "status": "completed"
    },
    "tags": []
   },
   "outputs": [],
   "source": [
    "previous_application = previous_application.replace({'':np.nan})\n",
    "previous_application = previous_application.dropna(thresh=0.7*len(previous_application), axis= 1)"
   ]
  },
  {
   "cell_type": "code",
   "execution_count": null,
   "metadata": {
    "colab": {
     "base_uri": "https://localhost:8080/"
    },
    "execution": {
     "iopub.execute_input": "2021-02-08T17:33:48.609361Z",
     "iopub.status.busy": "2021-02-08T17:33:48.608567Z",
     "iopub.status.idle": "2021-02-08T17:33:51.147138Z",
     "shell.execute_reply": "2021-02-08T17:33:51.146437Z"
    },
    "id": "Nw9qzX9Nh7_r",
    "outputId": "003c1074-2ad0-45ae-ca87-3d3665e7e751",
    "papermill": {
     "duration": 2.614805,
     "end_time": "2021-02-08T17:33:51.147317",
     "exception": false,
     "start_time": "2021-02-08T17:33:48.532512",
     "status": "completed"
    },
    "tags": []
   },
   "outputs": [
    {
     "data": {
      "text/plain": [
       "SK_ID_PREV                          0\n",
       "SK_ID_CURR                          0\n",
       "NAME_CONTRACT_TYPE                  0\n",
       "AMT_ANNUITY                    372235\n",
       "AMT_APPLICATION                     0\n",
       "AMT_CREDIT                          1\n",
       "AMT_GOODS_PRICE                385515\n",
       "WEEKDAY_APPR_PROCESS_START          0\n",
       "HOUR_APPR_PROCESS_START             0\n",
       "FLAG_LAST_APPL_PER_CONTRACT         0\n",
       "NFLAG_LAST_APPL_IN_DAY              0\n",
       "NAME_CASH_LOAN_PURPOSE              0\n",
       "NAME_CONTRACT_STATUS                0\n",
       "DAYS_DECISION                       0\n",
       "NAME_PAYMENT_TYPE                   0\n",
       "CODE_REJECT_REASON                  0\n",
       "NAME_CLIENT_TYPE                    0\n",
       "NAME_GOODS_CATEGORY                 0\n",
       "NAME_PORTFOLIO                      0\n",
       "NAME_PRODUCT_TYPE                   0\n",
       "CHANNEL_TYPE                        0\n",
       "SELLERPLACE_AREA                    0\n",
       "NAME_SELLER_INDUSTRY                0\n",
       "CNT_PAYMENT                    372230\n",
       "NAME_YIELD_GROUP                    0\n",
       "PRODUCT_COMBINATION               346\n",
       "dtype: int64"
      ]
     },
     "execution_count": 38,
     "metadata": {
      "tags": []
     },
     "output_type": "execute_result"
    }
   ],
   "source": [
    "previous_application.isnull().sum()"
   ]
  },
  {
   "cell_type": "markdown",
   "metadata": {
    "id": "va9eQZ2Vh7_r",
    "papermill": {
     "duration": 0.074962,
     "end_time": "2021-02-08T17:33:51.294625",
     "exception": false,
     "start_time": "2021-02-08T17:33:51.219663",
     "status": "completed"
    },
    "tags": []
   },
   "source": [
    "installments_payments"
   ]
  },
  {
   "cell_type": "code",
   "execution_count": null,
   "metadata": {
    "colab": {
     "base_uri": "https://localhost:8080/",
     "height": 202
    },
    "execution": {
     "iopub.execute_input": "2021-02-08T17:33:51.453823Z",
     "iopub.status.busy": "2021-02-08T17:33:51.448778Z",
     "iopub.status.idle": "2021-02-08T17:33:51.459587Z",
     "shell.execute_reply": "2021-02-08T17:33:51.458979Z"
    },
    "id": "vuUKNPx9h7_r",
    "outputId": "d99bea84-287c-4034-e063-086b84341a96",
    "papermill": {
     "duration": 0.092442,
     "end_time": "2021-02-08T17:33:51.459746",
     "exception": false,
     "start_time": "2021-02-08T17:33:51.367304",
     "status": "completed"
    },
    "tags": []
   },
   "outputs": [
    {
     "data": {
      "text/html": [
       "<div>\n",
       "<style scoped>\n",
       "    .dataframe tbody tr th:only-of-type {\n",
       "        vertical-align: middle;\n",
       "    }\n",
       "\n",
       "    .dataframe tbody tr th {\n",
       "        vertical-align: top;\n",
       "    }\n",
       "\n",
       "    .dataframe thead th {\n",
       "        text-align: right;\n",
       "    }\n",
       "</style>\n",
       "<table border=\"1\" class=\"dataframe\">\n",
       "  <thead>\n",
       "    <tr style=\"text-align: right;\">\n",
       "      <th></th>\n",
       "      <th>SK_ID_PREV</th>\n",
       "      <th>SK_ID_CURR</th>\n",
       "      <th>NUM_INSTALMENT_VERSION</th>\n",
       "      <th>NUM_INSTALMENT_NUMBER</th>\n",
       "      <th>DAYS_INSTALMENT</th>\n",
       "      <th>DAYS_ENTRY_PAYMENT</th>\n",
       "      <th>AMT_INSTALMENT</th>\n",
       "      <th>AMT_PAYMENT</th>\n",
       "    </tr>\n",
       "  </thead>\n",
       "  <tbody>\n",
       "    <tr>\n",
       "      <th>0</th>\n",
       "      <td>1054186</td>\n",
       "      <td>161674</td>\n",
       "      <td>1.0</td>\n",
       "      <td>6</td>\n",
       "      <td>-1180.0</td>\n",
       "      <td>-1187.0</td>\n",
       "      <td>6948.360</td>\n",
       "      <td>6948.360</td>\n",
       "    </tr>\n",
       "    <tr>\n",
       "      <th>1</th>\n",
       "      <td>1330831</td>\n",
       "      <td>151639</td>\n",
       "      <td>0.0</td>\n",
       "      <td>34</td>\n",
       "      <td>-2156.0</td>\n",
       "      <td>-2156.0</td>\n",
       "      <td>1716.525</td>\n",
       "      <td>1716.525</td>\n",
       "    </tr>\n",
       "    <tr>\n",
       "      <th>2</th>\n",
       "      <td>2085231</td>\n",
       "      <td>193053</td>\n",
       "      <td>2.0</td>\n",
       "      <td>1</td>\n",
       "      <td>-63.0</td>\n",
       "      <td>-63.0</td>\n",
       "      <td>25425.000</td>\n",
       "      <td>25425.000</td>\n",
       "    </tr>\n",
       "    <tr>\n",
       "      <th>3</th>\n",
       "      <td>2452527</td>\n",
       "      <td>199697</td>\n",
       "      <td>1.0</td>\n",
       "      <td>3</td>\n",
       "      <td>-2418.0</td>\n",
       "      <td>-2426.0</td>\n",
       "      <td>24350.130</td>\n",
       "      <td>24350.130</td>\n",
       "    </tr>\n",
       "    <tr>\n",
       "      <th>4</th>\n",
       "      <td>2714724</td>\n",
       "      <td>167756</td>\n",
       "      <td>1.0</td>\n",
       "      <td>2</td>\n",
       "      <td>-1383.0</td>\n",
       "      <td>-1366.0</td>\n",
       "      <td>2165.040</td>\n",
       "      <td>2160.585</td>\n",
       "    </tr>\n",
       "  </tbody>\n",
       "</table>\n",
       "</div>"
      ],
      "text/plain": [
       "   SK_ID_PREV  SK_ID_CURR  NUM_INSTALMENT_VERSION  NUM_INSTALMENT_NUMBER  \\\n",
       "0     1054186      161674                     1.0                      6   \n",
       "1     1330831      151639                     0.0                     34   \n",
       "2     2085231      193053                     2.0                      1   \n",
       "3     2452527      199697                     1.0                      3   \n",
       "4     2714724      167756                     1.0                      2   \n",
       "\n",
       "   DAYS_INSTALMENT  DAYS_ENTRY_PAYMENT  AMT_INSTALMENT  AMT_PAYMENT  \n",
       "0          -1180.0             -1187.0        6948.360     6948.360  \n",
       "1          -2156.0             -2156.0        1716.525     1716.525  \n",
       "2            -63.0               -63.0       25425.000    25425.000  \n",
       "3          -2418.0             -2426.0       24350.130    24350.130  \n",
       "4          -1383.0             -1366.0        2165.040     2160.585  "
      ]
     },
     "execution_count": 39,
     "metadata": {
      "tags": []
     },
     "output_type": "execute_result"
    }
   ],
   "source": [
    "installments_payments.head()"
   ]
  },
  {
   "cell_type": "code",
   "execution_count": null,
   "metadata": {
    "execution": {
     "iopub.execute_input": "2021-02-08T17:33:51.609369Z",
     "iopub.status.busy": "2021-02-08T17:33:51.607549Z",
     "iopub.status.idle": "2021-02-08T17:33:52.720300Z",
     "shell.execute_reply": "2021-02-08T17:33:52.719632Z"
    },
    "id": "md2ALP1eh7_s",
    "papermill": {
     "duration": 1.190022,
     "end_time": "2021-02-08T17:33:52.720464",
     "exception": false,
     "start_time": "2021-02-08T17:33:51.530442",
     "status": "completed"
    },
    "tags": []
   },
   "outputs": [],
   "source": [
    "\n",
    "installments_payments = installments_payments.dropna(thresh=0.7*len(installments_payments), axis= 1)"
   ]
  },
  {
   "cell_type": "code",
   "execution_count": null,
   "metadata": {
    "colab": {
     "base_uri": "https://localhost:8080/"
    },
    "execution": {
     "iopub.execute_input": "2021-02-08T17:33:52.871356Z",
     "iopub.status.busy": "2021-02-08T17:33:52.869706Z",
     "iopub.status.idle": "2021-02-08T17:33:53.067440Z",
     "shell.execute_reply": "2021-02-08T17:33:53.066721Z"
    },
    "id": "PAd5DyIyh7_s",
    "outputId": "b5fd0b5c-66b2-4051-f23e-84588fa206dd",
    "papermill": {
     "duration": 0.275483,
     "end_time": "2021-02-08T17:33:53.067606",
     "exception": false,
     "start_time": "2021-02-08T17:33:52.792123",
     "status": "completed"
    },
    "tags": []
   },
   "outputs": [
    {
     "data": {
      "text/plain": [
       "SK_ID_PREV                   0\n",
       "SK_ID_CURR                   0\n",
       "NUM_INSTALMENT_VERSION       0\n",
       "NUM_INSTALMENT_NUMBER        0\n",
       "DAYS_INSTALMENT              0\n",
       "DAYS_ENTRY_PAYMENT        2905\n",
       "AMT_INSTALMENT               0\n",
       "AMT_PAYMENT               2905\n",
       "dtype: int64"
      ]
     },
     "execution_count": 41,
     "metadata": {
      "tags": []
     },
     "output_type": "execute_result"
    }
   ],
   "source": [
    "installments_payments.isnull().sum()"
   ]
  },
  {
   "cell_type": "markdown",
   "metadata": {
    "id": "CizEmB6Mh7_s",
    "papermill": {
     "duration": 0.072134,
     "end_time": "2021-02-08T17:33:53.212913",
     "exception": false,
     "start_time": "2021-02-08T17:33:53.140779",
     "status": "completed"
    },
    "tags": []
   },
   "source": [
    "Data preparation"
   ]
  },
  {
   "cell_type": "code",
   "execution_count": null,
   "metadata": {
    "execution": {
     "iopub.execute_input": "2021-02-08T17:33:53.369771Z",
     "iopub.status.busy": "2021-02-08T17:33:53.368841Z",
     "iopub.status.idle": "2021-02-08T17:33:53.373353Z",
     "shell.execute_reply": "2021-02-08T17:33:53.372686Z"
    },
    "id": "J8vlzH2Nh7_s",
    "papermill": {
     "duration": 0.088217,
     "end_time": "2021-02-08T17:33:53.373516",
     "exception": false,
     "start_time": "2021-02-08T17:33:53.285299",
     "status": "completed"
    },
    "tags": []
   },
   "outputs": [],
   "source": [
    "app_train=application_train[[\"SK_ID_CURR\",\"TARGET\"]]"
   ]
  },
  {
   "cell_type": "markdown",
   "metadata": {
    "execution": {
     "iopub.execute_input": "2021-02-08T17:33:53.573695Z",
     "iopub.status.busy": "2021-02-08T17:33:53.573048Z",
     "iopub.status.idle": "2021-02-08T17:34:19.312366Z",
     "shell.execute_reply": "2021-02-08T17:34:19.311667Z"
    },
    "id": "WBR1JVojh7_s",
    "outputId": "9d9cdb7d-de25-43d5-ca71-4f92422e7b45",
    "papermill": {
     "duration": 25.841516,
     "end_time": "2021-02-08T17:34:19.312531",
     "exception": false,
     "start_time": "2021-02-08T17:33:53.471015",
     "status": "completed"
    },
    "tags": []
   },
   "source": []
  },
  {
   "cell_type": "code",
   "execution_count": null,
   "metadata": {
    "id": "VL6hQvtwgrzI"
   },
   "outputs": [],
   "source": [
    "app_train_bureau = app_train.merge(bureau,how='inner', on=['SK_ID_CURR'])\n",
    "app_train_bureau_prev = app_train_bureau.merge(previous_application,how='inner', on=['SK_ID_CURR'])\n"
   ]
  },
  {
   "cell_type": "code",
   "execution_count": null,
   "metadata": {
    "execution": {
     "iopub.execute_input": "2021-02-08T17:34:19.461208Z",
     "iopub.status.busy": "2021-02-08T17:34:19.460067Z",
     "iopub.status.idle": "2021-02-08T17:34:34.167551Z",
     "shell.execute_reply": "2021-02-08T17:34:34.168143Z"
    },
    "id": "jAclA1wBh7_t",
    "outputId": "01ec6a51-ea66-4d7e-ea08-1d58635a87e6",
    "papermill": {
     "duration": 14.782716,
     "end_time": "2021-02-08T17:34:34.168368",
     "exception": false,
     "start_time": "2021-02-08T17:34:19.385652",
     "status": "completed"
    },
    "tags": []
   },
   "outputs": [
    {
     "data": {
      "text/plain": [
       "SK_ID_CURR                           0\n",
       "TARGET                               0\n",
       "SK_ID_BUREAU                         0\n",
       "CREDIT_ACTIVE                        0\n",
       "CREDIT_CURRENCY                      0\n",
       "DAYS_CREDIT                          0\n",
       "CREDIT_DAY_OVERDUE                   0\n",
       "DAYS_CREDIT_ENDDATE             503971\n",
       "CNT_CREDIT_PROLONG                   0\n",
       "AMT_CREDIT_SUM                      12\n",
       "AMT_CREDIT_SUM_DEBT            1208590\n",
       "AMT_CREDIT_SUM_OVERDUE               0\n",
       "CREDIT_TYPE                          0\n",
       "DAYS_CREDIT_UPDATE                   0\n",
       "SK_ID_PREV                           0\n",
       "NAME_CONTRACT_TYPE                   0\n",
       "AMT_ANNUITY                    1728580\n",
       "AMT_APPLICATION                      0\n",
       "AMT_CREDIT                           1\n",
       "AMT_GOODS_PRICE                1758163\n",
       "WEEKDAY_APPR_PROCESS_START           0\n",
       "HOUR_APPR_PROCESS_START              0\n",
       "FLAG_LAST_APPL_PER_CONTRACT          0\n",
       "NFLAG_LAST_APPL_IN_DAY               0\n",
       "NAME_CASH_LOAN_PURPOSE               0\n",
       "NAME_CONTRACT_STATUS                 0\n",
       "DAYS_DECISION                        0\n",
       "NAME_PAYMENT_TYPE                    0\n",
       "CODE_REJECT_REASON                   0\n",
       "NAME_CLIENT_TYPE                     0\n",
       "NAME_GOODS_CATEGORY                  0\n",
       "NAME_PORTFOLIO                       0\n",
       "NAME_PRODUCT_TYPE                    0\n",
       "CHANNEL_TYPE                         0\n",
       "SELLERPLACE_AREA                     0\n",
       "NAME_SELLER_INDUSTRY                 0\n",
       "CNT_PAYMENT                    1728572\n",
       "NAME_YIELD_GROUP                     0\n",
       "PRODUCT_COMBINATION               2210\n",
       "dtype: int64"
      ]
     },
     "execution_count": 44,
     "metadata": {
      "tags": []
     },
     "output_type": "execute_result"
    }
   ],
   "source": [
    "app_train_bureau_prev.isnull().sum()"
   ]
  },
  {
   "cell_type": "code",
   "execution_count": null,
   "metadata": {
    "execution": {
     "iopub.execute_input": "2021-02-08T17:34:34.327200Z",
     "iopub.status.busy": "2021-02-08T17:34:34.326430Z",
     "iopub.status.idle": "2021-02-08T17:34:48.880304Z",
     "shell.execute_reply": "2021-02-08T17:34:48.879552Z"
    },
    "id": "P1cDQE_8h7_t",
    "outputId": "42ad5111-ce14-483a-9827-5e54dfbe9b04",
    "papermill": {
     "duration": 14.636927,
     "end_time": "2021-02-08T17:34:48.880480",
     "exception": false,
     "start_time": "2021-02-08T17:34:34.243553",
     "status": "completed"
    },
    "tags": []
   },
   "outputs": [
    {
     "data": {
      "text/html": [
       "<div>\n",
       "<style scoped>\n",
       "    .dataframe tbody tr th:only-of-type {\n",
       "        vertical-align: middle;\n",
       "    }\n",
       "\n",
       "    .dataframe tbody tr th {\n",
       "        vertical-align: top;\n",
       "    }\n",
       "\n",
       "    .dataframe thead th {\n",
       "        text-align: right;\n",
       "    }\n",
       "</style>\n",
       "<table border=\"1\" class=\"dataframe\">\n",
       "  <thead>\n",
       "    <tr style=\"text-align: right;\">\n",
       "      <th></th>\n",
       "      <th>Miss%</th>\n",
       "    </tr>\n",
       "  </thead>\n",
       "  <tbody>\n",
       "    <tr>\n",
       "      <th>DAYS_CREDIT_ENDDATE</th>\n",
       "      <td>6.416228</td>\n",
       "    </tr>\n",
       "    <tr>\n",
       "      <th>AMT_CREDIT_SUM</th>\n",
       "      <td>0.000153</td>\n",
       "    </tr>\n",
       "    <tr>\n",
       "      <th>AMT_CREDIT_SUM_DEBT</th>\n",
       "      <td>15.386974</td>\n",
       "    </tr>\n",
       "    <tr>\n",
       "      <th>AMT_ANNUITY</th>\n",
       "      <td>22.007145</td>\n",
       "    </tr>\n",
       "    <tr>\n",
       "      <th>AMT_CREDIT</th>\n",
       "      <td>0.000013</td>\n",
       "    </tr>\n",
       "    <tr>\n",
       "      <th>AMT_GOODS_PRICE</th>\n",
       "      <td>22.383776</td>\n",
       "    </tr>\n",
       "    <tr>\n",
       "      <th>CNT_PAYMENT</th>\n",
       "      <td>22.007043</td>\n",
       "    </tr>\n",
       "    <tr>\n",
       "      <th>PRODUCT_COMBINATION</th>\n",
       "      <td>0.028136</td>\n",
       "    </tr>\n",
       "  </tbody>\n",
       "</table>\n",
       "</div>"
      ],
      "text/plain": [
       "                         Miss%\n",
       "DAYS_CREDIT_ENDDATE   6.416228\n",
       "AMT_CREDIT_SUM        0.000153\n",
       "AMT_CREDIT_SUM_DEBT  15.386974\n",
       "AMT_ANNUITY          22.007145\n",
       "AMT_CREDIT            0.000013\n",
       "AMT_GOODS_PRICE      22.383776\n",
       "CNT_PAYMENT          22.007043\n",
       "PRODUCT_COMBINATION   0.028136"
      ]
     },
     "execution_count": 45,
     "metadata": {
      "tags": []
     },
     "output_type": "execute_result"
    }
   ],
   "source": [
    "Miss_bureau_pre = pd.DataFrame(columns=[\"Miss%\"])\n",
    "Miss_bureau_pre[\"Miss%\"]=((app_train_bureau_prev.isnull().sum())*100/len(app_train_bureau_prev))\n",
    "Miss_bureau_pre[Miss_bureau_pre[\"Miss%\"]>0]"
   ]
  },
  {
   "cell_type": "code",
   "execution_count": null,
   "metadata": {
    "execution": {
     "iopub.execute_input": "2021-02-08T17:34:49.042472Z",
     "iopub.status.busy": "2021-02-08T17:34:49.041681Z",
     "iopub.status.idle": "2021-02-08T17:34:54.699987Z",
     "shell.execute_reply": "2021-02-08T17:34:54.699429Z"
    },
    "id": "8OVQha3sh7_t",
    "papermill": {
     "duration": 5.74224,
     "end_time": "2021-02-08T17:34:54.700185",
     "exception": false,
     "start_time": "2021-02-08T17:34:48.957945",
     "status": "completed"
    },
    "tags": []
   },
   "outputs": [],
   "source": [
    "l= [\"DAYS_CREDIT_ENDDATE\",\"AMT_CREDIT_SUM\",\"AMT_CREDIT_SUM_DEBT\",\"AMT_ANNUITY\",\"AMT_CREDIT\",\"AMT_GOODS_PRICE\",\n",
    "    \"CNT_PAYMENT\",\"PRODUCT_COMBINATION\"]\n",
    "num_data_bureau_prev= app_train_bureau_prev[l].select_dtypes(include= [np.number])\n",
    "cat_data_bureau_prev = app_train_bureau_prev[l].select_dtypes(exclude= [np.number])\n",
    "\n",
    "col_miss_num_bureau_prev = list(num_data_bureau_prev.columns)\n",
    "col_miss_cat_bureau_prev = list(cat_data_bureau_prev.columns)"
   ]
  },
  {
   "cell_type": "code",
   "execution_count": null,
   "metadata": {
    "execution": {
     "iopub.execute_input": "2021-02-08T17:34:54.869910Z",
     "iopub.status.busy": "2021-02-08T17:34:54.855499Z",
     "iopub.status.idle": "2021-02-08T17:34:54.915428Z",
     "shell.execute_reply": "2021-02-08T17:34:54.914254Z"
    },
    "id": "NExRxTnxh7_t",
    "papermill": {
     "duration": 0.141891,
     "end_time": "2021-02-08T17:34:54.915640",
     "exception": false,
     "start_time": "2021-02-08T17:34:54.773749",
     "status": "completed"
    },
    "tags": []
   },
   "outputs": [],
   "source": [
    "l1= ['AMT_ANNUITY', 'AMT_GOODS_PRICE', 'NAME_TYPE_SUITE', 'CNT_FAM_MEMBERS',\n",
    "       'EXT_SOURCE_2', 'EXT_SOURCE_3', 'OBS_30_CNT_SOCIAL_CIRCLE',\n",
    "       'DEF_30_CNT_SOCIAL_CIRCLE', 'OBS_60_CNT_SOCIAL_CIRCLE',\n",
    "       'DEF_60_CNT_SOCIAL_CIRCLE', 'DAYS_LAST_PHONE_CHANGE',\n",
    "       'AMT_REQ_CREDIT_BUREAU_HOUR', 'AMT_REQ_CREDIT_BUREAU_DAY',\n",
    "       'AMT_REQ_CREDIT_BUREAU_WEEK', 'AMT_REQ_CREDIT_BUREAU_MON',\n",
    "       'AMT_REQ_CREDIT_BUREAU_QRT', 'AMT_REQ_CREDIT_BUREAU_YEAR']\n",
    "\n",
    "\n",
    "num_data_app= application_train[l1].select_dtypes(include= [np.number])\n",
    "cat_data_app = application_train[l1].select_dtypes(exclude= [np.number])\n",
    "\n",
    "col_miss_num_app= list(num_data_app.columns)\n",
    "col_miss_cat_app = list(cat_data_app.columns)\n"
   ]
  },
  {
   "cell_type": "code",
   "execution_count": null,
   "metadata": {
    "execution": {
     "iopub.execute_input": "2021-02-08T17:34:55.220146Z",
     "iopub.status.busy": "2021-02-08T17:34:55.219434Z",
     "iopub.status.idle": "2021-02-08T17:34:57.105018Z",
     "shell.execute_reply": "2021-02-08T17:34:57.104297Z"
    },
    "id": "ztziIfibh7_u",
    "papermill": {
     "duration": 2.114248,
     "end_time": "2021-02-08T17:34:57.105216",
     "exception": false,
     "start_time": "2021-02-08T17:34:54.990968",
     "status": "completed"
    },
    "tags": []
   },
   "outputs": [],
   "source": [
    "med_bureau_prev = app_train_bureau_prev[col_miss_num_bureau_prev].median()\n",
    "med_app = application_train[col_miss_num_app].median()\n",
    "\n",
    "mode_bureau_prev = app_train_bureau_prev[col_miss_cat_bureau_prev].mode()\n",
    "mode_app = application_train[col_miss_cat_app].mode()"
   ]
  },
  {
   "cell_type": "code",
   "execution_count": null,
   "metadata": {
    "execution": {
     "iopub.execute_input": "2021-02-08T17:34:57.266008Z",
     "iopub.status.busy": "2021-02-08T17:34:57.265152Z",
     "iopub.status.idle": "2021-02-08T17:34:57.268051Z",
     "shell.execute_reply": "2021-02-08T17:34:57.268577Z"
    },
    "id": "WLps4vUch7_u",
    "papermill": {
     "duration": 0.087401,
     "end_time": "2021-02-08T17:34:57.268797",
     "exception": false,
     "start_time": "2021-02-08T17:34:57.181396",
     "status": "completed"
    },
    "tags": []
   },
   "outputs": [],
   "source": [
    "Dict_val_bureau_prev = med_bureau_prev.to_dict()\n",
    "Dict_val_app = med_app.to_dict()\n",
    "\n",
    "Dict_val_cat_bureau_prev = {\"PRODUCT_COMBINATION\":\"Cash\"\n",
    "    \n",
    "}\n",
    "Dict_val_cat_app = {\"NAME_TYPE_SUITE\":\"Unaccompanied\"}"
   ]
  },
  {
   "cell_type": "code",
   "execution_count": null,
   "metadata": {
    "execution": {
     "iopub.execute_input": "2021-02-08T17:34:57.427403Z",
     "iopub.status.busy": "2021-02-08T17:34:57.426652Z",
     "iopub.status.idle": "2021-02-08T17:34:58.425436Z",
     "shell.execute_reply": "2021-02-08T17:34:58.424785Z"
    },
    "id": "J6MoDnUJh7_v",
    "papermill": {
     "duration": 1.081758,
     "end_time": "2021-02-08T17:34:58.425603",
     "exception": false,
     "start_time": "2021-02-08T17:34:57.343845",
     "status": "completed"
    },
    "tags": []
   },
   "outputs": [],
   "source": [
    "app_train_bureau_prev.fillna(value= Dict_val_bureau_prev, inplace=True)\n",
    "application_train.fillna(value= Dict_val_app, inplace=True)\n",
    "\n",
    "app_train_bureau_prev.fillna(value= Dict_val_cat_bureau_prev, inplace=True)\n",
    "application_train.fillna(value= Dict_val_cat_app, inplace=True)\n",
    "\n"
   ]
  },
  {
   "cell_type": "markdown",
   "metadata": {
    "id": "KrLF71v7h7_v",
    "papermill": {
     "duration": 0.074181,
     "end_time": "2021-02-08T17:34:58.574190",
     "exception": false,
     "start_time": "2021-02-08T17:34:58.500009",
     "status": "completed"
    },
    "tags": []
   },
   "source": [
    "Correlation"
   ]
  },
  {
   "cell_type": "code",
   "execution_count": null,
   "metadata": {
    "execution": {
     "iopub.execute_input": "2021-02-08T17:34:58.730475Z",
     "iopub.status.busy": "2021-02-08T17:34:58.729252Z",
     "iopub.status.idle": "2021-02-08T17:35:02.101835Z",
     "shell.execute_reply": "2021-02-08T17:35:02.102343Z"
    },
    "id": "r-yiGOxfh7_v",
    "outputId": "112f5bd8-70c2-4602-93ac-ff58d831dd48",
    "papermill": {
     "duration": 3.454371,
     "end_time": "2021-02-08T17:35:02.102564",
     "exception": false,
     "start_time": "2021-02-08T17:34:58.648193",
     "status": "completed"
    },
    "tags": []
   },
   "outputs": [
    {
     "data": {
      "text/plain": [
       "Index(['TARGET', 'EXT_SOURCE_2', 'EXT_SOURCE_3', 'Age_in_years',\n",
       "       'REGION_RATING_CLIENT_W_CITY', 'REGION_RATING_CLIENT',\n",
       "       'DAYS_LAST_PHONE_CHANGE', 'DAYS_ID_PUBLISH', 'REG_CITY_NOT_WORK_CITY',\n",
       "       'FLAG_EMP_PHONE', 'Years_Employed', 'REG_CITY_NOT_LIVE_CITY',\n",
       "       'FLAG_DOCUMENT_3', 'DAYS_REGISTRATION', 'AMT_GOODS_PRICE',\n",
       "       'REGION_POPULATION_RELATIVE', 'LIVE_CITY_NOT_WORK_CITY',\n",
       "       'DEF_30_CNT_SOCIAL_CIRCLE', 'DEF_60_CNT_SOCIAL_CIRCLE', 'AMT_CREDIT',\n",
       "       'FLAG_DOCUMENT_6', 'FLAG_WORK_PHONE', 'HOUR_APPR_PROCESS_START',\n",
       "       'FLAG_PHONE', 'CNT_CHILDREN', 'AMT_REQ_CREDIT_BUREAU_MON',\n",
       "       'AMT_ANNUITY', 'AMT_REQ_CREDIT_BUREAU_YEAR', 'FLAG_DOCUMENT_16',\n",
       "       'FLAG_DOCUMENT_13', 'FLAG_DOCUMENT_14', 'OBS_30_CNT_SOCIAL_CIRCLE',\n",
       "       'OBS_60_CNT_SOCIAL_CIRCLE', 'CNT_FAM_MEMBERS', 'FLAG_DOCUMENT_8',\n",
       "       'FLAG_DOCUMENT_18', 'credit-income ratio', 'REG_REGION_NOT_WORK_REGION',\n",
       "       'FLAG_DOCUMENT_15', 'AMT_REQ_CREDIT_BUREAU_QRT'],\n",
       "      dtype='object')"
      ]
     },
     "execution_count": 51,
     "metadata": {
      "tags": []
     },
     "output_type": "execute_result"
    }
   ],
   "source": [
    "Cor= application_train.corr().abs()\n",
    "col_app = Cor.nlargest(40,\"TARGET\").index\n",
    "col_app"
   ]
  },
  {
   "cell_type": "code",
   "execution_count": null,
   "metadata": {
    "execution": {
     "iopub.execute_input": "2021-02-08T17:35:02.262812Z",
     "iopub.status.busy": "2021-02-08T17:35:02.262139Z",
     "iopub.status.idle": "2021-02-08T17:35:12.831733Z",
     "shell.execute_reply": "2021-02-08T17:35:12.831141Z"
    },
    "id": "SSvRGyoVh7_w",
    "outputId": "a05bebca-e677-4ae0-bebb-2aca0b252337",
    "papermill": {
     "duration": 10.652846,
     "end_time": "2021-02-08T17:35:12.831914",
     "exception": false,
     "start_time": "2021-02-08T17:35:02.179068",
     "status": "completed"
    },
    "tags": []
   },
   "outputs": [
    {
     "data": {
      "text/plain": [
       "Index(['TARGET', 'DAYS_CREDIT', 'DAYS_CREDIT_UPDATE', 'DAYS_DECISION',\n",
       "       'CNT_PAYMENT', 'DAYS_CREDIT_ENDDATE', 'HOUR_APPR_PROCESS_START',\n",
       "       'AMT_CREDIT', 'AMT_GOODS_PRICE', 'AMT_CREDIT_SUM_OVERDUE'],\n",
       "      dtype='object')"
      ]
     },
     "execution_count": 52,
     "metadata": {
      "tags": []
     },
     "output_type": "execute_result"
    }
   ],
   "source": [
    "Cor= app_train_bureau_prev.corr().abs()\n",
    "col_bureau_prev = Cor.nlargest(10,\"TARGET\").index\n",
    "col_bureau_prev"
   ]
  },
  {
   "cell_type": "code",
   "execution_count": null,
   "metadata": {
    "execution": {
     "iopub.execute_input": "2021-02-08T17:35:12.991292Z",
     "iopub.status.busy": "2021-02-08T17:35:12.990593Z",
     "iopub.status.idle": "2021-02-08T17:35:27.497344Z",
     "shell.execute_reply": "2021-02-08T17:35:27.496660Z"
    },
    "id": "RdtWVwXdh7_w",
    "outputId": "6a57a47c-edda-4efe-90b5-94cb4e068453",
    "papermill": {
     "duration": 14.588094,
     "end_time": "2021-02-08T17:35:27.497506",
     "exception": false,
     "start_time": "2021-02-08T17:35:12.909412",
     "status": "completed"
    },
    "tags": []
   },
   "outputs": [
    {
     "data": {
      "text/plain": [
       "0    39\n",
       "dtype: int64"
      ]
     },
     "execution_count": 53,
     "metadata": {
      "tags": []
     },
     "output_type": "execute_result"
    }
   ],
   "source": [
    "app_train_bureau_prev.isnull().sum().value_counts()\n"
   ]
  },
  {
   "cell_type": "code",
   "execution_count": null,
   "metadata": {
    "execution": {
     "iopub.execute_input": "2021-02-08T17:35:27.727158Z",
     "iopub.status.busy": "2021-02-08T17:35:27.696258Z",
     "iopub.status.idle": "2021-02-08T17:35:27.730917Z",
     "shell.execute_reply": "2021-02-08T17:35:27.730262Z"
    },
    "id": "vlQPUNHNh7_w",
    "papermill": {
     "duration": 0.158288,
     "end_time": "2021-02-08T17:35:27.731070",
     "exception": false,
     "start_time": "2021-02-08T17:35:27.572782",
     "status": "completed"
    },
    "tags": []
   },
   "outputs": [],
   "source": [
    "# app_final = application_train[['SK_ID_CURR','TARGET', 'EXT_SOURCE_2', 'EXT_SOURCE_3', 'Age_in_years',\n",
    "#        'REGION_RATING_CLIENT_W_CITY', 'REGION_RATING_CLIENT',\n",
    "#        'DAYS_LAST_PHONE_CHANGE', 'DAYS_ID_PUBLISH', 'REG_CITY_NOT_WORK_CITY',\n",
    "#        'FLAG_EMP_PHONE', 'Years_Employed', 'REG_CITY_NOT_LIVE_CITY',\n",
    "#        'FLAG_DOCUMENT_3', 'DAYS_REGISTRATION', 'AMT_GOODS_PRICE']]\n",
    "\n",
    "app_final = application_train[['SK_ID_CURR','TARGET', 'EXT_SOURCE_2', 'EXT_SOURCE_3', 'Age_in_years',\n",
    "       'REGION_RATING_CLIENT_W_CITY', 'REGION_RATING_CLIENT',\n",
    "       'DAYS_LAST_PHONE_CHANGE', 'DAYS_ID_PUBLISH', 'REG_CITY_NOT_WORK_CITY',\n",
    "       'FLAG_EMP_PHONE', 'Years_Employed', 'REG_CITY_NOT_LIVE_CITY',\n",
    "       'FLAG_DOCUMENT_3', 'DAYS_REGISTRATION', 'AMT_GOODS_PRICE',\n",
    "       'REGION_POPULATION_RELATIVE', 'LIVE_CITY_NOT_WORK_CITY',\n",
    "       'DEF_30_CNT_SOCIAL_CIRCLE', 'DEF_60_CNT_SOCIAL_CIRCLE', 'AMT_CREDIT',\n",
    "       'FLAG_DOCUMENT_6', 'FLAG_WORK_PHONE', 'HOUR_APPR_PROCESS_START',\n",
    "       'FLAG_PHONE', 'CNT_CHILDREN', 'AMT_REQ_CREDIT_BUREAU_MON',\n",
    "       'AMT_ANNUITY', 'AMT_REQ_CREDIT_BUREAU_YEAR', 'FLAG_DOCUMENT_16',\n",
    "       'FLAG_DOCUMENT_13', 'FLAG_DOCUMENT_14', 'OBS_30_CNT_SOCIAL_CIRCLE',\n",
    "       'OBS_60_CNT_SOCIAL_CIRCLE', 'CNT_FAM_MEMBERS', 'FLAG_DOCUMENT_8',\n",
    "       'FLAG_DOCUMENT_18', 'credit-income ratio', 'REG_REGION_NOT_WORK_REGION',\n",
    "       'FLAG_DOCUMENT_15', 'AMT_REQ_CREDIT_BUREAU_QRT']]\n",
    "\n",
    "bureau_final = bureau[[\"SK_ID_CURR\",'DAYS_CREDIT', 'DAYS_CREDIT_UPDATE', 'DAYS_CREDIT_ENDDATE','AMT_CREDIT_SUM_OVERDUE']]\n",
    "prev_final = previous_application [['SK_ID_CURR','CNT_PAYMENT','DAYS_DECISION','AMT_CREDIT', 'HOUR_APPR_PROCESS_START',\n",
    "                                    'AMT_GOODS_PRICE',]]\n"
   ]
  },
  {
   "cell_type": "code",
   "execution_count": null,
   "metadata": {
    "id": "oKhis_amh7_x",
    "papermill": {
     "duration": 0.073716,
     "end_time": "2021-02-08T17:35:27.879841",
     "exception": false,
     "start_time": "2021-02-08T17:35:27.806125",
     "status": "completed"
    },
    "tags": []
   },
   "outputs": [],
   "source": []
  },
  {
   "cell_type": "code",
   "execution_count": null,
   "metadata": {
    "execution": {
     "iopub.execute_input": "2021-02-08T17:35:28.038377Z",
     "iopub.status.busy": "2021-02-08T17:35:28.036874Z",
     "iopub.status.idle": "2021-02-08T17:35:30.573839Z",
     "shell.execute_reply": "2021-02-08T17:35:30.573184Z"
    },
    "id": "LXSJXTZvh7_x",
    "papermill": {
     "duration": 2.619656,
     "end_time": "2021-02-08T17:35:30.573985",
     "exception": false,
     "start_time": "2021-02-08T17:35:27.954329",
     "status": "completed"
    },
    "tags": []
   },
   "outputs": [],
   "source": [
    "app_train_bureau_final = app_final.merge(bureau_final,how='inner', on=['SK_ID_CURR'])\n",
    "app_train_bureau_prev_final = app_train_bureau_final.merge(prev_final,how='inner', on=['SK_ID_CURR'])\n"
   ]
  },
  {
   "cell_type": "code",
   "execution_count": null,
   "metadata": {
    "execution": {
     "iopub.execute_input": "2021-02-08T17:35:31.020754Z",
     "iopub.status.busy": "2021-02-08T17:35:30.742445Z",
     "iopub.status.idle": "2021-02-08T17:35:31.056661Z",
     "shell.execute_reply": "2021-02-08T17:35:31.056115Z"
    },
    "id": "yDPwgHf6h7_x",
    "papermill": {
     "duration": 0.40647,
     "end_time": "2021-02-08T17:35:31.056809",
     "exception": false,
     "start_time": "2021-02-08T17:35:30.650339",
     "status": "completed"
    },
    "tags": []
   },
   "outputs": [],
   "source": [
    "del bureau_balance\n",
    "del credit_card_balance\n",
    "del installments_payments\n",
    "del POS_CASH_balance\n",
    "del app_train_bureau_prev\n",
    "del num_data_bureau_prev\n",
    "del cat_data_bureau_prev\n",
    "del num_data_app\n",
    "del cat_data_app\n",
    "del app_train_bureau_final\n",
    "del app_train\n",
    "del app_train_bureau\n"
   ]
  },
  {
   "cell_type": "code",
   "execution_count": null,
   "metadata": {
    "execution": {
     "iopub.execute_input": "2021-02-08T17:35:31.212821Z",
     "iopub.status.busy": "2021-02-08T17:35:31.211447Z",
     "iopub.status.idle": "2021-02-08T17:35:32.451767Z",
     "shell.execute_reply": "2021-02-08T17:35:32.451114Z"
    },
    "id": "FF2CINRph7_y",
    "papermill": {
     "duration": 1.320551,
     "end_time": "2021-02-08T17:35:32.451973",
     "exception": false,
     "start_time": "2021-02-08T17:35:31.131422",
     "status": "completed"
    },
    "tags": []
   },
   "outputs": [],
   "source": [
    "app_train_bureau_prev_final.fillna(value= Dict_val_bureau_prev, inplace=True)"
   ]
  },
  {
   "cell_type": "code",
   "execution_count": null,
   "metadata": {
    "execution": {
     "iopub.execute_input": "2021-02-08T17:35:33.447386Z",
     "iopub.status.busy": "2021-02-08T17:35:33.439754Z",
     "iopub.status.idle": "2021-02-08T17:35:33.452124Z",
     "shell.execute_reply": "2021-02-08T17:35:33.451493Z"
    },
    "id": "jZAVCW6Ih7_y",
    "outputId": "9be9bbf3-8889-4af1-d387-dd93606aaabb",
    "papermill": {
     "duration": 0.90385,
     "end_time": "2021-02-08T17:35:33.452273",
     "exception": false,
     "start_time": "2021-02-08T17:35:32.548423",
     "status": "completed"
    },
    "tags": []
   },
   "outputs": [
    {
     "data": {
      "text/plain": [
       "Index(['SK_ID_CURR', 'TARGET', 'EXT_SOURCE_2', 'EXT_SOURCE_3', 'Age_in_years',\n",
       "       'REGION_RATING_CLIENT_W_CITY', 'REGION_RATING_CLIENT',\n",
       "       'DAYS_LAST_PHONE_CHANGE', 'DAYS_ID_PUBLISH', 'REG_CITY_NOT_WORK_CITY',\n",
       "       'FLAG_EMP_PHONE', 'Years_Employed', 'REG_CITY_NOT_LIVE_CITY',\n",
       "       'FLAG_DOCUMENT_3', 'DAYS_REGISTRATION', 'AMT_GOODS_PRICE_x',\n",
       "       'REGION_POPULATION_RELATIVE', 'LIVE_CITY_NOT_WORK_CITY',\n",
       "       'DEF_30_CNT_SOCIAL_CIRCLE', 'DEF_60_CNT_SOCIAL_CIRCLE', 'AMT_CREDIT_x',\n",
       "       'FLAG_DOCUMENT_6', 'FLAG_WORK_PHONE', 'HOUR_APPR_PROCESS_START_x',\n",
       "       'FLAG_PHONE', 'CNT_CHILDREN', 'AMT_REQ_CREDIT_BUREAU_MON',\n",
       "       'AMT_ANNUITY', 'AMT_REQ_CREDIT_BUREAU_YEAR', 'FLAG_DOCUMENT_16',\n",
       "       'FLAG_DOCUMENT_13', 'FLAG_DOCUMENT_14', 'OBS_30_CNT_SOCIAL_CIRCLE',\n",
       "       'OBS_60_CNT_SOCIAL_CIRCLE', 'CNT_FAM_MEMBERS', 'FLAG_DOCUMENT_8',\n",
       "       'FLAG_DOCUMENT_18', 'credit-income ratio', 'REG_REGION_NOT_WORK_REGION',\n",
       "       'FLAG_DOCUMENT_15', 'AMT_REQ_CREDIT_BUREAU_QRT', 'DAYS_CREDIT',\n",
       "       'DAYS_CREDIT_UPDATE', 'DAYS_CREDIT_ENDDATE', 'AMT_CREDIT_SUM_OVERDUE',\n",
       "       'CNT_PAYMENT', 'DAYS_DECISION', 'AMT_CREDIT_y',\n",
       "       'HOUR_APPR_PROCESS_START_y'],\n",
       "      dtype='object')"
      ]
     },
     "execution_count": 58,
     "metadata": {
      "tags": []
     },
     "output_type": "execute_result"
    }
   ],
   "source": [
    "app_train_bureau_prev_final.drop('AMT_GOODS_PRICE_y', inplace=True, axis=1)\n",
    "app_train_bureau_prev_final.columns\n"
   ]
  },
  {
   "cell_type": "code",
   "execution_count": null,
   "metadata": {
    "id": "eCvFVbE2grzM",
    "outputId": "bdbe06ef-1a3f-4e1f-8acc-e40e4c8c2d7b"
   },
   "outputs": [
    {
     "data": {
      "text/plain": [
       "Index(['SK_ID_CURR', 'TARGET', 'EXT_SOURCE_2', 'EXT_SOURCE_3', 'Age_in_years',\n",
       "       'REGION_RATING_CLIENT_W_CITY', 'REGION_RATING_CLIENT',\n",
       "       'DAYS_LAST_PHONE_CHANGE', 'DAYS_ID_PUBLISH', 'REG_CITY_NOT_WORK_CITY',\n",
       "       'FLAG_EMP_PHONE', 'Years_Employed', 'REG_CITY_NOT_LIVE_CITY',\n",
       "       'FLAG_DOCUMENT_3', 'DAYS_REGISTRATION', 'AMT_GOODS_PRICE_x',\n",
       "       'REGION_POPULATION_RELATIVE', 'LIVE_CITY_NOT_WORK_CITY',\n",
       "       'DEF_30_CNT_SOCIAL_CIRCLE', 'DEF_60_CNT_SOCIAL_CIRCLE', 'AMT_CREDIT_x',\n",
       "       'FLAG_DOCUMENT_6', 'FLAG_WORK_PHONE', 'HOUR_APPR_PROCESS_START_x',\n",
       "       'FLAG_PHONE', 'CNT_CHILDREN', 'AMT_REQ_CREDIT_BUREAU_MON',\n",
       "       'AMT_ANNUITY', 'AMT_REQ_CREDIT_BUREAU_YEAR', 'FLAG_DOCUMENT_16',\n",
       "       'FLAG_DOCUMENT_13', 'FLAG_DOCUMENT_14', 'OBS_30_CNT_SOCIAL_CIRCLE',\n",
       "       'OBS_60_CNT_SOCIAL_CIRCLE', 'CNT_FAM_MEMBERS', 'FLAG_DOCUMENT_8',\n",
       "       'FLAG_DOCUMENT_18', 'credit-income ratio', 'REG_REGION_NOT_WORK_REGION',\n",
       "       'FLAG_DOCUMENT_15', 'AMT_REQ_CREDIT_BUREAU_QRT', 'DAYS_CREDIT',\n",
       "       'DAYS_CREDIT_UPDATE', 'DAYS_CREDIT_ENDDATE', 'AMT_CREDIT_SUM_OVERDUE',\n",
       "       'CNT_PAYMENT', 'DAYS_DECISION', 'HOUR_APPR_PROCESS_START_y'],\n",
       "      dtype='object')"
      ]
     },
     "execution_count": 59,
     "metadata": {
      "tags": []
     },
     "output_type": "execute_result"
    }
   ],
   "source": [
    "app_train_bureau_prev_final.drop('AMT_CREDIT_y', inplace=True, axis=1)\n",
    "app_train_bureau_prev_final.columns\n"
   ]
  },
  {
   "cell_type": "code",
   "execution_count": null,
   "metadata": {
    "id": "gnHMlhGEgrzM",
    "outputId": "cd897e7a-6ea1-4af3-ad98-e9aa4f6fb5d7"
   },
   "outputs": [
    {
     "name": "stdout",
     "output_type": "stream",
     "text": [
      "<class 'pandas.core.frame.DataFrame'>\n",
      "Int64Index: 7854631 entries, 0 to 7854630\n",
      "Data columns (total 48 columns):\n",
      " #   Column                       Dtype  \n",
      "---  ------                       -----  \n",
      " 0   SK_ID_CURR                   int64  \n",
      " 1   TARGET                       int64  \n",
      " 2   EXT_SOURCE_2                 float64\n",
      " 3   EXT_SOURCE_3                 float64\n",
      " 4   Age_in_years                 float64\n",
      " 5   REGION_RATING_CLIENT_W_CITY  int64  \n",
      " 6   REGION_RATING_CLIENT         int64  \n",
      " 7   DAYS_LAST_PHONE_CHANGE       float64\n",
      " 8   DAYS_ID_PUBLISH              int64  \n",
      " 9   REG_CITY_NOT_WORK_CITY       int64  \n",
      " 10  FLAG_EMP_PHONE               int64  \n",
      " 11  Years_Employed               float64\n",
      " 12  REG_CITY_NOT_LIVE_CITY       int64  \n",
      " 13  FLAG_DOCUMENT_3              int64  \n",
      " 14  DAYS_REGISTRATION            float64\n",
      " 15  AMT_GOODS_PRICE_x            float64\n",
      " 16  REGION_POPULATION_RELATIVE   float64\n",
      " 17  LIVE_CITY_NOT_WORK_CITY      int64  \n",
      " 18  DEF_30_CNT_SOCIAL_CIRCLE     float64\n",
      " 19  DEF_60_CNT_SOCIAL_CIRCLE     float64\n",
      " 20  AMT_CREDIT_x                 float64\n",
      " 21  FLAG_DOCUMENT_6              int64  \n",
      " 22  FLAG_WORK_PHONE              int64  \n",
      " 23  HOUR_APPR_PROCESS_START_x    int64  \n",
      " 24  FLAG_PHONE                   int64  \n",
      " 25  CNT_CHILDREN                 int64  \n",
      " 26  AMT_REQ_CREDIT_BUREAU_MON    float64\n",
      " 27  AMT_ANNUITY                  float64\n",
      " 28  AMT_REQ_CREDIT_BUREAU_YEAR   float64\n",
      " 29  FLAG_DOCUMENT_16             int64  \n",
      " 30  FLAG_DOCUMENT_13             int64  \n",
      " 31  FLAG_DOCUMENT_14             int64  \n",
      " 32  OBS_30_CNT_SOCIAL_CIRCLE     float64\n",
      " 33  OBS_60_CNT_SOCIAL_CIRCLE     float64\n",
      " 34  CNT_FAM_MEMBERS              float64\n",
      " 35  FLAG_DOCUMENT_8              int64  \n",
      " 36  FLAG_DOCUMENT_18             int64  \n",
      " 37  credit-income ratio          float64\n",
      " 38  REG_REGION_NOT_WORK_REGION   int64  \n",
      " 39  FLAG_DOCUMENT_15             int64  \n",
      " 40  AMT_REQ_CREDIT_BUREAU_QRT    float64\n",
      " 41  DAYS_CREDIT                  int64  \n",
      " 42  DAYS_CREDIT_UPDATE           int64  \n",
      " 43  DAYS_CREDIT_ENDDATE          float64\n",
      " 44  AMT_CREDIT_SUM_OVERDUE       float64\n",
      " 45  CNT_PAYMENT                  float64\n",
      " 46  DAYS_DECISION                int64  \n",
      " 47  HOUR_APPR_PROCESS_START_y    int64  \n",
      "dtypes: float64(22), int64(26)\n",
      "memory usage: 2.9 GB\n"
     ]
    }
   ],
   "source": [
    "app_train_bureau_prev_final.info()"
   ]
  },
  {
   "cell_type": "code",
   "execution_count": null,
   "metadata": {
    "id": "aWv0bgV2grzM",
    "outputId": "bb46c32d-9176-4dee-ee42-148871d7044d"
   },
   "outputs": [
    {
     "data": {
      "text/plain": [
       "SK_ID_CURR                     0\n",
       "TARGET                         0\n",
       "EXT_SOURCE_2                   0\n",
       "EXT_SOURCE_3                   0\n",
       "Age_in_years                   0\n",
       "REGION_RATING_CLIENT_W_CITY    0\n",
       "REGION_RATING_CLIENT           0\n",
       "DAYS_LAST_PHONE_CHANGE         0\n",
       "DAYS_ID_PUBLISH                0\n",
       "REG_CITY_NOT_WORK_CITY         0\n",
       "FLAG_EMP_PHONE                 0\n",
       "Years_Employed                 0\n",
       "REG_CITY_NOT_LIVE_CITY         0\n",
       "FLAG_DOCUMENT_3                0\n",
       "DAYS_REGISTRATION              0\n",
       "AMT_GOODS_PRICE_x              0\n",
       "REGION_POPULATION_RELATIVE     0\n",
       "LIVE_CITY_NOT_WORK_CITY        0\n",
       "DEF_30_CNT_SOCIAL_CIRCLE       0\n",
       "DEF_60_CNT_SOCIAL_CIRCLE       0\n",
       "AMT_CREDIT_x                   0\n",
       "FLAG_DOCUMENT_6                0\n",
       "FLAG_WORK_PHONE                0\n",
       "HOUR_APPR_PROCESS_START_x      0\n",
       "FLAG_PHONE                     0\n",
       "CNT_CHILDREN                   0\n",
       "AMT_REQ_CREDIT_BUREAU_MON      0\n",
       "AMT_ANNUITY                    0\n",
       "AMT_REQ_CREDIT_BUREAU_YEAR     0\n",
       "FLAG_DOCUMENT_16               0\n",
       "FLAG_DOCUMENT_13               0\n",
       "FLAG_DOCUMENT_14               0\n",
       "OBS_30_CNT_SOCIAL_CIRCLE       0\n",
       "OBS_60_CNT_SOCIAL_CIRCLE       0\n",
       "CNT_FAM_MEMBERS                0\n",
       "FLAG_DOCUMENT_8                0\n",
       "FLAG_DOCUMENT_18               0\n",
       "credit-income ratio            0\n",
       "REG_REGION_NOT_WORK_REGION     0\n",
       "FLAG_DOCUMENT_15               0\n",
       "AMT_REQ_CREDIT_BUREAU_QRT      0\n",
       "DAYS_CREDIT                    0\n",
       "DAYS_CREDIT_UPDATE             0\n",
       "DAYS_CREDIT_ENDDATE            0\n",
       "AMT_CREDIT_SUM_OVERDUE         0\n",
       "CNT_PAYMENT                    0\n",
       "DAYS_DECISION                  0\n",
       "HOUR_APPR_PROCESS_START_y      0\n",
       "dtype: int64"
      ]
     },
     "execution_count": 61,
     "metadata": {
      "tags": []
     },
     "output_type": "execute_result"
    }
   ],
   "source": [
    "app_train_bureau_prev_final.isnull().sum()"
   ]
  },
  {
   "cell_type": "code",
   "execution_count": null,
   "metadata": {
    "execution": {
     "iopub.execute_input": "2021-02-08T17:35:33.610168Z",
     "iopub.status.busy": "2021-02-08T17:35:33.609017Z",
     "iopub.status.idle": "2021-02-08T17:35:36.796208Z",
     "shell.execute_reply": "2021-02-08T17:35:36.795475Z"
    },
    "id": "kzxBWRFYh7_y",
    "outputId": "b089ab22-b279-4d6c-fcb8-0e72d44299b1",
    "papermill": {
     "duration": 3.26839,
     "end_time": "2021-02-08T17:35:36.796463",
     "exception": false,
     "start_time": "2021-02-08T17:35:33.528073",
     "status": "completed"
    },
    "tags": []
   },
   "outputs": [
    {
     "data": {
      "text/plain": [
       "SK_ID_CURR                      -0.000814\n",
       "TARGET                           2.897126\n",
       "EXT_SOURCE_2                    -0.839841\n",
       "EXT_SOURCE_3                    -0.217146\n",
       "Age_in_years                     0.080279\n",
       "REGION_RATING_CLIENT_W_CITY      0.162626\n",
       "REGION_RATING_CLIENT             0.198660\n",
       "DAYS_LAST_PHONE_CHANGE          -0.256641\n",
       "DAYS_ID_PUBLISH                  0.514998\n",
       "REG_CITY_NOT_WORK_CITY           1.476760\n",
       "FLAG_EMP_PHONE                  -1.587543\n",
       "Years_Employed                  -1.587187\n",
       "REG_CITY_NOT_LIVE_CITY           3.614271\n",
       "FLAG_DOCUMENT_3                 -1.141035\n",
       "DAYS_REGISTRATION               -0.596112\n",
       "AMT_GOODS_PRICE_x                1.167495\n",
       "REGION_POPULATION_RELATIVE       1.516790\n",
       "LIVE_CITY_NOT_WORK_CITY          1.825741\n",
       "DEF_30_CNT_SOCIAL_CIRCLE         4.510014\n",
       "DEF_60_CNT_SOCIAL_CIRCLE         4.831230\n",
       "AMT_CREDIT_x                     1.080208\n",
       "FLAG_DOCUMENT_6                  2.917715\n",
       "FLAG_WORK_PHONE                  1.629817\n",
       "HOUR_APPR_PROCESS_START_x        0.005681\n",
       "FLAG_PHONE                       0.848631\n",
       "CNT_CHILDREN                     1.909581\n",
       "AMT_REQ_CREDIT_BUREAU_MON        6.386471\n",
       "AMT_ANNUITY                      1.211653\n",
       "AMT_REQ_CREDIT_BUREAU_YEAR       0.885002\n",
       "FLAG_DOCUMENT_16                12.712239\n",
       "FLAG_DOCUMENT_13                21.508136\n",
       "FLAG_DOCUMENT_14                26.843944\n",
       "OBS_30_CNT_SOCIAL_CIRCLE         7.067026\n",
       "OBS_60_CNT_SOCIAL_CIRCLE         7.037080\n",
       "CNT_FAM_MEMBERS                  0.973619\n",
       "FLAG_DOCUMENT_8                  3.314111\n",
       "FLAG_DOCUMENT_18                15.330239\n",
       "credit-income ratio              1.715033\n",
       "REG_REGION_NOT_WORK_REGION       4.826295\n",
       "FLAG_DOCUMENT_15                36.514071\n",
       "AMT_REQ_CREDIT_BUREAU_QRT       69.755522\n",
       "DAYS_CREDIT                     -0.579404\n",
       "DAYS_CREDIT_UPDATE             -14.224435\n",
       "DAYS_CREDIT_ENDDATE              5.293603\n",
       "AMT_CREDIT_SUM_OVERDUE         423.055179\n",
       "CNT_PAYMENT                      1.793048\n",
       "DAYS_DECISION                   -0.944262\n",
       "HOUR_APPR_PROCESS_START_y       -0.030735\n",
       "dtype: float64"
      ]
     },
     "execution_count": 62,
     "metadata": {
      "tags": []
     },
     "output_type": "execute_result"
    }
   ],
   "source": [
    "app_train_bureau_prev_final.skew()"
   ]
  },
  {
   "cell_type": "code",
   "execution_count": null,
   "metadata": {
    "execution": {
     "iopub.execute_input": "2021-02-08T17:35:36.973934Z",
     "iopub.status.busy": "2021-02-08T17:35:36.972481Z",
     "iopub.status.idle": "2021-02-08T17:35:37.184811Z",
     "shell.execute_reply": "2021-02-08T17:35:37.185355Z"
    },
    "id": "-ILYrpHHh7_y",
    "papermill": {
     "duration": 0.303363,
     "end_time": "2021-02-08T17:35:37.185584",
     "exception": false,
     "start_time": "2021-02-08T17:35:36.882221",
     "status": "completed"
    },
    "tags": []
   },
   "outputs": [],
   "source": [
    "app_train_bureau_prev_final[\"AMT_CREDIT_SUM_OVERDUE\"]=np.log((0.01+app_train_bureau_prev_final[\"AMT_CREDIT_SUM_OVERDUE\"]))"
   ]
  },
  {
   "cell_type": "markdown",
   "metadata": {
    "id": "jKYz8YALh7_y",
    "papermill": {
     "duration": 0.083523,
     "end_time": "2021-02-08T17:35:37.354073",
     "exception": false,
     "start_time": "2021-02-08T17:35:37.270550",
     "status": "completed"
    },
    "tags": []
   },
   "source": [
    "Modelling"
   ]
  },
  {
   "cell_type": "code",
   "execution_count": null,
   "metadata": {
    "execution": {
     "iopub.execute_input": "2021-02-08T17:35:37.524244Z",
     "iopub.status.busy": "2021-02-08T17:35:37.523489Z",
     "iopub.status.idle": "2021-02-08T17:35:37.796543Z",
     "shell.execute_reply": "2021-02-08T17:35:37.795384Z"
    },
    "id": "UX-fkfNLh7_z",
    "papermill": {
     "duration": 0.362548,
     "end_time": "2021-02-08T17:35:37.796739",
     "exception": false,
     "start_time": "2021-02-08T17:35:37.434191",
     "status": "completed"
    },
    "tags": []
   },
   "outputs": [],
   "source": [
    "from sklearn.utils import resample"
   ]
  },
  {
   "cell_type": "code",
   "execution_count": null,
   "metadata": {
    "execution": {
     "iopub.execute_input": "2021-02-08T17:35:37.971980Z",
     "iopub.status.busy": "2021-02-08T17:35:37.971296Z",
     "iopub.status.idle": "2021-02-08T17:35:42.651293Z",
     "shell.execute_reply": "2021-02-08T17:35:42.650613Z"
    },
    "id": "kuwEqg5ah7_z",
    "outputId": "feab54df-448b-4c90-eb73-9b6de0b172b7",
    "papermill": {
     "duration": 4.77529,
     "end_time": "2021-02-08T17:35:42.651467",
     "exception": false,
     "start_time": "2021-02-08T17:35:37.876177",
     "status": "completed"
    },
    "tags": []
   },
   "outputs": [
    {
     "data": {
      "text/plain": [
       "1    7159298\n",
       "0    7159298\n",
       "Name: TARGET, dtype: int64"
      ]
     },
     "execution_count": 65,
     "metadata": {
      "tags": []
     },
     "output_type": "execute_result"
    }
   ],
   "source": [
    "df_train_final_majority = app_train_bureau_prev_final[app_train_bureau_prev_final.TARGET==0]\n",
    "df_train_final_minority = app_train_bureau_prev_final[app_train_bureau_prev_final.TARGET==1]\n",
    " \n",
    "# Upsample minority class\n",
    "df_train_final_minority_upsampled = resample(df_train_final_minority, \n",
    "                                 replace=True,     # sample with replacement\n",
    "                                 n_samples=7159298,    # to match majority class\n",
    "                                 random_state=123) # reproducible results\n",
    " \n",
    "# Combine majority class with upsampled minority class\n",
    "df_train_final = pd.concat([df_train_final_majority, df_train_final_minority_upsampled])\n",
    "del df_train_final_majority\n",
    "del df_train_final_minority_upsampled\n",
    "del df_train_final_minority\n",
    "del app_train_bureau_prev_final\n",
    "# Display new class counts\n",
    "df_train_final.TARGET.value_counts()"
   ]
  },
  {
   "cell_type": "code",
   "execution_count": null,
   "metadata": {
    "execution": {
     "iopub.execute_input": "2021-02-08T17:35:42.816371Z",
     "iopub.status.busy": "2021-02-08T17:35:42.815575Z",
     "iopub.status.idle": "2021-02-08T17:35:42.822859Z",
     "shell.execute_reply": "2021-02-08T17:35:42.822340Z"
    },
    "id": "WOu2j0T3h7_z",
    "outputId": "94b95f88-8a07-4132-8f31-1bae27eec2e3",
    "papermill": {
     "duration": 0.09274,
     "end_time": "2021-02-08T17:35:42.823012",
     "exception": false,
     "start_time": "2021-02-08T17:35:42.730272",
     "status": "completed"
    },
    "tags": []
   },
   "outputs": [
    {
     "data": {
      "text/plain": [
       "Index(['SK_ID_CURR', 'TARGET', 'EXT_SOURCE_2', 'EXT_SOURCE_3', 'Age_in_years',\n",
       "       'REGION_RATING_CLIENT_W_CITY', 'REGION_RATING_CLIENT',\n",
       "       'DAYS_LAST_PHONE_CHANGE', 'DAYS_ID_PUBLISH', 'REG_CITY_NOT_WORK_CITY',\n",
       "       'FLAG_EMP_PHONE', 'Years_Employed', 'REG_CITY_NOT_LIVE_CITY',\n",
       "       'FLAG_DOCUMENT_3', 'DAYS_REGISTRATION', 'AMT_GOODS_PRICE_x',\n",
       "       'REGION_POPULATION_RELATIVE', 'LIVE_CITY_NOT_WORK_CITY',\n",
       "       'DEF_30_CNT_SOCIAL_CIRCLE', 'DEF_60_CNT_SOCIAL_CIRCLE', 'AMT_CREDIT_x',\n",
       "       'FLAG_DOCUMENT_6', 'FLAG_WORK_PHONE', 'HOUR_APPR_PROCESS_START_x',\n",
       "       'FLAG_PHONE', 'CNT_CHILDREN', 'AMT_REQ_CREDIT_BUREAU_MON',\n",
       "       'AMT_ANNUITY', 'AMT_REQ_CREDIT_BUREAU_YEAR', 'FLAG_DOCUMENT_16',\n",
       "       'FLAG_DOCUMENT_13', 'FLAG_DOCUMENT_14', 'OBS_30_CNT_SOCIAL_CIRCLE',\n",
       "       'OBS_60_CNT_SOCIAL_CIRCLE', 'CNT_FAM_MEMBERS', 'FLAG_DOCUMENT_8',\n",
       "       'FLAG_DOCUMENT_18', 'credit-income ratio', 'REG_REGION_NOT_WORK_REGION',\n",
       "       'FLAG_DOCUMENT_15', 'AMT_REQ_CREDIT_BUREAU_QRT', 'DAYS_CREDIT',\n",
       "       'DAYS_CREDIT_UPDATE', 'DAYS_CREDIT_ENDDATE', 'AMT_CREDIT_SUM_OVERDUE',\n",
       "       'CNT_PAYMENT', 'DAYS_DECISION', 'HOUR_APPR_PROCESS_START_y'],\n",
       "      dtype='object')"
      ]
     },
     "execution_count": 66,
     "metadata": {
      "tags": []
     },
     "output_type": "execute_result"
    }
   ],
   "source": [
    "df_train_final.columns"
   ]
  },
  {
   "cell_type": "code",
   "execution_count": null,
   "metadata": {
    "id": "x4WLDQxUgrzP",
    "outputId": "71391c8e-8972-4804-c950-f79e1fee8c79"
   },
   "outputs": [
    {
     "name": "stdout",
     "output_type": "stream",
     "text": [
      "<class 'pandas.core.frame.DataFrame'>\n",
      "Int64Index: 14318596 entries, 8 to 7409088\n",
      "Data columns (total 48 columns):\n",
      " #   Column                       Dtype  \n",
      "---  ------                       -----  \n",
      " 0   SK_ID_CURR                   int64  \n",
      " 1   TARGET                       int64  \n",
      " 2   EXT_SOURCE_2                 float64\n",
      " 3   EXT_SOURCE_3                 float64\n",
      " 4   Age_in_years                 float64\n",
      " 5   REGION_RATING_CLIENT_W_CITY  int64  \n",
      " 6   REGION_RATING_CLIENT         int64  \n",
      " 7   DAYS_LAST_PHONE_CHANGE       float64\n",
      " 8   DAYS_ID_PUBLISH              int64  \n",
      " 9   REG_CITY_NOT_WORK_CITY       int64  \n",
      " 10  FLAG_EMP_PHONE               int64  \n",
      " 11  Years_Employed               float64\n",
      " 12  REG_CITY_NOT_LIVE_CITY       int64  \n",
      " 13  FLAG_DOCUMENT_3              int64  \n",
      " 14  DAYS_REGISTRATION            float64\n",
      " 15  AMT_GOODS_PRICE_x            float64\n",
      " 16  REGION_POPULATION_RELATIVE   float64\n",
      " 17  LIVE_CITY_NOT_WORK_CITY      int64  \n",
      " 18  DEF_30_CNT_SOCIAL_CIRCLE     float64\n",
      " 19  DEF_60_CNT_SOCIAL_CIRCLE     float64\n",
      " 20  AMT_CREDIT_x                 float64\n",
      " 21  FLAG_DOCUMENT_6              int64  \n",
      " 22  FLAG_WORK_PHONE              int64  \n",
      " 23  HOUR_APPR_PROCESS_START_x    int64  \n",
      " 24  FLAG_PHONE                   int64  \n",
      " 25  CNT_CHILDREN                 int64  \n",
      " 26  AMT_REQ_CREDIT_BUREAU_MON    float64\n",
      " 27  AMT_ANNUITY                  float64\n",
      " 28  AMT_REQ_CREDIT_BUREAU_YEAR   float64\n",
      " 29  FLAG_DOCUMENT_16             int64  \n",
      " 30  FLAG_DOCUMENT_13             int64  \n",
      " 31  FLAG_DOCUMENT_14             int64  \n",
      " 32  OBS_30_CNT_SOCIAL_CIRCLE     float64\n",
      " 33  OBS_60_CNT_SOCIAL_CIRCLE     float64\n",
      " 34  CNT_FAM_MEMBERS              float64\n",
      " 35  FLAG_DOCUMENT_8              int64  \n",
      " 36  FLAG_DOCUMENT_18             int64  \n",
      " 37  credit-income ratio          float64\n",
      " 38  REG_REGION_NOT_WORK_REGION   int64  \n",
      " 39  FLAG_DOCUMENT_15             int64  \n",
      " 40  AMT_REQ_CREDIT_BUREAU_QRT    float64\n",
      " 41  DAYS_CREDIT                  int64  \n",
      " 42  DAYS_CREDIT_UPDATE           int64  \n",
      " 43  DAYS_CREDIT_ENDDATE          float64\n",
      " 44  AMT_CREDIT_SUM_OVERDUE       float64\n",
      " 45  CNT_PAYMENT                  float64\n",
      " 46  DAYS_DECISION                int64  \n",
      " 47  HOUR_APPR_PROCESS_START_y    int64  \n",
      "dtypes: float64(22), int64(26)\n",
      "memory usage: 5.2 GB\n"
     ]
    }
   ],
   "source": [
    "df_train_final.info()"
   ]
  },
  {
   "cell_type": "code",
   "execution_count": null,
   "metadata": {
    "id": "CQwv9LpLgrzP",
    "outputId": "d876d80e-3890-477e-fbb6-166db6e5467d"
   },
   "outputs": [
    {
     "data": {
      "text/plain": [
       "Index(['SK_ID_CURR', 'TARGET', 'EXT_SOURCE_2', 'EXT_SOURCE_3', 'Age_in_years',\n",
       "       'REGION_RATING_CLIENT_W_CITY', 'REGION_RATING_CLIENT',\n",
       "       'DAYS_LAST_PHONE_CHANGE', 'DAYS_ID_PUBLISH', 'REG_CITY_NOT_WORK_CITY',\n",
       "       'FLAG_EMP_PHONE', 'Years_Employed', 'REG_CITY_NOT_LIVE_CITY',\n",
       "       'FLAG_DOCUMENT_3', 'DAYS_REGISTRATION', 'AMT_GOODS_PRICE_x',\n",
       "       'REGION_POPULATION_RELATIVE', 'LIVE_CITY_NOT_WORK_CITY',\n",
       "       'DEF_30_CNT_SOCIAL_CIRCLE', 'DEF_60_CNT_SOCIAL_CIRCLE', 'AMT_CREDIT_x',\n",
       "       'FLAG_DOCUMENT_6', 'FLAG_WORK_PHONE', 'HOUR_APPR_PROCESS_START_x',\n",
       "       'FLAG_PHONE', 'CNT_CHILDREN', 'AMT_REQ_CREDIT_BUREAU_MON',\n",
       "       'AMT_ANNUITY', 'AMT_REQ_CREDIT_BUREAU_YEAR', 'FLAG_DOCUMENT_16',\n",
       "       'FLAG_DOCUMENT_13', 'FLAG_DOCUMENT_14', 'OBS_30_CNT_SOCIAL_CIRCLE',\n",
       "       'OBS_60_CNT_SOCIAL_CIRCLE', 'CNT_FAM_MEMBERS', 'FLAG_DOCUMENT_8',\n",
       "       'FLAG_DOCUMENT_18', 'credit-income ratio', 'REG_REGION_NOT_WORK_REGION',\n",
       "       'FLAG_DOCUMENT_15', 'AMT_REQ_CREDIT_BUREAU_QRT', 'DAYS_CREDIT',\n",
       "       'DAYS_CREDIT_UPDATE', 'DAYS_CREDIT_ENDDATE', 'AMT_CREDIT_SUM_OVERDUE',\n",
       "       'CNT_PAYMENT', 'DAYS_DECISION', 'HOUR_APPR_PROCESS_START_y'],\n",
       "      dtype='object')"
      ]
     },
     "execution_count": 68,
     "metadata": {
      "tags": []
     },
     "output_type": "execute_result"
    }
   ],
   "source": [
    "df_train_final.columns"
   ]
  },
  {
   "cell_type": "code",
   "execution_count": null,
   "metadata": {
    "id": "U-NfpCc_grzP",
    "outputId": "4168de7b-1d8b-40fe-c3e1-48fffc0d0604"
   },
   "outputs": [
    {
     "data": {
      "text/plain": [
       "['SK_ID_CURR',\n",
       " 'TARGET',\n",
       " 'EXT_SOURCE_2',\n",
       " 'EXT_SOURCE_3',\n",
       " 'Age_in_years',\n",
       " 'REGION_RATING_CLIENT_W_CITY',\n",
       " 'REGION_RATING_CLIENT',\n",
       " 'DAYS_LAST_PHONE_CHANGE',\n",
       " 'DAYS_ID_PUBLISH',\n",
       " 'REG_CITY_NOT_WORK_CITY',\n",
       " 'FLAG_EMP_PHONE',\n",
       " 'Years_Employed',\n",
       " 'REG_CITY_NOT_LIVE_CITY',\n",
       " 'FLAG_DOCUMENT_3',\n",
       " 'DAYS_REGISTRATION',\n",
       " 'AMT_GOODS_PRICE_x',\n",
       " 'REGION_POPULATION_RELATIVE',\n",
       " 'LIVE_CITY_NOT_WORK_CITY',\n",
       " 'DEF_30_CNT_SOCIAL_CIRCLE',\n",
       " 'DEF_60_CNT_SOCIAL_CIRCLE',\n",
       " 'AMT_CREDIT_x',\n",
       " 'FLAG_DOCUMENT_6',\n",
       " 'FLAG_WORK_PHONE',\n",
       " 'HOUR_APPR_PROCESS_START_x',\n",
       " 'FLAG_PHONE',\n",
       " 'CNT_CHILDREN',\n",
       " 'AMT_REQ_CREDIT_BUREAU_MON',\n",
       " 'AMT_ANNUITY',\n",
       " 'AMT_REQ_CREDIT_BUREAU_YEAR',\n",
       " 'FLAG_DOCUMENT_16',\n",
       " 'FLAG_DOCUMENT_13',\n",
       " 'FLAG_DOCUMENT_14',\n",
       " 'OBS_30_CNT_SOCIAL_CIRCLE',\n",
       " 'OBS_60_CNT_SOCIAL_CIRCLE',\n",
       " 'CNT_FAM_MEMBERS',\n",
       " 'FLAG_DOCUMENT_8',\n",
       " 'FLAG_DOCUMENT_18',\n",
       " 'credit-income ratio',\n",
       " 'REG_REGION_NOT_WORK_REGION',\n",
       " 'FLAG_DOCUMENT_15',\n",
       " 'AMT_REQ_CREDIT_BUREAU_QRT',\n",
       " 'DAYS_CREDIT',\n",
       " 'DAYS_CREDIT_UPDATE',\n",
       " 'DAYS_CREDIT_ENDDATE',\n",
       " 'AMT_CREDIT_SUM_OVERDUE',\n",
       " 'CNT_PAYMENT',\n",
       " 'DAYS_DECISION',\n",
       " 'HOUR_APPR_PROCESS_START_y']"
      ]
     },
     "execution_count": 69,
     "metadata": {
      "tags": []
     },
     "output_type": "execute_result"
    }
   ],
   "source": [
    "df_train_final.columns.tolist()"
   ]
  },
  {
   "cell_type": "code",
   "execution_count": null,
   "metadata": {
    "id": "u1gZzdrsgrzP",
    "outputId": "ef67780f-90c1-4fa2-9403-ac74c2b14c12"
   },
   "outputs": [
    {
     "name": "stdout",
     "output_type": "stream",
     "text": [
      "<class 'pandas.core.frame.DataFrame'>\n",
      "Int64Index: 14318596 entries, 8 to 7409088\n",
      "Data columns (total 48 columns):\n",
      " #   Column                       Dtype  \n",
      "---  ------                       -----  \n",
      " 0   SK_ID_CURR                   int32  \n",
      " 1   TARGET                       int32  \n",
      " 2   EXT_SOURCE_2                 float32\n",
      " 3   EXT_SOURCE_3                 float32\n",
      " 4   Age_in_years                 float32\n",
      " 5   REGION_RATING_CLIENT_W_CITY  int32  \n",
      " 6   REGION_RATING_CLIENT         int32  \n",
      " 7   DAYS_LAST_PHONE_CHANGE       float32\n",
      " 8   DAYS_ID_PUBLISH              int32  \n",
      " 9   REG_CITY_NOT_WORK_CITY       int32  \n",
      " 10  FLAG_EMP_PHONE               int32  \n",
      " 11  Years_Employed               float32\n",
      " 12  REG_CITY_NOT_LIVE_CITY       int32  \n",
      " 13  FLAG_DOCUMENT_3              int32  \n",
      " 14  DAYS_REGISTRATION            float32\n",
      " 15  AMT_GOODS_PRICE_x            float32\n",
      " 16  REGION_POPULATION_RELATIVE   float32\n",
      " 17  LIVE_CITY_NOT_WORK_CITY      int32  \n",
      " 18  DEF_30_CNT_SOCIAL_CIRCLE     float32\n",
      " 19  DEF_60_CNT_SOCIAL_CIRCLE     float32\n",
      " 20  AMT_CREDIT_x                 float32\n",
      " 21  FLAG_DOCUMENT_6              int32  \n",
      " 22  FLAG_WORK_PHONE              int32  \n",
      " 23  HOUR_APPR_PROCESS_START_x    int32  \n",
      " 24  FLAG_PHONE                   int32  \n",
      " 25  CNT_CHILDREN                 int32  \n",
      " 26  AMT_REQ_CREDIT_BUREAU_MON    float32\n",
      " 27  AMT_ANNUITY                  float32\n",
      " 28  AMT_REQ_CREDIT_BUREAU_YEAR   float32\n",
      " 29  FLAG_DOCUMENT_16             int32  \n",
      " 30  FLAG_DOCUMENT_13             int32  \n",
      " 31  FLAG_DOCUMENT_14             int32  \n",
      " 32  OBS_30_CNT_SOCIAL_CIRCLE     float32\n",
      " 33  OBS_60_CNT_SOCIAL_CIRCLE     float32\n",
      " 34  CNT_FAM_MEMBERS              float32\n",
      " 35  FLAG_DOCUMENT_8              int32  \n",
      " 36  FLAG_DOCUMENT_18             int32  \n",
      " 37  credit-income ratio          float32\n",
      " 38  REG_REGION_NOT_WORK_REGION   int32  \n",
      " 39  FLAG_DOCUMENT_15             int32  \n",
      " 40  AMT_REQ_CREDIT_BUREAU_QRT    float32\n",
      " 41  DAYS_CREDIT                  int32  \n",
      " 42  DAYS_CREDIT_UPDATE           int32  \n",
      " 43  DAYS_CREDIT_ENDDATE          float32\n",
      " 44  AMT_CREDIT_SUM_OVERDUE       float32\n",
      " 45  CNT_PAYMENT                  float32\n",
      " 46  DAYS_DECISION                int32  \n",
      " 47  HOUR_APPR_PROCESS_START_y    int32  \n",
      "dtypes: float32(22), int32(26)\n",
      "memory usage: 2.7 GB\n",
      "None\n"
     ]
    }
   ],
   "source": [
    "for i in df_train_final:\n",
    "   \n",
    "    curr_type = df_train_final.dtypes[i]\n",
    "    if curr_type == 'int64':\n",
    "        new_type = 'int32'\n",
    "    elif curr_type == 'float64':\n",
    "        new_type = 'float32'\n",
    "    else:\n",
    "        new_type = curr_type\n",
    "        \n",
    "    df_train_final[i] = df_train_final[i].astype(new_type)\n",
    "    \n",
    "print(df_train_final.info())       "
   ]
  },
  {
   "cell_type": "code",
   "execution_count": null,
   "metadata": {
    "execution": {
     "iopub.execute_input": "2021-02-08T17:35:42.990576Z",
     "iopub.status.busy": "2021-02-08T17:35:42.986721Z",
     "iopub.status.idle": "2021-02-08T17:35:44.866734Z",
     "shell.execute_reply": "2021-02-08T17:35:44.865937Z"
    },
    "id": "QshbV3xgh7_z",
    "papermill": {
     "duration": 1.966457,
     "end_time": "2021-02-08T17:35:44.866907",
     "exception": false,
     "start_time": "2021-02-08T17:35:42.900450",
     "status": "completed"
    },
    "tags": []
   },
   "outputs": [],
   "source": [
    "\n",
    "# df_train_final[\"SK_ID_CURR\"] = df_train_final[\"SK_ID_CURR\"].astype(\"int32\") \n",
    "# df_train_final[\"TARGET\"] = df_train_final[\"TARGET\"].astype(\"int16\") \n",
    "# df_train_final[\"EXT_SOURCE_2\"] = df_train_final[\"EXT_SOURCE_2\"].astype(\"float32\") \n",
    "# df_train_final[\"EXT_SOURCE_3\"] = df_train_final[\"EXT_SOURCE_3\"].astype(\"float32\") \n",
    "# df_train_final[\"Age_in_years\"] = df_train_final[\"Age_in_years\"].astype(\"int16\") \n",
    "# df_train_final[\"REGION_RATING_CLIENT_W_CITY\"] = df_train_final[\"REGION_RATING_CLIENT_W_CITY\"].astype(\"int16\") \n",
    "# df_train_final[\"REGION_RATING_CLIENT\"] = df_train_final[\"REGION_RATING_CLIENT\"].astype(\"int16\") \n",
    "# df_train_final[\"DAYS_LAST_PHONE_CHANGE\"] = df_train_final[\"DAYS_LAST_PHONE_CHANGE\"].astype(\"int16\") \n",
    "# df_train_final[\"DAYS_ID_PUBLISH\"] = df_train_final[\"DAYS_ID_PUBLISH\"].astype(\"int32\") \n",
    "# df_train_final[\"REG_CITY_NOT_WORK_CITY\"] = df_train_final[\"REG_CITY_NOT_WORK_CITY\"].astype(\"int32\") \n",
    "# df_train_final[\"FLAG_EMP_PHONE\"] = df_train_final[\"FLAG_EMP_PHONE\"].astype(\"int16\") \n",
    "# df_train_final[\"Years_Employed\"] = df_train_final[\"Years_Employed\"].astype(\"int16\") \n",
    "# df_train_final[\"REG_CITY_NOT_LIVE_CITY\"] = df_train_final[\"REG_CITY_NOT_LIVE_CITY\"].astype(\"int32\") \n",
    "# df_train_final[\"FLAG_DOCUMENT_3\"] = df_train_final[\"FLAG_DOCUMENT_3\"].astype(\"int16\") \n",
    "# df_train_final[\"DAYS_REGISTRATION\"] = df_train_final[\"DAYS_REGISTRATION\"].astype(\"int32\") \n",
    "# df_train_final[\"AMT_GOODS_PRICE_x\"] = df_train_final[\"AMT_GOODS_PRICE_x\"].astype(\"float32\") \n",
    "# df_train_final[\"DAYS_CREDIT\"] = df_train_final[\"TARGET\"].astype(\"int16\") \n",
    "# df_train_final[\"DAYS_CREDIT_UPDATE\"] = df_train_final[\"DAYS_CREDIT_UPDATE\"].astype(\"float32\") \n",
    "# df_train_final[\"DAYS_CREDIT_ENDDATE\"] = df_train_final[\"DAYS_CREDIT_ENDDATE\"].astype(\"float32\") \n",
    "# df_train_final[\"AMT_CREDIT_SUM_OVERDUE\"] = df_train_final[\"AMT_CREDIT_SUM_OVERDUE\"].astype(\"int16\") \n",
    "# df_train_final[\"CNT_PAYMENT\"] = df_train_final[\"CNT_PAYMENT\"].astype(\"float32\") \n",
    "# df_train_final[\"DAYS_DECISION\"] = df_train_final[\"DAYS_DECISION\"].astype(\"int16\") \n",
    "# df_train_final[\"AMT_CREDIT\"] = df_train_final[\"AMT_CREDIT\"].astype(\"int32\") \n",
    "# df_train_final[\"HOUR_APPR_PROCESS_START\"] = df_train_final[\"HOUR_APPR_PROCESS_START\"].astype(\"int16\") "
   ]
  },
  {
   "cell_type": "code",
   "execution_count": null,
   "metadata": {
    "execution": {
     "iopub.execute_input": "2021-02-08T17:35:45.032889Z",
     "iopub.status.busy": "2021-02-08T17:35:45.032180Z",
     "iopub.status.idle": "2021-02-08T17:35:50.412190Z",
     "shell.execute_reply": "2021-02-08T17:35:50.412755Z"
    },
    "id": "V8EQnJQLh7_z",
    "papermill": {
     "duration": 5.466358,
     "end_time": "2021-02-08T17:35:50.412958",
     "exception": false,
     "start_time": "2021-02-08T17:35:44.946600",
     "status": "completed"
    },
    "tags": []
   },
   "outputs": [],
   "source": [
    "from sklearn.model_selection import train_test_split\n",
    "X=df_train_final[['SK_ID_CURR', 'EXT_SOURCE_2', 'EXT_SOURCE_3', 'Age_in_years',\n",
    "       'REGION_RATING_CLIENT_W_CITY', 'REGION_RATING_CLIENT',\n",
    "       'DAYS_LAST_PHONE_CHANGE', 'DAYS_ID_PUBLISH', 'REG_CITY_NOT_WORK_CITY',\n",
    "       'FLAG_EMP_PHONE', 'Years_Employed', 'REG_CITY_NOT_LIVE_CITY',\n",
    "       'FLAG_DOCUMENT_3', 'DAYS_REGISTRATION', 'AMT_GOODS_PRICE_x',\n",
    "       'REGION_POPULATION_RELATIVE', 'LIVE_CITY_NOT_WORK_CITY',\n",
    "       'DEF_30_CNT_SOCIAL_CIRCLE', 'DEF_60_CNT_SOCIAL_CIRCLE', 'AMT_CREDIT_x',\n",
    "       'FLAG_DOCUMENT_6', 'FLAG_WORK_PHONE', 'HOUR_APPR_PROCESS_START_x',\n",
    "       'FLAG_PHONE', 'CNT_CHILDREN', 'AMT_REQ_CREDIT_BUREAU_MON',\n",
    "       'AMT_ANNUITY', 'AMT_REQ_CREDIT_BUREAU_YEAR', 'FLAG_DOCUMENT_16',\n",
    "       'FLAG_DOCUMENT_13', 'FLAG_DOCUMENT_14', 'OBS_30_CNT_SOCIAL_CIRCLE',\n",
    "       'OBS_60_CNT_SOCIAL_CIRCLE', 'CNT_FAM_MEMBERS', 'FLAG_DOCUMENT_8',\n",
    "       'FLAG_DOCUMENT_18', 'credit-income ratio', 'REG_REGION_NOT_WORK_REGION',\n",
    "       'FLAG_DOCUMENT_15', 'AMT_REQ_CREDIT_BUREAU_QRT', 'DAYS_CREDIT',\n",
    "       'DAYS_CREDIT_UPDATE', 'DAYS_CREDIT_ENDDATE', 'AMT_CREDIT_SUM_OVERDUE',\n",
    "       'CNT_PAYMENT', 'DAYS_DECISION',\n",
    "       'HOUR_APPR_PROCESS_START_y']]\n",
    "y=df_train_final['TARGET']\n"
   ]
  },
  {
   "cell_type": "code",
   "execution_count": null,
   "metadata": {
    "id": "uaXZA0AtgrzQ"
   },
   "outputs": [],
   "source": [
    "X.to_csv('X.csv', index=False)\n",
    "y.to_csv('y.csv', index=False)\n",
    "X.to_csv('X_index.csv')\n",
    "y.to_csv('y_index.csv')"
   ]
  },
  {
   "cell_type": "code",
   "execution_count": null,
   "metadata": {
    "id": "Xv3noa-pgrzQ"
   },
   "outputs": [],
   "source": [
    "X_train, X_test, y_train, y_test = train_test_split(X, y, test_size=0.3, random_state=13)"
   ]
  },
  {
   "cell_type": "code",
   "execution_count": null,
   "metadata": {
    "id": "igLpfs2ygrzQ"
   },
   "outputs": [],
   "source": [
    "X_train.to_csv('X_train.csv', index=False)\n",
    "X_test.to_csv('X_test.csv', index=False)\n",
    "y_train.to_csv('y_train.csv', index=False)\n",
    "y_test.to_csv('y_test_index.csv', index=False)\n",
    "X_train.to_csv('X_train_index.csv')\n",
    "X_test.to_csv('X_test_index.csv')\n",
    "y_train.to_csv('y_train_index.csv')\n",
    "y_test.to_csv('y_test_index.csv')\n",
    "\n"
   ]
  },
  {
   "cell_type": "code",
   "execution_count": null,
   "metadata": {
    "execution": {
     "iopub.execute_input": "2021-02-08T17:35:50.573623Z",
     "iopub.status.busy": "2021-02-08T17:35:50.572595Z",
     "iopub.status.idle": "2021-02-08T17:35:50.575444Z",
     "shell.execute_reply": "2021-02-08T17:35:50.574739Z"
    },
    "id": "fdNbC5KOh7_0",
    "papermill": {
     "duration": 0.085247,
     "end_time": "2021-02-08T17:35:50.575590",
     "exception": false,
     "start_time": "2021-02-08T17:35:50.490343",
     "status": "completed"
    },
    "tags": []
   },
   "outputs": [],
   "source": [
    "from sklearn.metrics import roc_auc_score\n",
    "import pickle\n",
    "from sklearn.metrics import classification_report"
   ]
  },
  {
   "cell_type": "code",
   "execution_count": null,
   "metadata": {
    "execution": {
     "iopub.execute_input": "2021-02-08T17:35:50.738947Z",
     "iopub.status.busy": "2021-02-08T17:35:50.738300Z",
     "iopub.status.idle": "2021-02-08T17:37:42.999106Z",
     "shell.execute_reply": "2021-02-08T17:37:42.999649Z"
    },
    "id": "EUOKy7trh7_0",
    "outputId": "6b0fa1a8-6ceb-433e-88fe-91949db8d81c",
    "papermill": {
     "duration": 112.345906,
     "end_time": "2021-02-08T17:37:42.999911",
     "exception": false,
     "start_time": "2021-02-08T17:35:50.654005",
     "status": "completed"
    },
    "tags": []
   },
   "outputs": [
    {
     "data": {
      "text/plain": [
       "0.5751961430936113"
      ]
     },
     "execution_count": 78,
     "metadata": {
      "tags": []
     },
     "output_type": "execute_result"
    }
   ],
   "source": [
    "from sklearn.linear_model import LogisticRegression\n",
    "logisticRegr = LogisticRegression(C=0.001)\n",
    "logisticRegr.fit(X_train, y_train)\n",
    "predictions = logisticRegr.predict(X_test)\n",
    "\n",
    "auc_score = roc_auc_score(y_test, predictions)\n",
    "auc_score"
   ]
  },
  {
   "cell_type": "code",
   "execution_count": null,
   "metadata": {
    "execution": {
     "iopub.execute_input": "2021-02-08T17:37:43.163419Z",
     "iopub.status.busy": "2021-02-08T17:37:43.162620Z",
     "iopub.status.idle": "2021-02-08T17:37:43.166725Z",
     "shell.execute_reply": "2021-02-08T17:37:43.167435Z"
    },
    "id": "NiG67hXah7_0",
    "outputId": "303a9ae4-2791-4044-f34b-99c47774a0ea",
    "papermill": {
     "duration": 0.089581,
     "end_time": "2021-02-08T17:37:43.167631",
     "exception": false,
     "start_time": "2021-02-08T17:37:43.078050",
     "status": "completed"
    },
    "tags": []
   },
   "outputs": [
    {
     "name": "stdout",
     "output_type": "stream",
     "text": [
      "              precision    recall  f1-score   support\n",
      "\n",
      "           0       0.57      0.61      0.59   2147081\n",
      "           1       0.58      0.54      0.56   2148498\n",
      "\n",
      "    accuracy                           0.58   4295579\n",
      "   macro avg       0.58      0.58      0.57   4295579\n",
      "weighted avg       0.58      0.58      0.57   4295579\n",
      "\n"
     ]
    }
   ],
   "source": [
    "print(classification_report(y_test, predictions))"
   ]
  },
  {
   "cell_type": "code",
   "execution_count": null,
   "metadata": {
    "execution": {
     "iopub.execute_input": "2021-02-08T17:37:43.330837Z",
     "iopub.status.busy": "2021-02-08T17:37:43.330183Z",
     "iopub.status.idle": "2021-02-08T17:37:53.230447Z",
     "shell.execute_reply": "2021-02-08T17:37:53.229772Z"
    },
    "id": "fv25v151h7_0",
    "papermill": {
     "duration": 9.984513,
     "end_time": "2021-02-08T17:37:53.230626",
     "exception": false,
     "start_time": "2021-02-08T17:37:43.246113",
     "status": "completed"
    },
    "tags": []
   },
   "outputs": [],
   "source": [
    "filename = 'logistic50.sav'\n",
    "pickle.dump(logisticRegr, open(filename, 'wb'))"
   ]
  },
  {
   "cell_type": "code",
   "execution_count": null,
   "metadata": {
    "execution": {
     "iopub.execute_input": "2021-02-08T17:37:53.398205Z",
     "iopub.status.busy": "2021-02-08T17:37:53.397343Z",
     "iopub.status.idle": "2021-02-08T18:50:49.267194Z",
     "shell.execute_reply": "2021-02-08T18:50:49.267767Z"
    },
    "id": "mf26cQjlh7_0",
    "outputId": "0ecc1477-2703-413b-9b84-656fab613bb6",
    "papermill": {
     "duration": 4375.956582,
     "end_time": "2021-02-08T18:50:49.268069",
     "exception": false,
     "start_time": "2021-02-08T17:37:53.311487",
     "status": "completed"
    },
    "tags": []
   },
   "outputs": [
    {
     "data": {
      "text/plain": [
       "0.9999993016842544"
      ]
     },
     "execution_count": 82,
     "metadata": {
      "tags": []
     },
     "output_type": "execute_result"
    }
   ],
   "source": [
    "from sklearn.ensemble import RandomForestClassifier \n",
    "clf = RandomForestClassifier()  \n",
    "clf.fit(X_train, y_train) \n",
    "y_pred = clf.predict(X_test)\n",
    "auc_score1 = roc_auc_score(y_test, y_pred)\n",
    "auc_score1"
   ]
  },
  {
   "cell_type": "code",
   "execution_count": null,
   "metadata": {
    "id": "ph94_RH5grzR",
    "outputId": "c941b067-a1da-4524-aa2f-3f15f0f3e98c"
   },
   "outputs": [
    {
     "name": "stdout",
     "output_type": "stream",
     "text": [
      "              precision    recall  f1-score   support\n",
      "\n",
      "           0       1.00      1.00      1.00   2147081\n",
      "           1       1.00      1.00      1.00   2148498\n",
      "\n",
      "    accuracy                           1.00   4295579\n",
      "   macro avg       1.00      1.00      1.00   4295579\n",
      "weighted avg       1.00      1.00      1.00   4295579\n",
      "\n"
     ]
    }
   ],
   "source": [
    "print(classification_report(y_test, y_pred))"
   ]
  },
  {
   "cell_type": "code",
   "execution_count": null,
   "metadata": {
    "id": "6x5ztunbgrzS"
   },
   "outputs": [],
   "source": [
    "filename = 'randomForest50.sav'\n",
    "pickle.dump(clf, open(filename, 'wb'))"
   ]
  },
  {
   "cell_type": "code",
   "execution_count": null,
   "metadata": {
    "id": "8YGSofpggrzS",
    "outputId": "e2dc1668-0506-43c2-d913-49312307bfe9"
   },
   "outputs": [
    {
     "name": "stdout",
     "output_type": "stream",
     "text": [
      "[02:30:44] WARNING: C:/Users/Administrator/workspace/xgboost-win64_release_1.3.0/src/learner.cc:1061: Starting in XGBoost 1.3.0, the default evaluation metric used with the objective 'binary:logistic' was changed from 'error' to 'logloss'. Explicitly set eval_metric if you'd like to restore the old behavior.\n"
     ]
    },
    {
     "data": {
      "text/plain": [
       "XGBClassifier(base_score=0.5, booster='gbtree', colsample_bylevel=1,\n",
       "              colsample_bynode=1, colsample_bytree=1, gamma=0, gpu_id=-1,\n",
       "              importance_type='gain', interaction_constraints='',\n",
       "              learning_rate=0.300000012, max_delta_step=0, max_depth=6,\n",
       "              min_child_weight=1, missing=nan, monotone_constraints='()',\n",
       "              n_estimators=100, n_jobs=8, num_parallel_tree=1, random_state=0,\n",
       "              reg_alpha=0, reg_lambda=1, scale_pos_weight=1, subsample=1,\n",
       "              tree_method='approx', validate_parameters=1, verbosity=None)"
      ]
     },
     "execution_count": 85,
     "metadata": {
      "tags": []
     },
     "output_type": "execute_result"
    }
   ],
   "source": [
    "import xgboost as xgb\n",
    "from xgboost.sklearn import XGBClassifier\n",
    "from sklearn.model_selection import GridSearchCV\n",
    "\n",
    "model = XGBClassifier()\n",
    "model.fit(X_train,y_train)\n"
   ]
  },
  {
   "cell_type": "code",
   "execution_count": null,
   "metadata": {
    "id": "I7lqUxWpgrzS"
   },
   "outputs": [],
   "source": [
    "pred= model.predict(X_test)"
   ]
  },
  {
   "cell_type": "code",
   "execution_count": null,
   "metadata": {
    "id": "eXGAHCxcgrzS",
    "outputId": "8dc499fe-92ad-4c19-d9ad-01cd857380b7"
   },
   "outputs": [
    {
     "name": "stdout",
     "output_type": "stream",
     "text": [
      "              precision    recall  f1-score   support\n",
      "\n",
      "           0       0.82      0.82      0.82   2147081\n",
      "           1       0.82      0.82      0.82   2148498\n",
      "\n",
      "    accuracy                           0.82   4295579\n",
      "   macro avg       0.82      0.82      0.82   4295579\n",
      "weighted avg       0.82      0.82      0.82   4295579\n",
      "\n"
     ]
    }
   ],
   "source": [
    "auc_score2 = roc_auc_score(y_test, pred)\n",
    "auc_score2\n",
    "print(classification_report(y_test, pred))"
   ]
  },
  {
   "cell_type": "code",
   "execution_count": null,
   "metadata": {
    "id": "ZIKIuezOgrzS"
   },
   "outputs": [],
   "source": [
    "filename = 'xgboost50_withouthyper.sav'\n",
    "\n",
    "pickle.dump(model, open(filename, 'wb'))"
   ]
  },
  {
   "cell_type": "code",
   "execution_count": null,
   "metadata": {
    "execution": {
     "iopub.execute_input": "2021-02-08T18:50:49.441807Z",
     "iopub.status.busy": "2021-02-08T18:50:49.441074Z",
     "iopub.status.idle": "2021-02-08T19:55:30.487634Z",
     "shell.execute_reply": "2021-02-08T19:55:30.488240Z"
    },
    "id": "tYDZ89KTh7_1",
    "papermill": {
     "duration": 3881.138899,
     "end_time": "2021-02-08T19:55:30.488563",
     "exception": false,
     "start_time": "2021-02-08T18:50:49.349664",
     "status": "completed"
    },
    "tags": []
   },
   "outputs": [],
   "source": [
    "import xgboost as xgb\n",
    "from xgboost.sklearn import XGBClassifier\n",
    "from sklearn.model_selection import GridSearchCV\n",
    "\n",
    "model = XGBClassifier(learning_rate =0.1,\n",
    " n_estimators=200,\n",
    " max_depth=5,\n",
    " min_child_weight=2,\n",
    " gamma=0,\n",
    " subsample=0.8,\n",
    " colsample_bytree=0.8,\n",
    " eval_metric = \"auc\",\n",
    " nthread=4,\n",
    " scale_pos_weight=1,\n",
    " seed=27)\n",
    "model.fit(X_train,y_train)\n",
    "\n",
    "\n"
   ]
  },
  {
   "cell_type": "code",
   "execution_count": null,
   "metadata": {
    "id": "n3wOGXhugrzT"
   },
   "outputs": [],
   "source": [
    "pred= model.predict(X_test) "
   ]
  },
  {
   "cell_type": "code",
   "execution_count": null,
   "metadata": {
    "id": "2MQsQxeTgrzT"
   },
   "outputs": [],
   "source": [
    "auc_score2 = roc_auc_score(y_test, pred)\n",
    "auc_score2\n",
    "print(classification_report(y_test, pred))\n"
   ]
  },
  {
   "cell_type": "code",
   "execution_count": null,
   "metadata": {
    "id": "ygtk-ajzgrzT"
   },
   "outputs": [],
   "source": [
    "filename = 'xgboost50.sav'\n",
    "\n",
    "pickle.dump(model, open(filename, 'wb'))"
   ]
  },
  {
   "cell_type": "code",
   "execution_count": null,
   "metadata": {
    "id": "6XpN3JyggrzT"
   },
   "outputs": [],
   "source": [
    "from lightgbm import LGBMClassifier\n",
    "LGBM_clf = LGBMClassifier()\n",
    "LGBM_clf.fit(X_train, y_train)\n",
    "LGBM_clf_pred = LGBM_clf.predict_proba(X_test)[:, 1]\n",
    "filename = 'lgbm_model50_without.sav'\n",
    "pickle.dump(LGBM_clf, open(filename, 'wb'))"
   ]
  },
  {
   "cell_type": "code",
   "execution_count": null,
   "metadata": {
    "id": "Ax35JAVIgrzT",
    "outputId": "37431b3d-1ea5-4091-d4a0-63fe69e839c0"
   },
   "outputs": [
    {
     "data": {
      "text/plain": [
       "0.8249977445379195"
      ]
     },
     "execution_count": 94,
     "metadata": {
      "tags": []
     },
     "output_type": "execute_result"
    }
   ],
   "source": [
    "auc_score3 = roc_auc_score(y_test, LGBM_clf_pred)\n",
    "auc_score3"
   ]
  },
  {
   "cell_type": "code",
   "execution_count": null,
   "metadata": {
    "id": "zZZMnFmmgrzU",
    "outputId": "bf3fc63f-0f3c-4bad-a8f7-a14171d08360"
   },
   "outputs": [
    {
     "name": "stdout",
     "output_type": "stream",
     "text": [
      "[LightGBM] [Warning] min_data_in_leaf is set=30, min_child_samples=20 will be ignored. Current value: min_data_in_leaf=30\n"
     ]
    }
   ],
   "source": [
    "from lightgbm import LGBMClassifier\n",
    "LGBM_clf = LGBMClassifier(n_estimators = 10000,\n",
    "                          learning_rate = 0.02,\n",
    "                          min_data_in_leaf = 30,\n",
    "                          num_leaves = 31,\n",
    "                          boosting_type='gbdt', \n",
    "                          objective='binary', \n",
    "                          metric='binary_logloss')\n",
    "LGBM_clf.fit(X_train, y_train)\n",
    "LGBM_clf_pred = LGBM_clf.predict_proba(X_test)[:, 1]"
   ]
  },
  {
   "cell_type": "code",
   "execution_count": null,
   "metadata": {
    "id": "s1uHGiZfgrzU",
    "outputId": "3a275351-94c4-4d0c-e8af-8db39d33384d"
   },
   "outputs": [
    {
     "data": {
      "text/plain": [
       "0.9902838866908175"
      ]
     },
     "execution_count": 96,
     "metadata": {
      "tags": []
     },
     "output_type": "execute_result"
    }
   ],
   "source": [
    "auc_score3 = roc_auc_score(y_test, LGBM_clf_pred)\n",
    "auc_score3"
   ]
  },
  {
   "cell_type": "code",
   "execution_count": null,
   "metadata": {
    "id": "ZfYCcjU7grzU"
   },
   "outputs": [],
   "source": [
    "filename = 'lgbm_model50.sav'\n",
    "\n",
    "pickle.dump(LGBM_clf, open(filename, 'wb'))"
   ]
  },
  {
   "cell_type": "code",
   "execution_count": null,
   "metadata": {
    "id": "KGLr01vQgrzU"
   },
   "outputs": [],
   "source": []
  }
 ],
 "metadata": {
  "accelerator": "GPU",
  "colab": {
   "name": "Final_Home_Credit.ipynb",
   "provenance": []
  },
  "kernelspec": {
   "display_name": "Python 3",
   "language": "python",
   "name": "python3"
  },
  "language_info": {
   "codemirror_mode": {
    "name": "ipython",
    "version": 3
   },
   "file_extension": ".py",
   "mimetype": "text/x-python",
   "name": "python",
   "nbconvert_exporter": "python",
   "pygments_lexer": "ipython3",
   "version": "3.7.4"
  },
  "papermill": {
   "default_parameters": {},
   "duration": 8643.520112,
   "end_time": "2021-02-08T19:55:36.005378",
   "environment_variables": {},
   "exception": null,
   "input_path": "__notebook__.ipynb",
   "output_path": "__notebook__.ipynb",
   "parameters": {},
   "start_time": "2021-02-08T17:31:32.485266",
   "version": "2.2.2"
  }
 },
 "nbformat": 4,
 "nbformat_minor": 1
}
